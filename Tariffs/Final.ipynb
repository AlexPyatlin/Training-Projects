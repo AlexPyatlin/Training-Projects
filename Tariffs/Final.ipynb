{
 "cells": [
  {
   "cell_type": "markdown",
   "metadata": {},
   "source": [
    "# Описание проекта"
   ]
  },
  {
   "cell_type": "markdown",
   "metadata": {},
   "source": [
    "Компания (федеральный оператор сотовой связи) предлагает клиентам два тарифных плана: \"Смарт\" и \"Ультра\". В целях корректировки рекламного бюджета маркетинговый департамент хочет выбрать наиболее прибыльный тариф. В распоряжении есть выборка из 500 клиентов за 2018 год: статистика звонков, интернет трафике, отправленных сообщениях и данные клиентов.\n",
    "\n",
    "Описание тарифов:\n",
    "\n",
    "*Тариф «Смарт»*:\n",
    "1. Ежемесячная плата: 550 рублей\n",
    "2. Включено 500 минут разговора, 50 сообщений и 15 Гб интернет-трафика\n",
    "3. Стоимость услуг сверх тарифного пакета:\n",
    "    - минута разговора: 3 рубля\n",
    "    - сообщение: 3 рубля\n",
    "    - 1 Гб интернет-трафика: 200 рублей\n",
    "\n",
    "*Тариф «Ультра»*:\n",
    "1. Ежемесячная плата: 1950 рублей\n",
    "2. Включено 3000 минут разговора, 1000 сообщений и 30 Гб интернет-трафика\n",
    "3. Стоимость услуг сверх тарифного пакета:\n",
    "    - минута разговора: 1 рубль\n",
    "    - сообщение: 1 рубль\n",
    "    - 1 Гб интернет-трафика: 150 рублей\n",
    "\n",
    "**Цель исследования:** проанализировать поведение клиентов и выбрать наиболее прибыльный тариф.\n",
    "\n",
    "Содержание:\n",
    "1. [Изучение общей информации о данных](#1);\n",
    "2. [Предобработка данных](#2);\n",
    "3. [Расчет основных метрик (количество звонков, смс, трафик, выручка)](#3);\n",
    "4. [Исследовательский анализ](#4);\n",
    "5. [Проверка гипотез](#5);\n",
    "6. [Выводы](#6)."
   ]
  },
  {
   "cell_type": "markdown",
   "metadata": {},
   "source": [
    "## Изучение данных из файлов¶\n",
    "<a id=\"1\"></a>"
   ]
  },
  {
   "cell_type": "code",
   "execution_count": 1,
   "metadata": {},
   "outputs": [],
   "source": [
    "%config InlineBackend.figure_format='retina'\n",
    "\n",
    "import pandas as pd\n",
    "import matplotlib.pyplot as plt\n",
    "import seaborn as sns\n",
    "import numpy as np\n",
    "from scipy import stats as st"
   ]
  },
  {
   "cell_type": "code",
   "execution_count": 2,
   "metadata": {},
   "outputs": [],
   "source": [
    "data_calls = pd.read_csv('calls.csv')\n",
    "data_internet = pd.read_csv('internet.csv')\n",
    "data_messages = pd.read_csv('messages.csv')\n",
    "data_tariffs = pd.read_csv('tariffs.csv')\n",
    "data_users = pd.read_csv('users.csv')"
   ]
  },
  {
   "cell_type": "markdown",
   "metadata": {},
   "source": [
    "## Предобработка данных\n",
    "<a id=\"2\"></a>"
   ]
  },
  {
   "cell_type": "code",
   "execution_count": 3,
   "metadata": {},
   "outputs": [
    {
     "data": {
      "text/html": [
       "<div>\n",
       "<style scoped>\n",
       "    .dataframe tbody tr th:only-of-type {\n",
       "        vertical-align: middle;\n",
       "    }\n",
       "\n",
       "    .dataframe tbody tr th {\n",
       "        vertical-align: top;\n",
       "    }\n",
       "\n",
       "    .dataframe thead th {\n",
       "        text-align: right;\n",
       "    }\n",
       "</style>\n",
       "<table border=\"1\" class=\"dataframe\">\n",
       "  <thead>\n",
       "    <tr style=\"text-align: right;\">\n",
       "      <th></th>\n",
       "      <th>id</th>\n",
       "      <th>call_date</th>\n",
       "      <th>duration</th>\n",
       "      <th>user_id</th>\n",
       "    </tr>\n",
       "  </thead>\n",
       "  <tbody>\n",
       "    <tr>\n",
       "      <th>0</th>\n",
       "      <td>1000_0</td>\n",
       "      <td>2018-07-25</td>\n",
       "      <td>0.00</td>\n",
       "      <td>1000</td>\n",
       "    </tr>\n",
       "    <tr>\n",
       "      <th>1</th>\n",
       "      <td>1000_1</td>\n",
       "      <td>2018-08-17</td>\n",
       "      <td>0.00</td>\n",
       "      <td>1000</td>\n",
       "    </tr>\n",
       "    <tr>\n",
       "      <th>2</th>\n",
       "      <td>1000_2</td>\n",
       "      <td>2018-06-11</td>\n",
       "      <td>2.85</td>\n",
       "      <td>1000</td>\n",
       "    </tr>\n",
       "    <tr>\n",
       "      <th>3</th>\n",
       "      <td>1000_3</td>\n",
       "      <td>2018-09-21</td>\n",
       "      <td>13.80</td>\n",
       "      <td>1000</td>\n",
       "    </tr>\n",
       "    <tr>\n",
       "      <th>4</th>\n",
       "      <td>1000_4</td>\n",
       "      <td>2018-12-15</td>\n",
       "      <td>5.18</td>\n",
       "      <td>1000</td>\n",
       "    </tr>\n",
       "  </tbody>\n",
       "</table>\n",
       "</div>"
      ],
      "text/plain": [
       "       id   call_date  duration  user_id\n",
       "0  1000_0  2018-07-25      0.00     1000\n",
       "1  1000_1  2018-08-17      0.00     1000\n",
       "2  1000_2  2018-06-11      2.85     1000\n",
       "3  1000_3  2018-09-21     13.80     1000\n",
       "4  1000_4  2018-12-15      5.18     1000"
      ]
     },
     "execution_count": 3,
     "metadata": {},
     "output_type": "execute_result"
    }
   ],
   "source": [
    "data_calls.head()"
   ]
  },
  {
   "cell_type": "code",
   "execution_count": 4,
   "metadata": {},
   "outputs": [
    {
     "name": "stdout",
     "output_type": "stream",
     "text": [
      "<class 'pandas.core.frame.DataFrame'>\n",
      "RangeIndex: 202607 entries, 0 to 202606\n",
      "Data columns (total 4 columns):\n",
      " #   Column     Non-Null Count   Dtype  \n",
      "---  ------     --------------   -----  \n",
      " 0   id         202607 non-null  object \n",
      " 1   call_date  202607 non-null  object \n",
      " 2   duration   202607 non-null  float64\n",
      " 3   user_id    202607 non-null  int64  \n",
      "dtypes: float64(1), int64(1), object(2)\n",
      "memory usage: 6.2+ MB\n"
     ]
    }
   ],
   "source": [
    "data_calls.info()"
   ]
  },
  {
   "cell_type": "code",
   "execution_count": 5,
   "metadata": {},
   "outputs": [],
   "source": [
    "# приведем столбец call_date к типу данных datetime\n",
    "data_calls['call_date'] = pd.to_datetime(data_calls['call_date'], format='%Y-%m-%d')"
   ]
  },
  {
   "cell_type": "code",
   "execution_count": 6,
   "metadata": {
    "scrolled": true
   },
   "outputs": [
    {
     "data": {
      "text/html": [
       "<div>\n",
       "<style scoped>\n",
       "    .dataframe tbody tr th:only-of-type {\n",
       "        vertical-align: middle;\n",
       "    }\n",
       "\n",
       "    .dataframe tbody tr th {\n",
       "        vertical-align: top;\n",
       "    }\n",
       "\n",
       "    .dataframe thead th {\n",
       "        text-align: right;\n",
       "    }\n",
       "</style>\n",
       "<table border=\"1\" class=\"dataframe\">\n",
       "  <thead>\n",
       "    <tr style=\"text-align: right;\">\n",
       "      <th></th>\n",
       "      <th>Unnamed: 0</th>\n",
       "      <th>id</th>\n",
       "      <th>mb_used</th>\n",
       "      <th>session_date</th>\n",
       "      <th>user_id</th>\n",
       "    </tr>\n",
       "  </thead>\n",
       "  <tbody>\n",
       "    <tr>\n",
       "      <th>0</th>\n",
       "      <td>0</td>\n",
       "      <td>1000_0</td>\n",
       "      <td>112.95</td>\n",
       "      <td>2018-11-25</td>\n",
       "      <td>1000</td>\n",
       "    </tr>\n",
       "    <tr>\n",
       "      <th>1</th>\n",
       "      <td>1</td>\n",
       "      <td>1000_1</td>\n",
       "      <td>1052.81</td>\n",
       "      <td>2018-09-07</td>\n",
       "      <td>1000</td>\n",
       "    </tr>\n",
       "    <tr>\n",
       "      <th>2</th>\n",
       "      <td>2</td>\n",
       "      <td>1000_2</td>\n",
       "      <td>1197.26</td>\n",
       "      <td>2018-06-25</td>\n",
       "      <td>1000</td>\n",
       "    </tr>\n",
       "    <tr>\n",
       "      <th>3</th>\n",
       "      <td>3</td>\n",
       "      <td>1000_3</td>\n",
       "      <td>550.27</td>\n",
       "      <td>2018-08-22</td>\n",
       "      <td>1000</td>\n",
       "    </tr>\n",
       "    <tr>\n",
       "      <th>4</th>\n",
       "      <td>4</td>\n",
       "      <td>1000_4</td>\n",
       "      <td>302.56</td>\n",
       "      <td>2018-09-24</td>\n",
       "      <td>1000</td>\n",
       "    </tr>\n",
       "  </tbody>\n",
       "</table>\n",
       "</div>"
      ],
      "text/plain": [
       "   Unnamed: 0      id  mb_used session_date  user_id\n",
       "0           0  1000_0   112.95   2018-11-25     1000\n",
       "1           1  1000_1  1052.81   2018-09-07     1000\n",
       "2           2  1000_2  1197.26   2018-06-25     1000\n",
       "3           3  1000_3   550.27   2018-08-22     1000\n",
       "4           4  1000_4   302.56   2018-09-24     1000"
      ]
     },
     "execution_count": 6,
     "metadata": {},
     "output_type": "execute_result"
    }
   ],
   "source": [
    "data_internet.head()"
   ]
  },
  {
   "cell_type": "code",
   "execution_count": 7,
   "metadata": {
    "scrolled": true
   },
   "outputs": [
    {
     "name": "stdout",
     "output_type": "stream",
     "text": [
      "<class 'pandas.core.frame.DataFrame'>\n",
      "RangeIndex: 149396 entries, 0 to 149395\n",
      "Data columns (total 5 columns):\n",
      " #   Column        Non-Null Count   Dtype  \n",
      "---  ------        --------------   -----  \n",
      " 0   Unnamed: 0    149396 non-null  int64  \n",
      " 1   id            149396 non-null  object \n",
      " 2   mb_used       149396 non-null  float64\n",
      " 3   session_date  149396 non-null  object \n",
      " 4   user_id       149396 non-null  int64  \n",
      "dtypes: float64(1), int64(2), object(2)\n",
      "memory usage: 5.7+ MB\n"
     ]
    }
   ],
   "source": [
    "data_internet.info()"
   ]
  },
  {
   "cell_type": "code",
   "execution_count": 8,
   "metadata": {},
   "outputs": [],
   "source": [
    "# удалим лишний столбец 'Unnamed: 0'\n",
    "data_internet.drop('Unnamed: 0', axis=1, inplace=True)"
   ]
  },
  {
   "cell_type": "code",
   "execution_count": 9,
   "metadata": {},
   "outputs": [],
   "source": [
    "# приведем столбец session_date к типу данных datetime\n",
    "data_internet['session_date'] = pd.to_datetime(data_internet['session_date'], format='%Y-%m-%d')"
   ]
  },
  {
   "cell_type": "code",
   "execution_count": 10,
   "metadata": {},
   "outputs": [
    {
     "data": {
      "text/html": [
       "<div>\n",
       "<style scoped>\n",
       "    .dataframe tbody tr th:only-of-type {\n",
       "        vertical-align: middle;\n",
       "    }\n",
       "\n",
       "    .dataframe tbody tr th {\n",
       "        vertical-align: top;\n",
       "    }\n",
       "\n",
       "    .dataframe thead th {\n",
       "        text-align: right;\n",
       "    }\n",
       "</style>\n",
       "<table border=\"1\" class=\"dataframe\">\n",
       "  <thead>\n",
       "    <tr style=\"text-align: right;\">\n",
       "      <th></th>\n",
       "      <th>id</th>\n",
       "      <th>message_date</th>\n",
       "      <th>user_id</th>\n",
       "    </tr>\n",
       "  </thead>\n",
       "  <tbody>\n",
       "    <tr>\n",
       "      <th>0</th>\n",
       "      <td>1000_0</td>\n",
       "      <td>2018-06-27</td>\n",
       "      <td>1000</td>\n",
       "    </tr>\n",
       "    <tr>\n",
       "      <th>1</th>\n",
       "      <td>1000_1</td>\n",
       "      <td>2018-10-08</td>\n",
       "      <td>1000</td>\n",
       "    </tr>\n",
       "    <tr>\n",
       "      <th>2</th>\n",
       "      <td>1000_2</td>\n",
       "      <td>2018-08-04</td>\n",
       "      <td>1000</td>\n",
       "    </tr>\n",
       "    <tr>\n",
       "      <th>3</th>\n",
       "      <td>1000_3</td>\n",
       "      <td>2018-06-16</td>\n",
       "      <td>1000</td>\n",
       "    </tr>\n",
       "    <tr>\n",
       "      <th>4</th>\n",
       "      <td>1000_4</td>\n",
       "      <td>2018-12-05</td>\n",
       "      <td>1000</td>\n",
       "    </tr>\n",
       "  </tbody>\n",
       "</table>\n",
       "</div>"
      ],
      "text/plain": [
       "       id message_date  user_id\n",
       "0  1000_0   2018-06-27     1000\n",
       "1  1000_1   2018-10-08     1000\n",
       "2  1000_2   2018-08-04     1000\n",
       "3  1000_3   2018-06-16     1000\n",
       "4  1000_4   2018-12-05     1000"
      ]
     },
     "execution_count": 10,
     "metadata": {},
     "output_type": "execute_result"
    }
   ],
   "source": [
    "data_messages.head()"
   ]
  },
  {
   "cell_type": "code",
   "execution_count": 11,
   "metadata": {},
   "outputs": [
    {
     "name": "stdout",
     "output_type": "stream",
     "text": [
      "<class 'pandas.core.frame.DataFrame'>\n",
      "RangeIndex: 123036 entries, 0 to 123035\n",
      "Data columns (total 3 columns):\n",
      " #   Column        Non-Null Count   Dtype \n",
      "---  ------        --------------   ----- \n",
      " 0   id            123036 non-null  object\n",
      " 1   message_date  123036 non-null  object\n",
      " 2   user_id       123036 non-null  int64 \n",
      "dtypes: int64(1), object(2)\n",
      "memory usage: 2.8+ MB\n"
     ]
    }
   ],
   "source": [
    "data_messages.info()"
   ]
  },
  {
   "cell_type": "code",
   "execution_count": 12,
   "metadata": {},
   "outputs": [],
   "source": [
    "# приведем столбец message_date к типу данных datetime\n",
    "data_messages['message_date'] = pd.to_datetime(data_messages['message_date'], format='%Y-%m-%d')"
   ]
  },
  {
   "cell_type": "code",
   "execution_count": 13,
   "metadata": {},
   "outputs": [
    {
     "data": {
      "text/html": [
       "<div>\n",
       "<style scoped>\n",
       "    .dataframe tbody tr th:only-of-type {\n",
       "        vertical-align: middle;\n",
       "    }\n",
       "\n",
       "    .dataframe tbody tr th {\n",
       "        vertical-align: top;\n",
       "    }\n",
       "\n",
       "    .dataframe thead th {\n",
       "        text-align: right;\n",
       "    }\n",
       "</style>\n",
       "<table border=\"1\" class=\"dataframe\">\n",
       "  <thead>\n",
       "    <tr style=\"text-align: right;\">\n",
       "      <th></th>\n",
       "      <th>messages_included</th>\n",
       "      <th>mb_per_month_included</th>\n",
       "      <th>minutes_included</th>\n",
       "      <th>rub_monthly_fee</th>\n",
       "      <th>rub_per_gb</th>\n",
       "      <th>rub_per_message</th>\n",
       "      <th>rub_per_minute</th>\n",
       "      <th>tariff_name</th>\n",
       "    </tr>\n",
       "  </thead>\n",
       "  <tbody>\n",
       "    <tr>\n",
       "      <th>0</th>\n",
       "      <td>50</td>\n",
       "      <td>15360</td>\n",
       "      <td>500</td>\n",
       "      <td>550</td>\n",
       "      <td>200</td>\n",
       "      <td>3</td>\n",
       "      <td>3</td>\n",
       "      <td>smart</td>\n",
       "    </tr>\n",
       "    <tr>\n",
       "      <th>1</th>\n",
       "      <td>1000</td>\n",
       "      <td>30720</td>\n",
       "      <td>3000</td>\n",
       "      <td>1950</td>\n",
       "      <td>150</td>\n",
       "      <td>1</td>\n",
       "      <td>1</td>\n",
       "      <td>ultra</td>\n",
       "    </tr>\n",
       "  </tbody>\n",
       "</table>\n",
       "</div>"
      ],
      "text/plain": [
       "   messages_included  mb_per_month_included  minutes_included  \\\n",
       "0                 50                  15360               500   \n",
       "1               1000                  30720              3000   \n",
       "\n",
       "   rub_monthly_fee  rub_per_gb  rub_per_message  rub_per_minute tariff_name  \n",
       "0              550         200                3               3       smart  \n",
       "1             1950         150                1               1       ultra  "
      ]
     },
     "execution_count": 13,
     "metadata": {},
     "output_type": "execute_result"
    }
   ],
   "source": [
    "data_tariffs.head()"
   ]
  },
  {
   "cell_type": "code",
   "execution_count": 14,
   "metadata": {},
   "outputs": [
    {
     "name": "stdout",
     "output_type": "stream",
     "text": [
      "<class 'pandas.core.frame.DataFrame'>\n",
      "RangeIndex: 2 entries, 0 to 1\n",
      "Data columns (total 8 columns):\n",
      " #   Column                 Non-Null Count  Dtype \n",
      "---  ------                 --------------  ----- \n",
      " 0   messages_included      2 non-null      int64 \n",
      " 1   mb_per_month_included  2 non-null      int64 \n",
      " 2   minutes_included       2 non-null      int64 \n",
      " 3   rub_monthly_fee        2 non-null      int64 \n",
      " 4   rub_per_gb             2 non-null      int64 \n",
      " 5   rub_per_message        2 non-null      int64 \n",
      " 6   rub_per_minute         2 non-null      int64 \n",
      " 7   tariff_name            2 non-null      object\n",
      "dtypes: int64(7), object(1)\n",
      "memory usage: 256.0+ bytes\n"
     ]
    }
   ],
   "source": [
    "data_tariffs.info()"
   ]
  },
  {
   "cell_type": "code",
   "execution_count": 15,
   "metadata": {},
   "outputs": [
    {
     "data": {
      "text/html": [
       "<div>\n",
       "<style scoped>\n",
       "    .dataframe tbody tr th:only-of-type {\n",
       "        vertical-align: middle;\n",
       "    }\n",
       "\n",
       "    .dataframe tbody tr th {\n",
       "        vertical-align: top;\n",
       "    }\n",
       "\n",
       "    .dataframe thead th {\n",
       "        text-align: right;\n",
       "    }\n",
       "</style>\n",
       "<table border=\"1\" class=\"dataframe\">\n",
       "  <thead>\n",
       "    <tr style=\"text-align: right;\">\n",
       "      <th></th>\n",
       "      <th>user_id</th>\n",
       "      <th>age</th>\n",
       "      <th>churn_date</th>\n",
       "      <th>city</th>\n",
       "      <th>first_name</th>\n",
       "      <th>last_name</th>\n",
       "      <th>reg_date</th>\n",
       "      <th>tariff</th>\n",
       "    </tr>\n",
       "  </thead>\n",
       "  <tbody>\n",
       "    <tr>\n",
       "      <th>0</th>\n",
       "      <td>1000</td>\n",
       "      <td>52</td>\n",
       "      <td>NaN</td>\n",
       "      <td>Краснодар</td>\n",
       "      <td>Рафаил</td>\n",
       "      <td>Верещагин</td>\n",
       "      <td>2018-05-25</td>\n",
       "      <td>ultra</td>\n",
       "    </tr>\n",
       "    <tr>\n",
       "      <th>1</th>\n",
       "      <td>1001</td>\n",
       "      <td>41</td>\n",
       "      <td>NaN</td>\n",
       "      <td>Москва</td>\n",
       "      <td>Иван</td>\n",
       "      <td>Ежов</td>\n",
       "      <td>2018-11-01</td>\n",
       "      <td>smart</td>\n",
       "    </tr>\n",
       "    <tr>\n",
       "      <th>2</th>\n",
       "      <td>1002</td>\n",
       "      <td>59</td>\n",
       "      <td>NaN</td>\n",
       "      <td>Стерлитамак</td>\n",
       "      <td>Евгений</td>\n",
       "      <td>Абрамович</td>\n",
       "      <td>2018-06-17</td>\n",
       "      <td>smart</td>\n",
       "    </tr>\n",
       "    <tr>\n",
       "      <th>3</th>\n",
       "      <td>1003</td>\n",
       "      <td>23</td>\n",
       "      <td>NaN</td>\n",
       "      <td>Москва</td>\n",
       "      <td>Белла</td>\n",
       "      <td>Белякова</td>\n",
       "      <td>2018-08-17</td>\n",
       "      <td>ultra</td>\n",
       "    </tr>\n",
       "    <tr>\n",
       "      <th>4</th>\n",
       "      <td>1004</td>\n",
       "      <td>68</td>\n",
       "      <td>NaN</td>\n",
       "      <td>Новокузнецк</td>\n",
       "      <td>Татьяна</td>\n",
       "      <td>Авдеенко</td>\n",
       "      <td>2018-05-14</td>\n",
       "      <td>ultra</td>\n",
       "    </tr>\n",
       "  </tbody>\n",
       "</table>\n",
       "</div>"
      ],
      "text/plain": [
       "   user_id  age churn_date         city first_name  last_name    reg_date  \\\n",
       "0     1000   52        NaN    Краснодар     Рафаил  Верещагин  2018-05-25   \n",
       "1     1001   41        NaN       Москва       Иван       Ежов  2018-11-01   \n",
       "2     1002   59        NaN  Стерлитамак    Евгений  Абрамович  2018-06-17   \n",
       "3     1003   23        NaN       Москва      Белла   Белякова  2018-08-17   \n",
       "4     1004   68        NaN  Новокузнецк    Татьяна   Авдеенко  2018-05-14   \n",
       "\n",
       "  tariff  \n",
       "0  ultra  \n",
       "1  smart  \n",
       "2  smart  \n",
       "3  ultra  \n",
       "4  ultra  "
      ]
     },
     "execution_count": 15,
     "metadata": {},
     "output_type": "execute_result"
    }
   ],
   "source": [
    "data_users.head()"
   ]
  },
  {
   "cell_type": "code",
   "execution_count": 16,
   "metadata": {},
   "outputs": [
    {
     "name": "stdout",
     "output_type": "stream",
     "text": [
      "<class 'pandas.core.frame.DataFrame'>\n",
      "RangeIndex: 500 entries, 0 to 499\n",
      "Data columns (total 8 columns):\n",
      " #   Column      Non-Null Count  Dtype \n",
      "---  ------      --------------  ----- \n",
      " 0   user_id     500 non-null    int64 \n",
      " 1   age         500 non-null    int64 \n",
      " 2   churn_date  38 non-null     object\n",
      " 3   city        500 non-null    object\n",
      " 4   first_name  500 non-null    object\n",
      " 5   last_name   500 non-null    object\n",
      " 6   reg_date    500 non-null    object\n",
      " 7   tariff      500 non-null    object\n",
      "dtypes: int64(2), object(6)\n",
      "memory usage: 31.4+ KB\n"
     ]
    }
   ],
   "source": [
    "data_users.info()"
   ]
  },
  {
   "cell_type": "code",
   "execution_count": 17,
   "metadata": {},
   "outputs": [],
   "source": [
    "# заменим пропущенные значения в churn_date на '2222-01-01' (означает, что тариф еще действует), \n",
    "data_users['churn_date'] = data_users['churn_date'].fillna('2222-01-01')\n",
    "\n",
    "# приведем к типу данных datetime\n",
    "data_users['churn_date'] = pd.to_datetime(data_users['churn_date'], format='%Y-%m-%d')\n",
    "data_users['reg_date'] = pd.to_datetime(data_users['reg_date'], format='%Y-%m-%d')\n",
    "\n",
    "# переименуем столбец tariff на tariff_name, как в таблице data_tariffs\n",
    "data_users = data_users.rename(columns={'tariff' : 'tariff_name'})"
   ]
  },
  {
   "cell_type": "code",
   "execution_count": 18,
   "metadata": {},
   "outputs": [
    {
     "data": {
      "image/png": "[encoded data removed]",
      "text/plain": [
       "<Figure size 432x288 with 1 Axes>"
      ]
     },
     "metadata": {
      "image/png": {
       "height": 277,
       "width": 403
      },
      "needs_background": "light"
     },
     "output_type": "display_data"
    }
   ],
   "source": [
    "sns.histplot(x='mb_used', data=data_internet)\n",
    "plt.title('Распределение интернет-трафика')\n",
    "plt.show()"
   ]
  },
  {
   "cell_type": "code",
   "execution_count": 19,
   "metadata": {},
   "outputs": [
    {
     "data": {
      "text/plain": [
       "494"
      ]
     },
     "execution_count": 19,
     "metadata": {},
     "output_type": "execute_result"
    }
   ],
   "source": [
    "# кол-во пользователей с нулевм объемом трафика\n",
    "len(data_internet.query('mb_used == 0')['user_id'].unique())"
   ]
  },
  {
   "cell_type": "markdown",
   "metadata": {},
   "source": [
    "У 494 пользователей были сессии с нулевым объемом трафика, что технически невозможно. Либо объем трафика был слишком мал (подключились и тут же отключились от интернета) и при выгрузке округлили до 0 Мб, либо ошибка связана с техничесткими проблемами оператора."
   ]
  },
  {
   "cell_type": "code",
   "execution_count": 20,
   "metadata": {},
   "outputs": [
    {
     "name": "stdout",
     "output_type": "stream",
     "text": [
      "0\n",
      "0\n",
      "0\n",
      "0\n",
      "0\n"
     ]
    }
   ],
   "source": [
    "# проверка на наличие дубликатов\n",
    "datasets = [data_calls, data_internet, data_messages, data_tariffs, data_users]\n",
    "for i in datasets:\n",
    "    print(i.duplicated().sum())"
   ]
  },
  {
   "cell_type": "markdown",
   "metadata": {},
   "source": [
    "### Вывод"
   ]
  },
  {
   "cell_type": "markdown",
   "metadata": {},
   "source": [
    "Данные приведены к нужным типам, заполнены пропуски. Явные дубликаты отсутствуют. Таблицы взаимосвязаны по столбцу user_id, также таблицы users и tariffs можно объединить по столбцу tariff_name. "
   ]
  },
  {
   "cell_type": "markdown",
   "metadata": {},
   "source": [
    "## Расчет основных метрик\n",
    "<a id=\"3\"></a>"
   ]
  },
  {
   "cell_type": "markdown",
   "metadata": {},
   "source": [
    "### Расчет количества сделанных звонков и израсходованных минут разговора по месяцам для каждого пользователя."
   ]
  },
  {
   "cell_type": "code",
   "execution_count": 21,
   "metadata": {},
   "outputs": [
    {
     "data": {
      "text/html": [
       "<div>\n",
       "<style scoped>\n",
       "    .dataframe tbody tr th:only-of-type {\n",
       "        vertical-align: middle;\n",
       "    }\n",
       "\n",
       "    .dataframe tbody tr th {\n",
       "        vertical-align: top;\n",
       "    }\n",
       "\n",
       "    .dataframe thead th {\n",
       "        text-align: right;\n",
       "    }\n",
       "</style>\n",
       "<table border=\"1\" class=\"dataframe\">\n",
       "  <thead>\n",
       "    <tr style=\"text-align: right;\">\n",
       "      <th></th>\n",
       "      <th>user_id</th>\n",
       "      <th>month</th>\n",
       "      <th>calls_min</th>\n",
       "    </tr>\n",
       "  </thead>\n",
       "  <tbody>\n",
       "    <tr>\n",
       "      <th>0</th>\n",
       "      <td>1000</td>\n",
       "      <td>5</td>\n",
       "      <td>159.0</td>\n",
       "    </tr>\n",
       "    <tr>\n",
       "      <th>1</th>\n",
       "      <td>1000</td>\n",
       "      <td>6</td>\n",
       "      <td>172.0</td>\n",
       "    </tr>\n",
       "    <tr>\n",
       "      <th>2</th>\n",
       "      <td>1000</td>\n",
       "      <td>7</td>\n",
       "      <td>340.0</td>\n",
       "    </tr>\n",
       "    <tr>\n",
       "      <th>3</th>\n",
       "      <td>1000</td>\n",
       "      <td>8</td>\n",
       "      <td>408.0</td>\n",
       "    </tr>\n",
       "    <tr>\n",
       "      <th>4</th>\n",
       "      <td>1000</td>\n",
       "      <td>9</td>\n",
       "      <td>466.0</td>\n",
       "    </tr>\n",
       "  </tbody>\n",
       "</table>\n",
       "</div>"
      ],
      "text/plain": [
       "   user_id  month  calls_min\n",
       "0     1000      5      159.0\n",
       "1     1000      6      172.0\n",
       "2     1000      7      340.0\n",
       "3     1000      8      408.0\n",
       "4     1000      9      466.0"
      ]
     },
     "execution_count": 21,
     "metadata": {},
     "output_type": "execute_result"
    }
   ],
   "source": [
    "# создаем столбец с месяцами\n",
    "data_calls['month'] = data_calls['call_date'].dt.month\n",
    "\n",
    "# округляем минуты до большего значения\n",
    "data_calls['duration'] = np.ceil(data_calls['duration'])\n",
    "\n",
    "# Расчет суммы израсходованных минут разговора по месяцам для каждого пользователя\n",
    "minutes_per_month = data_calls.groupby(['user_id', 'month']).agg({'duration':'sum'}).reset_index() \\\n",
    "                    .rename(columns={'duration':'calls_min'})\n",
    "minutes_per_month.head()"
   ]
  },
  {
   "cell_type": "code",
   "execution_count": 22,
   "metadata": {},
   "outputs": [
    {
     "data": {
      "text/html": [
       "<div>\n",
       "<style scoped>\n",
       "    .dataframe tbody tr th:only-of-type {\n",
       "        vertical-align: middle;\n",
       "    }\n",
       "\n",
       "    .dataframe tbody tr th {\n",
       "        vertical-align: top;\n",
       "    }\n",
       "\n",
       "    .dataframe thead th {\n",
       "        text-align: right;\n",
       "    }\n",
       "</style>\n",
       "<table border=\"1\" class=\"dataframe\">\n",
       "  <thead>\n",
       "    <tr style=\"text-align: right;\">\n",
       "      <th></th>\n",
       "      <th>user_id</th>\n",
       "      <th>month</th>\n",
       "      <th>calls_number</th>\n",
       "    </tr>\n",
       "  </thead>\n",
       "  <tbody>\n",
       "    <tr>\n",
       "      <th>0</th>\n",
       "      <td>1000</td>\n",
       "      <td>5</td>\n",
       "      <td>22</td>\n",
       "    </tr>\n",
       "    <tr>\n",
       "      <th>1</th>\n",
       "      <td>1000</td>\n",
       "      <td>6</td>\n",
       "      <td>43</td>\n",
       "    </tr>\n",
       "    <tr>\n",
       "      <th>2</th>\n",
       "      <td>1000</td>\n",
       "      <td>7</td>\n",
       "      <td>47</td>\n",
       "    </tr>\n",
       "    <tr>\n",
       "      <th>3</th>\n",
       "      <td>1000</td>\n",
       "      <td>8</td>\n",
       "      <td>52</td>\n",
       "    </tr>\n",
       "    <tr>\n",
       "      <th>4</th>\n",
       "      <td>1000</td>\n",
       "      <td>9</td>\n",
       "      <td>58</td>\n",
       "    </tr>\n",
       "  </tbody>\n",
       "</table>\n",
       "</div>"
      ],
      "text/plain": [
       "   user_id  month  calls_number\n",
       "0     1000      5            22\n",
       "1     1000      6            43\n",
       "2     1000      7            47\n",
       "3     1000      8            52\n",
       "4     1000      9            58"
      ]
     },
     "execution_count": 22,
     "metadata": {},
     "output_type": "execute_result"
    }
   ],
   "source": [
    "# Расчет количества сделанных звонков по месяцам для каждого пользователя\n",
    "calls_per_month = data_calls.groupby(['user_id', 'month']).agg({'duration':'count'}).reset_index() \\\n",
    "                .rename(columns={'duration':'calls_number'})\n",
    "calls_per_month.head()"
   ]
  },
  {
   "cell_type": "markdown",
   "metadata": {},
   "source": [
    "### Расчет количества отправленных сообщений по месяцам для каждого пользователя"
   ]
  },
  {
   "cell_type": "code",
   "execution_count": 23,
   "metadata": {},
   "outputs": [
    {
     "data": {
      "text/html": [
       "<div>\n",
       "<style scoped>\n",
       "    .dataframe tbody tr th:only-of-type {\n",
       "        vertical-align: middle;\n",
       "    }\n",
       "\n",
       "    .dataframe tbody tr th {\n",
       "        vertical-align: top;\n",
       "    }\n",
       "\n",
       "    .dataframe thead th {\n",
       "        text-align: right;\n",
       "    }\n",
       "</style>\n",
       "<table border=\"1\" class=\"dataframe\">\n",
       "  <thead>\n",
       "    <tr style=\"text-align: right;\">\n",
       "      <th></th>\n",
       "      <th>user_id</th>\n",
       "      <th>month</th>\n",
       "      <th>sms_number</th>\n",
       "    </tr>\n",
       "  </thead>\n",
       "  <tbody>\n",
       "    <tr>\n",
       "      <th>0</th>\n",
       "      <td>1000</td>\n",
       "      <td>5</td>\n",
       "      <td>22</td>\n",
       "    </tr>\n",
       "    <tr>\n",
       "      <th>1</th>\n",
       "      <td>1000</td>\n",
       "      <td>6</td>\n",
       "      <td>60</td>\n",
       "    </tr>\n",
       "    <tr>\n",
       "      <th>2</th>\n",
       "      <td>1000</td>\n",
       "      <td>7</td>\n",
       "      <td>75</td>\n",
       "    </tr>\n",
       "    <tr>\n",
       "      <th>3</th>\n",
       "      <td>1000</td>\n",
       "      <td>8</td>\n",
       "      <td>81</td>\n",
       "    </tr>\n",
       "    <tr>\n",
       "      <th>4</th>\n",
       "      <td>1000</td>\n",
       "      <td>9</td>\n",
       "      <td>57</td>\n",
       "    </tr>\n",
       "  </tbody>\n",
       "</table>\n",
       "</div>"
      ],
      "text/plain": [
       "   user_id  month  sms_number\n",
       "0     1000      5          22\n",
       "1     1000      6          60\n",
       "2     1000      7          75\n",
       "3     1000      8          81\n",
       "4     1000      9          57"
      ]
     },
     "execution_count": 23,
     "metadata": {},
     "output_type": "execute_result"
    }
   ],
   "source": [
    "# создаем столбец с месяцами\n",
    "data_messages['month'] = data_messages['message_date'].dt.month\n",
    "\n",
    "# Расчет количества отправленных сообщений по месяцам для каждого пользователя\n",
    "messages_per_month = data_messages.groupby(['user_id', 'month']).agg({'id':'count'}).reset_index() \\\n",
    "                    .rename(columns={'id':'sms_number'})\n",
    "messages_per_month.head()"
   ]
  },
  {
   "cell_type": "markdown",
   "metadata": {},
   "source": [
    "### Расчет объема израсходованного интернет-трафика по месяцам для каждого пользователя"
   ]
  },
  {
   "cell_type": "code",
   "execution_count": 24,
   "metadata": {},
   "outputs": [
    {
     "data": {
      "text/html": [
       "<div>\n",
       "<style scoped>\n",
       "    .dataframe tbody tr th:only-of-type {\n",
       "        vertical-align: middle;\n",
       "    }\n",
       "\n",
       "    .dataframe tbody tr th {\n",
       "        vertical-align: top;\n",
       "    }\n",
       "\n",
       "    .dataframe thead th {\n",
       "        text-align: right;\n",
       "    }\n",
       "</style>\n",
       "<table border=\"1\" class=\"dataframe\">\n",
       "  <thead>\n",
       "    <tr style=\"text-align: right;\">\n",
       "      <th></th>\n",
       "      <th>user_id</th>\n",
       "      <th>month</th>\n",
       "      <th>mb_used</th>\n",
       "    </tr>\n",
       "  </thead>\n",
       "  <tbody>\n",
       "    <tr>\n",
       "      <th>0</th>\n",
       "      <td>1000</td>\n",
       "      <td>5</td>\n",
       "      <td>2253.49</td>\n",
       "    </tr>\n",
       "    <tr>\n",
       "      <th>1</th>\n",
       "      <td>1000</td>\n",
       "      <td>6</td>\n",
       "      <td>23233.77</td>\n",
       "    </tr>\n",
       "    <tr>\n",
       "      <th>2</th>\n",
       "      <td>1000</td>\n",
       "      <td>7</td>\n",
       "      <td>14003.64</td>\n",
       "    </tr>\n",
       "    <tr>\n",
       "      <th>3</th>\n",
       "      <td>1000</td>\n",
       "      <td>8</td>\n",
       "      <td>14055.93</td>\n",
       "    </tr>\n",
       "    <tr>\n",
       "      <th>4</th>\n",
       "      <td>1000</td>\n",
       "      <td>9</td>\n",
       "      <td>14568.91</td>\n",
       "    </tr>\n",
       "  </tbody>\n",
       "</table>\n",
       "</div>"
      ],
      "text/plain": [
       "   user_id  month   mb_used\n",
       "0     1000      5   2253.49\n",
       "1     1000      6  23233.77\n",
       "2     1000      7  14003.64\n",
       "3     1000      8  14055.93\n",
       "4     1000      9  14568.91"
      ]
     },
     "execution_count": 24,
     "metadata": {},
     "output_type": "execute_result"
    }
   ],
   "source": [
    "# создаем столбец с месяцами\n",
    "data_internet['month'] = data_internet['session_date'].dt.month\n",
    "\n",
    "# Расчет объема израсходованного интернет-трафика по месяцам для каждого пользователя\n",
    "internet_per_month = data_internet.groupby(['user_id', 'month']).agg({'mb_used':'sum'}).reset_index()\n",
    "internet_per_month.head()"
   ]
  },
  {
   "cell_type": "code",
   "execution_count": 25,
   "metadata": {},
   "outputs": [
    {
     "data": {
      "text/html": [
       "<div>\n",
       "<style scoped>\n",
       "    .dataframe tbody tr th:only-of-type {\n",
       "        vertical-align: middle;\n",
       "    }\n",
       "\n",
       "    .dataframe tbody tr th {\n",
       "        vertical-align: top;\n",
       "    }\n",
       "\n",
       "    .dataframe thead th {\n",
       "        text-align: right;\n",
       "    }\n",
       "</style>\n",
       "<table border=\"1\" class=\"dataframe\">\n",
       "  <thead>\n",
       "    <tr style=\"text-align: right;\">\n",
       "      <th></th>\n",
       "      <th>user_id</th>\n",
       "      <th>month</th>\n",
       "      <th>gb_used</th>\n",
       "    </tr>\n",
       "  </thead>\n",
       "  <tbody>\n",
       "    <tr>\n",
       "      <th>0</th>\n",
       "      <td>1000</td>\n",
       "      <td>5</td>\n",
       "      <td>3.0</td>\n",
       "    </tr>\n",
       "    <tr>\n",
       "      <th>1</th>\n",
       "      <td>1000</td>\n",
       "      <td>6</td>\n",
       "      <td>23.0</td>\n",
       "    </tr>\n",
       "    <tr>\n",
       "      <th>2</th>\n",
       "      <td>1000</td>\n",
       "      <td>7</td>\n",
       "      <td>14.0</td>\n",
       "    </tr>\n",
       "    <tr>\n",
       "      <th>3</th>\n",
       "      <td>1000</td>\n",
       "      <td>8</td>\n",
       "      <td>14.0</td>\n",
       "    </tr>\n",
       "    <tr>\n",
       "      <th>4</th>\n",
       "      <td>1000</td>\n",
       "      <td>9</td>\n",
       "      <td>15.0</td>\n",
       "    </tr>\n",
       "  </tbody>\n",
       "</table>\n",
       "</div>"
      ],
      "text/plain": [
       "   user_id  month  gb_used\n",
       "0     1000      5      3.0\n",
       "1     1000      6     23.0\n",
       "2     1000      7     14.0\n",
       "3     1000      8     14.0\n",
       "4     1000      9     15.0"
      ]
     },
     "execution_count": 25,
     "metadata": {},
     "output_type": "execute_result"
    }
   ],
   "source": [
    "# округляем в большую сторону\n",
    "internet_per_month['mb_used'] = np.ceil(internet_per_month['mb_used'] / 1024)\n",
    "\n",
    "internet_per_month = internet_per_month.rename(columns={'mb_used':'gb_used'})\n",
    "internet_per_month.head()"
   ]
  },
  {
   "cell_type": "markdown",
   "metadata": {},
   "source": [
    "### Расчет помесячной выручки с каждого пользователя"
   ]
  },
  {
   "cell_type": "code",
   "execution_count": 26,
   "metadata": {},
   "outputs": [
    {
     "data": {
      "text/html": [
       "<div>\n",
       "<style scoped>\n",
       "    .dataframe tbody tr th:only-of-type {\n",
       "        vertical-align: middle;\n",
       "    }\n",
       "\n",
       "    .dataframe tbody tr th {\n",
       "        vertical-align: top;\n",
       "    }\n",
       "\n",
       "    .dataframe thead th {\n",
       "        text-align: right;\n",
       "    }\n",
       "</style>\n",
       "<table border=\"1\" class=\"dataframe\">\n",
       "  <thead>\n",
       "    <tr style=\"text-align: right;\">\n",
       "      <th></th>\n",
       "      <th>user_id</th>\n",
       "      <th>tariff_name</th>\n",
       "      <th>month</th>\n",
       "      <th>calls_min</th>\n",
       "      <th>sms_number</th>\n",
       "      <th>gb_used</th>\n",
       "    </tr>\n",
       "  </thead>\n",
       "  <tbody>\n",
       "    <tr>\n",
       "      <th>0</th>\n",
       "      <td>1000</td>\n",
       "      <td>ultra</td>\n",
       "      <td>5.0</td>\n",
       "      <td>159.0</td>\n",
       "      <td>22.0</td>\n",
       "      <td>3.0</td>\n",
       "    </tr>\n",
       "    <tr>\n",
       "      <th>1</th>\n",
       "      <td>1000</td>\n",
       "      <td>ultra</td>\n",
       "      <td>6.0</td>\n",
       "      <td>172.0</td>\n",
       "      <td>60.0</td>\n",
       "      <td>23.0</td>\n",
       "    </tr>\n",
       "    <tr>\n",
       "      <th>2</th>\n",
       "      <td>1000</td>\n",
       "      <td>ultra</td>\n",
       "      <td>7.0</td>\n",
       "      <td>340.0</td>\n",
       "      <td>75.0</td>\n",
       "      <td>14.0</td>\n",
       "    </tr>\n",
       "    <tr>\n",
       "      <th>3</th>\n",
       "      <td>1000</td>\n",
       "      <td>ultra</td>\n",
       "      <td>8.0</td>\n",
       "      <td>408.0</td>\n",
       "      <td>81.0</td>\n",
       "      <td>14.0</td>\n",
       "    </tr>\n",
       "    <tr>\n",
       "      <th>4</th>\n",
       "      <td>1000</td>\n",
       "      <td>ultra</td>\n",
       "      <td>9.0</td>\n",
       "      <td>466.0</td>\n",
       "      <td>57.0</td>\n",
       "      <td>15.0</td>\n",
       "    </tr>\n",
       "  </tbody>\n",
       "</table>\n",
       "</div>"
      ],
      "text/plain": [
       "   user_id tariff_name  month  calls_min  sms_number  gb_used\n",
       "0     1000       ultra    5.0      159.0        22.0      3.0\n",
       "1     1000       ultra    6.0      172.0        60.0     23.0\n",
       "2     1000       ultra    7.0      340.0        75.0     14.0\n",
       "3     1000       ultra    8.0      408.0        81.0     14.0\n",
       "4     1000       ultra    9.0      466.0        57.0     15.0"
      ]
     },
     "execution_count": 26,
     "metadata": {},
     "output_type": "execute_result"
    }
   ],
   "source": [
    "# объединяем пользователей с данными, полученными ранее\n",
    "data_final = (data_users[['user_id', 'tariff_name']]\n",
    " .merge(minutes_per_month, on=['user_id'], how='left')\n",
    " .merge(messages_per_month, on=['user_id', 'month'], how='left')\n",
    " .merge(internet_per_month, on=['user_id', 'month'], how='left')\n",
    ")\n",
    "\n",
    "data_final = data_final.fillna(0)\n",
    "\n",
    "data_final.head()"
   ]
  },
  {
   "cell_type": "code",
   "execution_count": 27,
   "metadata": {},
   "outputs": [
    {
     "data": {
      "text/html": [
       "<div>\n",
       "<style scoped>\n",
       "    .dataframe tbody tr th:only-of-type {\n",
       "        vertical-align: middle;\n",
       "    }\n",
       "\n",
       "    .dataframe tbody tr th {\n",
       "        vertical-align: top;\n",
       "    }\n",
       "\n",
       "    .dataframe thead th {\n",
       "        text-align: right;\n",
       "    }\n",
       "</style>\n",
       "<table border=\"1\" class=\"dataframe\">\n",
       "  <thead>\n",
       "    <tr style=\"text-align: right;\">\n",
       "      <th></th>\n",
       "      <th>user_id</th>\n",
       "      <th>tariff_name</th>\n",
       "      <th>month</th>\n",
       "      <th>calls_min</th>\n",
       "      <th>sms_number</th>\n",
       "      <th>gb_used</th>\n",
       "      <th>messages_included</th>\n",
       "      <th>mb_per_month_included</th>\n",
       "      <th>minutes_included</th>\n",
       "      <th>rub_monthly_fee</th>\n",
       "      <th>rub_per_gb</th>\n",
       "      <th>rub_per_message</th>\n",
       "      <th>rub_per_minute</th>\n",
       "    </tr>\n",
       "  </thead>\n",
       "  <tbody>\n",
       "    <tr>\n",
       "      <th>0</th>\n",
       "      <td>1000</td>\n",
       "      <td>ultra</td>\n",
       "      <td>5.0</td>\n",
       "      <td>159.0</td>\n",
       "      <td>22.0</td>\n",
       "      <td>3.0</td>\n",
       "      <td>1000</td>\n",
       "      <td>30720</td>\n",
       "      <td>3000</td>\n",
       "      <td>1950</td>\n",
       "      <td>150</td>\n",
       "      <td>1</td>\n",
       "      <td>1</td>\n",
       "    </tr>\n",
       "    <tr>\n",
       "      <th>1</th>\n",
       "      <td>1000</td>\n",
       "      <td>ultra</td>\n",
       "      <td>6.0</td>\n",
       "      <td>172.0</td>\n",
       "      <td>60.0</td>\n",
       "      <td>23.0</td>\n",
       "      <td>1000</td>\n",
       "      <td>30720</td>\n",
       "      <td>3000</td>\n",
       "      <td>1950</td>\n",
       "      <td>150</td>\n",
       "      <td>1</td>\n",
       "      <td>1</td>\n",
       "    </tr>\n",
       "    <tr>\n",
       "      <th>2</th>\n",
       "      <td>1000</td>\n",
       "      <td>ultra</td>\n",
       "      <td>7.0</td>\n",
       "      <td>340.0</td>\n",
       "      <td>75.0</td>\n",
       "      <td>14.0</td>\n",
       "      <td>1000</td>\n",
       "      <td>30720</td>\n",
       "      <td>3000</td>\n",
       "      <td>1950</td>\n",
       "      <td>150</td>\n",
       "      <td>1</td>\n",
       "      <td>1</td>\n",
       "    </tr>\n",
       "    <tr>\n",
       "      <th>3</th>\n",
       "      <td>1000</td>\n",
       "      <td>ultra</td>\n",
       "      <td>8.0</td>\n",
       "      <td>408.0</td>\n",
       "      <td>81.0</td>\n",
       "      <td>14.0</td>\n",
       "      <td>1000</td>\n",
       "      <td>30720</td>\n",
       "      <td>3000</td>\n",
       "      <td>1950</td>\n",
       "      <td>150</td>\n",
       "      <td>1</td>\n",
       "      <td>1</td>\n",
       "    </tr>\n",
       "    <tr>\n",
       "      <th>4</th>\n",
       "      <td>1000</td>\n",
       "      <td>ultra</td>\n",
       "      <td>9.0</td>\n",
       "      <td>466.0</td>\n",
       "      <td>57.0</td>\n",
       "      <td>15.0</td>\n",
       "      <td>1000</td>\n",
       "      <td>30720</td>\n",
       "      <td>3000</td>\n",
       "      <td>1950</td>\n",
       "      <td>150</td>\n",
       "      <td>1</td>\n",
       "      <td>1</td>\n",
       "    </tr>\n",
       "  </tbody>\n",
       "</table>\n",
       "</div>"
      ],
      "text/plain": [
       "   user_id tariff_name  month  calls_min  sms_number  gb_used  \\\n",
       "0     1000       ultra    5.0      159.0        22.0      3.0   \n",
       "1     1000       ultra    6.0      172.0        60.0     23.0   \n",
       "2     1000       ultra    7.0      340.0        75.0     14.0   \n",
       "3     1000       ultra    8.0      408.0        81.0     14.0   \n",
       "4     1000       ultra    9.0      466.0        57.0     15.0   \n",
       "\n",
       "   messages_included  mb_per_month_included  minutes_included  \\\n",
       "0               1000                  30720              3000   \n",
       "1               1000                  30720              3000   \n",
       "2               1000                  30720              3000   \n",
       "3               1000                  30720              3000   \n",
       "4               1000                  30720              3000   \n",
       "\n",
       "   rub_monthly_fee  rub_per_gb  rub_per_message  rub_per_minute  \n",
       "0             1950         150                1               1  \n",
       "1             1950         150                1               1  \n",
       "2             1950         150                1               1  \n",
       "3             1950         150                1               1  \n",
       "4             1950         150                1               1  "
      ]
     },
     "execution_count": 27,
     "metadata": {},
     "output_type": "execute_result"
    }
   ],
   "source": [
    "# добавим данные по тарифам\n",
    "data_final_tariffs = data_final.merge(data_tariffs, on='tariff_name', how='left')\n",
    "data_final_tariffs.head()"
   ]
  },
  {
   "cell_type": "code",
   "execution_count": 28,
   "metadata": {},
   "outputs": [],
   "source": [
    "# функция расчета выручки\n",
    "def calculate_profit(df):\n",
    "    \n",
    "    profit = 0\n",
    "    \n",
    "    if df['tariff_name'] == 'smart':\n",
    "        profit += 550\n",
    "    if df['tariff_name'] == 'ultra':\n",
    "        profit += 1950\n",
    "    if df['calls_min'] > df['minutes_included']:\n",
    "            profit += (df['calls_min'] - df['minutes_included']) * df['rub_per_minute']\n",
    "    if df['sms_number'] > df['messages_included']:\n",
    "            profit += (df['sms_number'] - df['messages_included']) * df['rub_per_message']\n",
    "    if df['gb_used'] > (df['mb_per_month_included']/1024):\n",
    "            profit += (df['gb_used'] - df['mb_per_month_included']/1024) * df['rub_per_gb']\n",
    "        \n",
    "    return profit"
   ]
  },
  {
   "cell_type": "code",
   "execution_count": 29,
   "metadata": {},
   "outputs": [
    {
     "data": {
      "text/html": [
       "<div>\n",
       "<style scoped>\n",
       "    .dataframe tbody tr th:only-of-type {\n",
       "        vertical-align: middle;\n",
       "    }\n",
       "\n",
       "    .dataframe tbody tr th {\n",
       "        vertical-align: top;\n",
       "    }\n",
       "\n",
       "    .dataframe thead th {\n",
       "        text-align: right;\n",
       "    }\n",
       "</style>\n",
       "<table border=\"1\" class=\"dataframe\">\n",
       "  <thead>\n",
       "    <tr style=\"text-align: right;\">\n",
       "      <th></th>\n",
       "      <th>user_id</th>\n",
       "      <th>tariff_name</th>\n",
       "      <th>month</th>\n",
       "      <th>calls_min</th>\n",
       "      <th>sms_number</th>\n",
       "      <th>gb_used</th>\n",
       "      <th>total_revenue</th>\n",
       "    </tr>\n",
       "  </thead>\n",
       "  <tbody>\n",
       "    <tr>\n",
       "      <th>0</th>\n",
       "      <td>1000</td>\n",
       "      <td>ultra</td>\n",
       "      <td>5.0</td>\n",
       "      <td>159.0</td>\n",
       "      <td>22.0</td>\n",
       "      <td>3.0</td>\n",
       "      <td>1950.0</td>\n",
       "    </tr>\n",
       "    <tr>\n",
       "      <th>1</th>\n",
       "      <td>1000</td>\n",
       "      <td>ultra</td>\n",
       "      <td>6.0</td>\n",
       "      <td>172.0</td>\n",
       "      <td>60.0</td>\n",
       "      <td>23.0</td>\n",
       "      <td>1950.0</td>\n",
       "    </tr>\n",
       "    <tr>\n",
       "      <th>2</th>\n",
       "      <td>1000</td>\n",
       "      <td>ultra</td>\n",
       "      <td>7.0</td>\n",
       "      <td>340.0</td>\n",
       "      <td>75.0</td>\n",
       "      <td>14.0</td>\n",
       "      <td>1950.0</td>\n",
       "    </tr>\n",
       "    <tr>\n",
       "      <th>3</th>\n",
       "      <td>1000</td>\n",
       "      <td>ultra</td>\n",
       "      <td>8.0</td>\n",
       "      <td>408.0</td>\n",
       "      <td>81.0</td>\n",
       "      <td>14.0</td>\n",
       "      <td>1950.0</td>\n",
       "    </tr>\n",
       "    <tr>\n",
       "      <th>4</th>\n",
       "      <td>1000</td>\n",
       "      <td>ultra</td>\n",
       "      <td>9.0</td>\n",
       "      <td>466.0</td>\n",
       "      <td>57.0</td>\n",
       "      <td>15.0</td>\n",
       "      <td>1950.0</td>\n",
       "    </tr>\n",
       "  </tbody>\n",
       "</table>\n",
       "</div>"
      ],
      "text/plain": [
       "   user_id tariff_name  month  calls_min  sms_number  gb_used  total_revenue\n",
       "0     1000       ultra    5.0      159.0        22.0      3.0         1950.0\n",
       "1     1000       ultra    6.0      172.0        60.0     23.0         1950.0\n",
       "2     1000       ultra    7.0      340.0        75.0     14.0         1950.0\n",
       "3     1000       ultra    8.0      408.0        81.0     14.0         1950.0\n",
       "4     1000       ultra    9.0      466.0        57.0     15.0         1950.0"
      ]
     },
     "execution_count": 29,
     "metadata": {},
     "output_type": "execute_result"
    }
   ],
   "source": [
    "# создаем столбец с выручкой и применяем функцию к каждой строке data_final\n",
    "data_final_tariffs['total_revenue'] = data_final_tariffs.apply(calculate_profit, axis=1)\n",
    "\n",
    "# убираем лишние столбцы с параметрами тарифов\n",
    "data_final = data_final_tariffs[[\n",
    "    'user_id', \n",
    "    'tariff_name', \n",
    "    'month', \n",
    "    'calls_min', \n",
    "    'sms_number', \n",
    "    'gb_used', \n",
    "    'total_revenue']]\n",
    "\n",
    "data_final.head()"
   ]
  },
  {
   "cell_type": "markdown",
   "metadata": {},
   "source": [
    "## Исследовательский анализ\n",
    "<a id=\"4\"></a>"
   ]
  },
  {
   "cell_type": "markdown",
   "metadata": {},
   "source": [
    "Определим, сколько минут разговора, сколько сообщений и какой объём интернет-трафика требуется пользователям каждого тарифа в месяц"
   ]
  },
  {
   "cell_type": "code",
   "execution_count": 30,
   "metadata": {
    "scrolled": true
   },
   "outputs": [
    {
     "data": {
      "text/html": [
       "<div>\n",
       "<style scoped>\n",
       "    .dataframe tbody tr th:only-of-type {\n",
       "        vertical-align: middle;\n",
       "    }\n",
       "\n",
       "    .dataframe tbody tr th {\n",
       "        vertical-align: top;\n",
       "    }\n",
       "\n",
       "    .dataframe thead th {\n",
       "        text-align: right;\n",
       "    }\n",
       "</style>\n",
       "<table border=\"1\" class=\"dataframe\">\n",
       "  <thead>\n",
       "    <tr style=\"text-align: right;\">\n",
       "      <th></th>\n",
       "      <th>calls_min</th>\n",
       "      <th>gb_used</th>\n",
       "      <th>sms_number</th>\n",
       "    </tr>\n",
       "    <tr>\n",
       "      <th>tariff_name</th>\n",
       "      <th></th>\n",
       "      <th></th>\n",
       "      <th></th>\n",
       "    </tr>\n",
       "  </thead>\n",
       "  <tbody>\n",
       "    <tr>\n",
       "      <th>smart</th>\n",
       "      <td>418.686292</td>\n",
       "      <td>16.315056</td>\n",
       "      <td>33.366292</td>\n",
       "    </tr>\n",
       "    <tr>\n",
       "      <th>ultra</th>\n",
       "      <td>542.031348</td>\n",
       "      <td>19.365726</td>\n",
       "      <td>48.726228</td>\n",
       "    </tr>\n",
       "  </tbody>\n",
       "</table>\n",
       "</div>"
      ],
      "text/plain": [
       "              calls_min    gb_used  sms_number\n",
       "tariff_name                                   \n",
       "smart        418.686292  16.315056   33.366292\n",
       "ultra        542.031348  19.365726   48.726228"
      ]
     },
     "execution_count": 30,
     "metadata": {},
     "output_type": "execute_result"
    }
   ],
   "source": [
    "# средние значения продолжительности звонков, смс, траффика для каждого тарифа за 12 мес\n",
    "metrcis_year = data_final.pivot_table(index='tariff_name', values=['calls_min', 'sms_number', 'gb_used'])\n",
    "metrcis_year"
   ]
  },
  {
   "cell_type": "markdown",
   "metadata": {},
   "source": [
    "В среднем в месяц пользователям тарифа smart требуется:\n",
    "- 419 минут звонков;\n",
    "- 16 Гб интернета;\n",
    "- 33 СМС.\n",
    "\n",
    "В среднем в месяц пользователям тарифа ultrs требуется:\n",
    "- 542 минуты звонков;\n",
    "- 19 Гб интернета;\n",
    "- 49 СМС."
   ]
  },
  {
   "cell_type": "code",
   "execution_count": 31,
   "metadata": {
    "scrolled": true
   },
   "outputs": [
    {
     "data": {
      "text/html": [
       "<div>\n",
       "<style scoped>\n",
       "    .dataframe tbody tr th:only-of-type {\n",
       "        vertical-align: middle;\n",
       "    }\n",
       "\n",
       "    .dataframe tbody tr th {\n",
       "        vertical-align: top;\n",
       "    }\n",
       "\n",
       "    .dataframe thead th {\n",
       "        text-align: right;\n",
       "    }\n",
       "</style>\n",
       "<table border=\"1\" class=\"dataframe\">\n",
       "  <thead>\n",
       "    <tr style=\"text-align: right;\">\n",
       "      <th>month</th>\n",
       "      <th>1.0</th>\n",
       "      <th>2.0</th>\n",
       "      <th>3.0</th>\n",
       "      <th>4.0</th>\n",
       "      <th>5.0</th>\n",
       "      <th>6.0</th>\n",
       "      <th>7.0</th>\n",
       "      <th>8.0</th>\n",
       "      <th>9.0</th>\n",
       "      <th>10.0</th>\n",
       "      <th>11.0</th>\n",
       "      <th>12.0</th>\n",
       "    </tr>\n",
       "    <tr>\n",
       "      <th>tariff_name</th>\n",
       "      <th></th>\n",
       "      <th></th>\n",
       "      <th></th>\n",
       "      <th></th>\n",
       "      <th></th>\n",
       "      <th></th>\n",
       "      <th></th>\n",
       "      <th></th>\n",
       "      <th></th>\n",
       "      <th></th>\n",
       "      <th></th>\n",
       "      <th></th>\n",
       "    </tr>\n",
       "  </thead>\n",
       "  <tbody>\n",
       "    <tr>\n",
       "      <th>smart</th>\n",
       "      <td>203.852941</td>\n",
       "      <td>298.689655</td>\n",
       "      <td>390.051948</td>\n",
       "      <td>367.133929</td>\n",
       "      <td>387.361702</td>\n",
       "      <td>398.067485</td>\n",
       "      <td>408.353234</td>\n",
       "      <td>423.269231</td>\n",
       "      <td>430.266409</td>\n",
       "      <td>427.590444</td>\n",
       "      <td>436.647619</td>\n",
       "      <td>479.985119</td>\n",
       "    </tr>\n",
       "    <tr>\n",
       "      <th>ultra</th>\n",
       "      <td>428.111111</td>\n",
       "      <td>297.125000</td>\n",
       "      <td>489.648649</td>\n",
       "      <td>475.301887</td>\n",
       "      <td>534.250000</td>\n",
       "      <td>497.469136</td>\n",
       "      <td>564.397727</td>\n",
       "      <td>530.611650</td>\n",
       "      <td>558.882883</td>\n",
       "      <td>581.728814</td>\n",
       "      <td>562.364341</td>\n",
       "      <td>614.925373</td>\n",
       "    </tr>\n",
       "  </tbody>\n",
       "</table>\n",
       "</div>"
      ],
      "text/plain": [
       "month              1.0         2.0         3.0         4.0         5.0   \\\n",
       "tariff_name                                                               \n",
       "smart        203.852941  298.689655  390.051948  367.133929  387.361702   \n",
       "ultra        428.111111  297.125000  489.648649  475.301887  534.250000   \n",
       "\n",
       "month              6.0         7.0         8.0         9.0         10.0  \\\n",
       "tariff_name                                                               \n",
       "smart        398.067485  408.353234  423.269231  430.266409  427.590444   \n",
       "ultra        497.469136  564.397727  530.611650  558.882883  581.728814   \n",
       "\n",
       "month              11.0        12.0  \n",
       "tariff_name                          \n",
       "smart        436.647619  479.985119  \n",
       "ultra        562.364341  614.925373  "
      ]
     },
     "execution_count": 31,
     "metadata": {},
     "output_type": "execute_result"
    }
   ],
   "source": [
    "# среднее количество минут по месяцам\n",
    "data_final.pivot_table(index='tariff_name', columns='month', values='calls_min').drop(0.0, axis=1)"
   ]
  },
  {
   "cell_type": "code",
   "execution_count": 32,
   "metadata": {},
   "outputs": [],
   "source": [
    "def get_distribution(column, bins):\n",
    "    \n",
    "    fig, axs = plt.subplots(1,2, figsize=(20,7), sharey=True)\n",
    "    fig.suptitle(f'Распределение {column}', fontsize=20)\n",
    "    sns.histplot(x=column, data=data_final.query('tariff_name == \"smart\"'), bins=bins, ax=axs[0])\n",
    "    axs[0].set_title('Smart', fontsize=15)\n",
    "    sns.histplot(x=column, data=data_final.query('tariff_name == \"ultra\"'), bins=bins, ax=axs[1])\n",
    "    axs[1].set_title('Ultra', fontsize=15)\n",
    "    fig.tight_layout()"
   ]
  },
  {
   "cell_type": "code",
   "execution_count": 33,
   "metadata": {},
   "outputs": [
    {
     "data": {
      "image/png": "[encoded data removed]",
      "text/plain": [
       "<Figure size 1440x504 with 2 Axes>"
      ]
     },
     "metadata": {
      "image/png": {
       "height": 496,
       "width": 1431
      },
      "needs_background": "light"
     },
     "output_type": "display_data"
    }
   ],
   "source": [
    "get_distribution('calls_min', 100)"
   ]
  },
  {
   "cell_type": "code",
   "execution_count": 34,
   "metadata": {
    "scrolled": true
   },
   "outputs": [
    {
     "data": {
      "text/html": [
       "<div>\n",
       "<style scoped>\n",
       "    .dataframe tbody tr th:only-of-type {\n",
       "        vertical-align: middle;\n",
       "    }\n",
       "\n",
       "    .dataframe tbody tr th {\n",
       "        vertical-align: top;\n",
       "    }\n",
       "\n",
       "    .dataframe thead th {\n",
       "        text-align: right;\n",
       "    }\n",
       "</style>\n",
       "<table border=\"1\" class=\"dataframe\">\n",
       "  <thead>\n",
       "    <tr style=\"text-align: right;\">\n",
       "      <th>month</th>\n",
       "      <th>1.0</th>\n",
       "      <th>2.0</th>\n",
       "      <th>3.0</th>\n",
       "      <th>4.0</th>\n",
       "      <th>5.0</th>\n",
       "      <th>6.0</th>\n",
       "      <th>7.0</th>\n",
       "      <th>8.0</th>\n",
       "      <th>9.0</th>\n",
       "      <th>10.0</th>\n",
       "      <th>11.0</th>\n",
       "      <th>12.0</th>\n",
       "    </tr>\n",
       "    <tr>\n",
       "      <th>tariff_name</th>\n",
       "      <th></th>\n",
       "      <th></th>\n",
       "      <th></th>\n",
       "      <th></th>\n",
       "      <th></th>\n",
       "      <th></th>\n",
       "      <th></th>\n",
       "      <th></th>\n",
       "      <th></th>\n",
       "      <th></th>\n",
       "      <th></th>\n",
       "      <th></th>\n",
       "    </tr>\n",
       "  </thead>\n",
       "  <tbody>\n",
       "    <tr>\n",
       "      <th>smart</th>\n",
       "      <td>8.735294</td>\n",
       "      <td>11.844828</td>\n",
       "      <td>15.233766</td>\n",
       "      <td>13.625000</td>\n",
       "      <td>15.907801</td>\n",
       "      <td>15.969325</td>\n",
       "      <td>15.875622</td>\n",
       "      <td>16.760684</td>\n",
       "      <td>16.389961</td>\n",
       "      <td>16.870307</td>\n",
       "      <td>16.996825</td>\n",
       "      <td>18.205357</td>\n",
       "    </tr>\n",
       "    <tr>\n",
       "      <th>ultra</th>\n",
       "      <td>13.222222</td>\n",
       "      <td>12.000000</td>\n",
       "      <td>17.648649</td>\n",
       "      <td>17.528302</td>\n",
       "      <td>19.671875</td>\n",
       "      <td>18.925926</td>\n",
       "      <td>20.443182</td>\n",
       "      <td>19.611650</td>\n",
       "      <td>19.135135</td>\n",
       "      <td>20.093220</td>\n",
       "      <td>19.666667</td>\n",
       "      <td>21.649254</td>\n",
       "    </tr>\n",
       "  </tbody>\n",
       "</table>\n",
       "</div>"
      ],
      "text/plain": [
       "month             1.0        2.0        3.0        4.0        5.0        6.0   \\\n",
       "tariff_name                                                                     \n",
       "smart         8.735294  11.844828  15.233766  13.625000  15.907801  15.969325   \n",
       "ultra        13.222222  12.000000  17.648649  17.528302  19.671875  18.925926   \n",
       "\n",
       "month             7.0        8.0        9.0        10.0       11.0       12.0  \n",
       "tariff_name                                                                    \n",
       "smart        15.875622  16.760684  16.389961  16.870307  16.996825  18.205357  \n",
       "ultra        20.443182  19.611650  19.135135  20.093220  19.666667  21.649254  "
      ]
     },
     "execution_count": 34,
     "metadata": {},
     "output_type": "execute_result"
    }
   ],
   "source": [
    "# среднее значение ГБ по месяцам\n",
    "data_final.pivot_table(index='tariff_name', columns='month', values='gb_used').drop(0.0, axis=1)"
   ]
  },
  {
   "cell_type": "code",
   "execution_count": 35,
   "metadata": {},
   "outputs": [
    {
     "data": {
      "image/png": "[encoded data removed]",
      "text/plain": [
       "<Figure size 1440x504 with 2 Axes>"
      ]
     },
     "metadata": {
      "image/png": {
       "height": 496,
       "width": 1432
      },
      "needs_background": "light"
     },
     "output_type": "display_data"
    }
   ],
   "source": [
    "get_distribution('gb_used', 50)"
   ]
  },
  {
   "cell_type": "code",
   "execution_count": 36,
   "metadata": {
    "scrolled": true
   },
   "outputs": [
    {
     "data": {
      "text/html": [
       "<div>\n",
       "<style scoped>\n",
       "    .dataframe tbody tr th:only-of-type {\n",
       "        vertical-align: middle;\n",
       "    }\n",
       "\n",
       "    .dataframe tbody tr th {\n",
       "        vertical-align: top;\n",
       "    }\n",
       "\n",
       "    .dataframe thead th {\n",
       "        text-align: right;\n",
       "    }\n",
       "</style>\n",
       "<table border=\"1\" class=\"dataframe\">\n",
       "  <thead>\n",
       "    <tr style=\"text-align: right;\">\n",
       "      <th>month</th>\n",
       "      <th>1.0</th>\n",
       "      <th>2.0</th>\n",
       "      <th>3.0</th>\n",
       "      <th>4.0</th>\n",
       "      <th>5.0</th>\n",
       "      <th>6.0</th>\n",
       "      <th>7.0</th>\n",
       "      <th>8.0</th>\n",
       "      <th>9.0</th>\n",
       "      <th>10.0</th>\n",
       "      <th>11.0</th>\n",
       "      <th>12.0</th>\n",
       "    </tr>\n",
       "    <tr>\n",
       "      <th>tariff_name</th>\n",
       "      <th></th>\n",
       "      <th></th>\n",
       "      <th></th>\n",
       "      <th></th>\n",
       "      <th></th>\n",
       "      <th></th>\n",
       "      <th></th>\n",
       "      <th></th>\n",
       "      <th></th>\n",
       "      <th></th>\n",
       "      <th></th>\n",
       "      <th></th>\n",
       "    </tr>\n",
       "  </thead>\n",
       "  <tbody>\n",
       "    <tr>\n",
       "      <th>smart</th>\n",
       "      <td>18.235294</td>\n",
       "      <td>24.086207</td>\n",
       "      <td>31.857143</td>\n",
       "      <td>30.741071</td>\n",
       "      <td>33.773050</td>\n",
       "      <td>33.312883</td>\n",
       "      <td>33.751244</td>\n",
       "      <td>33.709402</td>\n",
       "      <td>33.644788</td>\n",
       "      <td>33.808874</td>\n",
       "      <td>34.120635</td>\n",
       "      <td>35.997024</td>\n",
       "    </tr>\n",
       "    <tr>\n",
       "      <th>ultra</th>\n",
       "      <td>33.777778</td>\n",
       "      <td>21.958333</td>\n",
       "      <td>32.297297</td>\n",
       "      <td>32.584906</td>\n",
       "      <td>37.859375</td>\n",
       "      <td>40.049383</td>\n",
       "      <td>48.477273</td>\n",
       "      <td>47.864078</td>\n",
       "      <td>51.810811</td>\n",
       "      <td>58.466102</td>\n",
       "      <td>56.000000</td>\n",
       "      <td>60.753731</td>\n",
       "    </tr>\n",
       "  </tbody>\n",
       "</table>\n",
       "</div>"
      ],
      "text/plain": [
       "month             1.0        2.0        3.0        4.0        5.0        6.0   \\\n",
       "tariff_name                                                                     \n",
       "smart        18.235294  24.086207  31.857143  30.741071  33.773050  33.312883   \n",
       "ultra        33.777778  21.958333  32.297297  32.584906  37.859375  40.049383   \n",
       "\n",
       "month             7.0        8.0        9.0        10.0       11.0       12.0  \n",
       "tariff_name                                                                    \n",
       "smart        33.751244  33.709402  33.644788  33.808874  34.120635  35.997024  \n",
       "ultra        48.477273  47.864078  51.810811  58.466102  56.000000  60.753731  "
      ]
     },
     "execution_count": 36,
     "metadata": {},
     "output_type": "execute_result"
    }
   ],
   "source": [
    "# среднее количество смс по месяцам\n",
    "data_final.pivot_table(index='tariff_name', columns='month', values='sms_number').drop(0.0, axis=1)"
   ]
  },
  {
   "cell_type": "code",
   "execution_count": 37,
   "metadata": {},
   "outputs": [
    {
     "data": {
      "image/png": "[encoded data removed]",
      "text/plain": [
       "<Figure size 1440x504 with 2 Axes>"
      ]
     },
     "metadata": {
      "image/png": {
       "height": 496,
       "width": 1432
      },
      "needs_background": "light"
     },
     "output_type": "display_data"
    }
   ],
   "source": [
    "get_distribution('sms_number', 10)"
   ]
  },
  {
   "cell_type": "code",
   "execution_count": 38,
   "metadata": {},
   "outputs": [],
   "source": [
    "def calculate_stats(tariff, metrics):\n",
    "    '''\n",
    "    Возвращает значения дисперсии, ст.отклонения, нижнюю и верхнюю границу интервала 99% значений \n",
    "    по тарифу tariff и метрике metrics(calls_min, gb_used, sms_number) в виде датафрейма\n",
    "    '''\n",
    "    data = (data_final.pivot_table(index='tariff_name', columns='month', values=metrics)\n",
    "            .drop(0.0, axis=1)\n",
    "            .loc[tariff])\n",
    "    variance = round(np.var(data, ddof=1), 2)\n",
    "    standard_dev = round(np.std(data, ddof=1), 2)\n",
    "    bottom = round(data.mean() - 3 * standard_dev, 2)\n",
    "    top = round(data.mean() + 3 * standard_dev, 2)\n",
    "    d = {\n",
    "        'Metrics' : [metrics, metrics, metrics, metrics],\n",
    "        'Tariff' : [tariff, tariff, tariff, tariff],\n",
    "        'Stats' : ['Var', 'Std', 'Bottom', 'Top'],\n",
    "        'Values' : [variance, standard_dev, bottom, top]\n",
    "    }\n",
    "    return pd.DataFrame(d)"
   ]
  },
  {
   "cell_type": "code",
   "execution_count": 39,
   "metadata": {},
   "outputs": [
    {
     "data": {
      "text/html": [
       "<div>\n",
       "<style scoped>\n",
       "    .dataframe tbody tr th:only-of-type {\n",
       "        vertical-align: middle;\n",
       "    }\n",
       "\n",
       "    .dataframe tbody tr th {\n",
       "        vertical-align: top;\n",
       "    }\n",
       "\n",
       "    .dataframe thead th {\n",
       "        text-align: right;\n",
       "    }\n",
       "</style>\n",
       "<table border=\"1\" class=\"dataframe\">\n",
       "  <thead>\n",
       "    <tr style=\"text-align: right;\">\n",
       "      <th></th>\n",
       "      <th>Stats</th>\n",
       "      <th>Var</th>\n",
       "      <th>Std</th>\n",
       "      <th>Bottom</th>\n",
       "      <th>Top</th>\n",
       "    </tr>\n",
       "    <tr>\n",
       "      <th>Tariff</th>\n",
       "      <th>Metrics</th>\n",
       "      <th></th>\n",
       "      <th></th>\n",
       "      <th></th>\n",
       "      <th></th>\n",
       "    </tr>\n",
       "  </thead>\n",
       "  <tbody>\n",
       "    <tr>\n",
       "      <th rowspan=\"3\" valign=\"top\">smart</th>\n",
       "      <th>calls_min</th>\n",
       "      <td>5296.90</td>\n",
       "      <td>72.78</td>\n",
       "      <td>169.27</td>\n",
       "      <td>605.95</td>\n",
       "    </tr>\n",
       "    <tr>\n",
       "      <th>gb_used</th>\n",
       "      <td>6.91</td>\n",
       "      <td>2.63</td>\n",
       "      <td>7.31</td>\n",
       "      <td>23.09</td>\n",
       "    </tr>\n",
       "    <tr>\n",
       "      <th>sms_number</th>\n",
       "      <td>26.09</td>\n",
       "      <td>5.11</td>\n",
       "      <td>16.09</td>\n",
       "      <td>46.75</td>\n",
       "    </tr>\n",
       "    <tr>\n",
       "      <th rowspan=\"3\" valign=\"top\">ultra</th>\n",
       "      <th>calls_min</th>\n",
       "      <td>7185.12</td>\n",
       "      <td>84.77</td>\n",
       "      <td>256.92</td>\n",
       "      <td>765.54</td>\n",
       "    </tr>\n",
       "    <tr>\n",
       "      <th>gb_used</th>\n",
       "      <td>8.37</td>\n",
       "      <td>2.89</td>\n",
       "      <td>9.63</td>\n",
       "      <td>26.97</td>\n",
       "    </tr>\n",
       "    <tr>\n",
       "      <th>sms_number</th>\n",
       "      <td>148.89</td>\n",
       "      <td>12.20</td>\n",
       "      <td>6.89</td>\n",
       "      <td>80.09</td>\n",
       "    </tr>\n",
       "  </tbody>\n",
       "</table>\n",
       "</div>"
      ],
      "text/plain": [
       "Stats                  Var    Std  Bottom     Top\n",
       "Tariff Metrics                                   \n",
       "smart  calls_min   5296.90  72.78  169.27  605.95\n",
       "       gb_used        6.91   2.63    7.31   23.09\n",
       "       sms_number    26.09   5.11   16.09   46.75\n",
       "ultra  calls_min   7185.12  84.77  256.92  765.54\n",
       "       gb_used        8.37   2.89    9.63   26.97\n",
       "       sms_number   148.89  12.20    6.89   80.09"
      ]
     },
     "execution_count": 39,
     "metadata": {},
     "output_type": "execute_result"
    }
   ],
   "source": [
    "# объединим все полученные функцией calculate_stats датафреймы в один\n",
    "stats_total = pd.DataFrame()\n",
    "for i in ['smart', 'ultra']:\n",
    "    for j in ['calls_min', 'gb_used', 'sms_number']:\n",
    "        stats_total = stats_total.append(calculate_stats(i,j))\n",
    "\n",
    "stats_total.reset_index(inplace=True, drop=True)\n",
    "\n",
    "# сгруппируем в более компактный вид\n",
    "(stats_total.pivot_table(index=['Tariff', 'Metrics'], columns='Stats', values='Values')\n",
    ".reindex(['Var', 'Std', 'Bottom', 'Top'], axis=1))"
   ]
  },
  {
   "cell_type": "markdown",
   "metadata": {},
   "source": [
    "### Вывод"
   ]
  },
  {
   "cell_type": "markdown",
   "metadata": {},
   "source": [
    "99% абонентов тарифа smart в месяц: \n",
    "- тратят от 169 до 605 мин;\n",
    "- расходуют от 7 до 23 Гб интернет-трафика;\n",
    "- отправляют от 16 до 47 СМС.\n",
    "\n",
    "99% абонентов тарифа ultra в месяц: \n",
    "- тратят от 257 до 765 мин;\n",
    "- расходуют от 10 до 27 Гб интернет-трафика;\n",
    "- отправляют от 7 до 80 СМС."
   ]
  },
  {
   "cell_type": "code",
   "execution_count": 40,
   "metadata": {},
   "outputs": [
    {
     "data": {
      "text/html": [
       "<div>\n",
       "<style scoped>\n",
       "    .dataframe tbody tr th:only-of-type {\n",
       "        vertical-align: middle;\n",
       "    }\n",
       "\n",
       "    .dataframe tbody tr th {\n",
       "        vertical-align: top;\n",
       "    }\n",
       "\n",
       "    .dataframe thead th {\n",
       "        text-align: right;\n",
       "    }\n",
       "</style>\n",
       "<table border=\"1\" class=\"dataframe\">\n",
       "  <thead>\n",
       "    <tr style=\"text-align: right;\">\n",
       "      <th></th>\n",
       "      <th>total_revenue</th>\n",
       "    </tr>\n",
       "    <tr>\n",
       "      <th>tariff_name</th>\n",
       "      <th></th>\n",
       "    </tr>\n",
       "  </thead>\n",
       "  <tbody>\n",
       "    <tr>\n",
       "      <th>smart</th>\n",
       "      <td>1290.225169</td>\n",
       "    </tr>\n",
       "    <tr>\n",
       "      <th>ultra</th>\n",
       "      <td>2070.219436</td>\n",
       "    </tr>\n",
       "  </tbody>\n",
       "</table>\n",
       "</div>"
      ],
      "text/plain": [
       "             total_revenue\n",
       "tariff_name               \n",
       "smart          1290.225169\n",
       "ultra          2070.219436"
      ]
     },
     "execution_count": 40,
     "metadata": {},
     "output_type": "execute_result"
    }
   ],
   "source": [
    "# среднее значение выручки в месяц\n",
    "data_final.pivot_table(index='tariff_name', values='total_revenue')"
   ]
  },
  {
   "cell_type": "markdown",
   "metadata": {},
   "source": [
    "Выручка по тарифу ultra в среднем в месяц приносит на 60% больше выручки."
   ]
  },
  {
   "cell_type": "code",
   "execution_count": 41,
   "metadata": {
    "scrolled": false
   },
   "outputs": [
    {
     "data": {
      "text/html": [
       "<div>\n",
       "<style scoped>\n",
       "    .dataframe tbody tr th:only-of-type {\n",
       "        vertical-align: middle;\n",
       "    }\n",
       "\n",
       "    .dataframe tbody tr th {\n",
       "        vertical-align: top;\n",
       "    }\n",
       "\n",
       "    .dataframe thead th {\n",
       "        text-align: right;\n",
       "    }\n",
       "</style>\n",
       "<table border=\"1\" class=\"dataframe\">\n",
       "  <thead>\n",
       "    <tr style=\"text-align: right;\">\n",
       "      <th>month</th>\n",
       "      <th>1.0</th>\n",
       "      <th>2.0</th>\n",
       "      <th>3.0</th>\n",
       "      <th>4.0</th>\n",
       "      <th>5.0</th>\n",
       "      <th>6.0</th>\n",
       "      <th>7.0</th>\n",
       "      <th>8.0</th>\n",
       "      <th>9.0</th>\n",
       "      <th>10.0</th>\n",
       "      <th>11.0</th>\n",
       "      <th>12.0</th>\n",
       "    </tr>\n",
       "    <tr>\n",
       "      <th>tariff_name</th>\n",
       "      <th></th>\n",
       "      <th></th>\n",
       "      <th></th>\n",
       "      <th></th>\n",
       "      <th></th>\n",
       "      <th></th>\n",
       "      <th></th>\n",
       "      <th></th>\n",
       "      <th></th>\n",
       "      <th></th>\n",
       "      <th></th>\n",
       "      <th></th>\n",
       "    </tr>\n",
       "  </thead>\n",
       "  <tbody>\n",
       "    <tr>\n",
       "      <th>smart</th>\n",
       "      <td>721.323529</td>\n",
       "      <td>827.603448</td>\n",
       "      <td>1164.623377</td>\n",
       "      <td>963.089286</td>\n",
       "      <td>1197.510638</td>\n",
       "      <td>1208.030675</td>\n",
       "      <td>1223.950249</td>\n",
       "      <td>1323.888889</td>\n",
       "      <td>1251.104247</td>\n",
       "      <td>1364.221843</td>\n",
       "      <td>1343.660317</td>\n",
       "      <td>1580.401786</td>\n",
       "    </tr>\n",
       "    <tr>\n",
       "      <th>ultra</th>\n",
       "      <td>1950.000000</td>\n",
       "      <td>1975.000000</td>\n",
       "      <td>2014.864865</td>\n",
       "      <td>2003.773585</td>\n",
       "      <td>2064.843750</td>\n",
       "      <td>2042.592593</td>\n",
       "      <td>2123.863636</td>\n",
       "      <td>2085.436893</td>\n",
       "      <td>2022.972973</td>\n",
       "      <td>2069.491525</td>\n",
       "      <td>2091.860465</td>\n",
       "      <td>2133.582090</td>\n",
       "    </tr>\n",
       "  </tbody>\n",
       "</table>\n",
       "</div>"
      ],
      "text/plain": [
       "month               1.0          2.0          3.0          4.0          5.0   \\\n",
       "tariff_name                                                                    \n",
       "smart         721.323529   827.603448  1164.623377   963.089286  1197.510638   \n",
       "ultra        1950.000000  1975.000000  2014.864865  2003.773585  2064.843750   \n",
       "\n",
       "month               6.0          7.0          8.0          9.0          10.0  \\\n",
       "tariff_name                                                                    \n",
       "smart        1208.030675  1223.950249  1323.888889  1251.104247  1364.221843   \n",
       "ultra        2042.592593  2123.863636  2085.436893  2022.972973  2069.491525   \n",
       "\n",
       "month               11.0         12.0  \n",
       "tariff_name                            \n",
       "smart        1343.660317  1580.401786  \n",
       "ultra        2091.860465  2133.582090  "
      ]
     },
     "execution_count": 41,
     "metadata": {},
     "output_type": "execute_result"
    }
   ],
   "source": [
    "revenue_per_month = (data_final.pivot_table(\n",
    "                    index='tariff_name', columns='month', values='total_revenue')\n",
    "                    .drop(0.0, axis=1))\n",
    "revenue_per_month"
   ]
  },
  {
   "cell_type": "code",
   "execution_count": 42,
   "metadata": {},
   "outputs": [
    {
     "data": {
      "image/png": "[encoded data removed]",
      "text/plain": [
       "<Figure size 432x288 with 1 Axes>"
      ]
     },
     "metadata": {
      "image/png": {
       "height": 277,
       "width": 395
      },
      "needs_background": "light"
     },
     "output_type": "display_data"
    }
   ],
   "source": [
    "plt.plot(revenue_per_month.loc['ultra'], label='ultra')\n",
    "plt.plot(revenue_per_month.loc['smart'], label='smart')\n",
    "plt.ylim(500,2500)\n",
    "plt.ylabel('Выручка')\n",
    "plt.xlabel('Месяц')\n",
    "plt.title('Динамика среднемесячной выручки')\n",
    "plt.legend()\n",
    "plt.show()"
   ]
  },
  {
   "cell_type": "markdown",
   "metadata": {},
   "source": [
    "За рассматриваемый период среднемесячная выручка в целом росла по обоим тарифам с небольшими периодами снижения. Выручка по тарифу smart росла более быстрыми темпами."
   ]
  },
  {
   "cell_type": "code",
   "execution_count": 43,
   "metadata": {},
   "outputs": [
    {
     "data": {
      "image/png": "[encoded data removed]",
      "text/plain": [
       "<Figure size 1440x504 with 2 Axes>"
      ]
     },
     "metadata": {
      "image/png": {
       "height": 496,
       "width": 1432
      },
      "needs_background": "light"
     },
     "output_type": "display_data"
    }
   ],
   "source": [
    "get_distribution('total_revenue', 10)"
   ]
  },
  {
   "cell_type": "code",
   "execution_count": 44,
   "metadata": {},
   "outputs": [
    {
     "data": {
      "text/html": [
       "<div>\n",
       "<style scoped>\n",
       "    .dataframe tbody tr th:only-of-type {\n",
       "        vertical-align: middle;\n",
       "    }\n",
       "\n",
       "    .dataframe tbody tr th {\n",
       "        vertical-align: top;\n",
       "    }\n",
       "\n",
       "    .dataframe thead th {\n",
       "        text-align: right;\n",
       "    }\n",
       "</style>\n",
       "<table border=\"1\" class=\"dataframe\">\n",
       "  <thead>\n",
       "    <tr style=\"text-align: right;\">\n",
       "      <th>Stats</th>\n",
       "      <th>Var</th>\n",
       "      <th>Std</th>\n",
       "      <th>Bottom</th>\n",
       "      <th>Top</th>\n",
       "    </tr>\n",
       "    <tr>\n",
       "      <th>Tariff</th>\n",
       "      <th></th>\n",
       "      <th></th>\n",
       "      <th></th>\n",
       "      <th></th>\n",
       "    </tr>\n",
       "  </thead>\n",
       "  <tbody>\n",
       "    <tr>\n",
       "      <th>smart</th>\n",
       "      <td>57424.96</td>\n",
       "      <td>239.64</td>\n",
       "      <td>461.86</td>\n",
       "      <td>1899.70</td>\n",
       "    </tr>\n",
       "    <tr>\n",
       "      <th>ultra</th>\n",
       "      <td>3253.87</td>\n",
       "      <td>57.04</td>\n",
       "      <td>1877.07</td>\n",
       "      <td>2219.31</td>\n",
       "    </tr>\n",
       "  </tbody>\n",
       "</table>\n",
       "</div>"
      ],
      "text/plain": [
       "Stats        Var     Std   Bottom      Top\n",
       "Tariff                                    \n",
       "smart   57424.96  239.64   461.86  1899.70\n",
       "ultra    3253.87   57.04  1877.07  2219.31"
      ]
     },
     "execution_count": 44,
     "metadata": {},
     "output_type": "execute_result"
    }
   ],
   "source": [
    "stats_total_revenue = pd.DataFrame()\n",
    "for i in ['smart', 'ultra']:\n",
    "    stats_total_revenue = stats_total_revenue.append(calculate_stats(i,'total_revenue'))\n",
    "\n",
    "stats_total_revenue.reset_index(inplace=True, drop=True)\n",
    "\n",
    "(stats_total_revenue.pivot_table(index=['Tariff'], columns='Stats', values='Values')\n",
    ".reindex(['Var', 'Std', 'Bottom', 'Top'], axis=1))"
   ]
  },
  {
   "cell_type": "markdown",
   "metadata": {},
   "source": [
    "### Вывод"
   ]
  },
  {
   "cell_type": "markdown",
   "metadata": {},
   "source": [
    "В среднем в месяц по выборке абоненты ultra приносят больше выручки."
   ]
  },
  {
   "cell_type": "markdown",
   "metadata": {},
   "source": [
    "## Проверка гипотез\n",
    "<a id=\"5\"></a>"
   ]
  },
  {
   "cell_type": "markdown",
   "metadata": {},
   "source": [
    "### Средняя выручка пользователей тарифов «Ультра» и «Смарт» различаются"
   ]
  },
  {
   "cell_type": "markdown",
   "metadata": {},
   "source": [
    "Нулевая гипотеза Н0: Средняя выручка пользователей тарифов «Ультра» и «Смарт» равны.\n",
    "\n",
    "Альтернативная гипотеза Н1: Средняя выручка пользователей тарифов «Ультра» и «Смарт» различаются."
   ]
  },
  {
   "cell_type": "code",
   "execution_count": 45,
   "metadata": {
    "scrolled": true
   },
   "outputs": [
    {
     "name": "stdout",
     "output_type": "stream",
     "text": [
      "p-значение: 2.7573403948209683e-156\n",
      "Отвергаем нулевую гипотезу\n"
     ]
    }
   ],
   "source": [
    "# Применяем метод для проверки гипотезы о равенстве среднего \n",
    "# двух генеральных совокупностей по взятым из них выборкам\n",
    "\n",
    "alpha = .01 \n",
    "\n",
    "results = st.ttest_ind(\n",
    "    data_final.query('tariff_name == \"ultra\"')['total_revenue'], \n",
    "    data_final.query('tariff_name == \"smart\"')['total_revenue'])\n",
    "\n",
    "print('p-значение:', results.pvalue)\n",
    "\n",
    "if results.pvalue < alpha:\n",
    "    print(\"Отвергаем нулевую гипотезу\")\n",
    "else:\n",
    "    print(\"Не получилось отвергнуть нулевую гипотезу\") "
   ]
  },
  {
   "cell_type": "markdown",
   "metadata": {},
   "source": [
    "### Вывод"
   ]
  },
  {
   "cell_type": "markdown",
   "metadata": {},
   "source": [
    "Скорее всего, средняя выручка пользователей тарифов «Ультра» и «Смарт» различаются."
   ]
  },
  {
   "cell_type": "markdown",
   "metadata": {},
   "source": [
    "### Средняя выручка пользователей из Москвы отличается от выручки пользователей из других регионов."
   ]
  },
  {
   "cell_type": "markdown",
   "metadata": {},
   "source": [
    "Нулевая гипотеза Н0: Cредняя выручка пользователей из Москвы равна выручке пользователей из других регионов.\n",
    "\n",
    "Альтернативная гипотеза Н1: Cредняя выручка пользователей из Москвы отличается от выручки пользователей из других регионов."
   ]
  },
  {
   "cell_type": "code",
   "execution_count": 46,
   "metadata": {
    "scrolled": true
   },
   "outputs": [
    {
     "data": {
      "text/html": [
       "<div>\n",
       "<style scoped>\n",
       "    .dataframe tbody tr th:only-of-type {\n",
       "        vertical-align: middle;\n",
       "    }\n",
       "\n",
       "    .dataframe tbody tr th {\n",
       "        vertical-align: top;\n",
       "    }\n",
       "\n",
       "    .dataframe thead th {\n",
       "        text-align: right;\n",
       "    }\n",
       "</style>\n",
       "<table border=\"1\" class=\"dataframe\">\n",
       "  <thead>\n",
       "    <tr style=\"text-align: right;\">\n",
       "      <th></th>\n",
       "      <th>user_id</th>\n",
       "      <th>tariff_name</th>\n",
       "      <th>month</th>\n",
       "      <th>calls_min</th>\n",
       "      <th>sms_number</th>\n",
       "      <th>gb_used</th>\n",
       "      <th>total_revenue</th>\n",
       "      <th>city</th>\n",
       "    </tr>\n",
       "  </thead>\n",
       "  <tbody>\n",
       "    <tr>\n",
       "      <th>0</th>\n",
       "      <td>1000</td>\n",
       "      <td>ultra</td>\n",
       "      <td>5.0</td>\n",
       "      <td>159.0</td>\n",
       "      <td>22.0</td>\n",
       "      <td>3.0</td>\n",
       "      <td>1950.0</td>\n",
       "      <td>Краснодар</td>\n",
       "    </tr>\n",
       "    <tr>\n",
       "      <th>1</th>\n",
       "      <td>1000</td>\n",
       "      <td>ultra</td>\n",
       "      <td>6.0</td>\n",
       "      <td>172.0</td>\n",
       "      <td>60.0</td>\n",
       "      <td>23.0</td>\n",
       "      <td>1950.0</td>\n",
       "      <td>Краснодар</td>\n",
       "    </tr>\n",
       "    <tr>\n",
       "      <th>2</th>\n",
       "      <td>1000</td>\n",
       "      <td>ultra</td>\n",
       "      <td>7.0</td>\n",
       "      <td>340.0</td>\n",
       "      <td>75.0</td>\n",
       "      <td>14.0</td>\n",
       "      <td>1950.0</td>\n",
       "      <td>Краснодар</td>\n",
       "    </tr>\n",
       "    <tr>\n",
       "      <th>3</th>\n",
       "      <td>1000</td>\n",
       "      <td>ultra</td>\n",
       "      <td>8.0</td>\n",
       "      <td>408.0</td>\n",
       "      <td>81.0</td>\n",
       "      <td>14.0</td>\n",
       "      <td>1950.0</td>\n",
       "      <td>Краснодар</td>\n",
       "    </tr>\n",
       "    <tr>\n",
       "      <th>4</th>\n",
       "      <td>1000</td>\n",
       "      <td>ultra</td>\n",
       "      <td>9.0</td>\n",
       "      <td>466.0</td>\n",
       "      <td>57.0</td>\n",
       "      <td>15.0</td>\n",
       "      <td>1950.0</td>\n",
       "      <td>Краснодар</td>\n",
       "    </tr>\n",
       "  </tbody>\n",
       "</table>\n",
       "</div>"
      ],
      "text/plain": [
       "   user_id tariff_name  month  calls_min  sms_number  gb_used  total_revenue  \\\n",
       "0     1000       ultra    5.0      159.0        22.0      3.0         1950.0   \n",
       "1     1000       ultra    6.0      172.0        60.0     23.0         1950.0   \n",
       "2     1000       ultra    7.0      340.0        75.0     14.0         1950.0   \n",
       "3     1000       ultra    8.0      408.0        81.0     14.0         1950.0   \n",
       "4     1000       ultra    9.0      466.0        57.0     15.0         1950.0   \n",
       "\n",
       "        city  \n",
       "0  Краснодар  \n",
       "1  Краснодар  \n",
       "2  Краснодар  \n",
       "3  Краснодар  \n",
       "4  Краснодар  "
      ]
     },
     "execution_count": 46,
     "metadata": {},
     "output_type": "execute_result"
    }
   ],
   "source": [
    "# добавим столбец с городами в соответствии с user_id\n",
    "data_final_cities = data_final.merge(data_users[['user_id', 'city']], on='user_id', how='left')\n",
    "data_final_cities.head()"
   ]
  },
  {
   "cell_type": "code",
   "execution_count": 47,
   "metadata": {
    "scrolled": false
   },
   "outputs": [
    {
     "name": "stdout",
     "output_type": "stream",
     "text": [
      "p-значение: 0.46586169582718384\n",
      "Не получилось отвергнуть нулевую гипотезу\n"
     ]
    }
   ],
   "source": [
    "# Применяем метод для проверки гипотезы о равенстве среднего \n",
    "# двух генеральных совокупностей по взятым из них выборкам\n",
    "\n",
    "alpha = .01 \n",
    "\n",
    "results = st.ttest_ind(\n",
    "    data_final_cities.query('city == \"Москва\"')['total_revenue'], \n",
    "    data_final_cities.query('city != \"Москва\"')['total_revenue'])\n",
    "\n",
    "print('p-значение:', results.pvalue)\n",
    "\n",
    "if results.pvalue < alpha:\n",
    "    print(\"Отвергаем нулевую гипотезу\")\n",
    "else:\n",
    "    print(\"Не получилось отвергнуть нулевую гипотезу\") "
   ]
  },
  {
   "cell_type": "code",
   "execution_count": 48,
   "metadata": {},
   "outputs": [],
   "source": [
    "def is_moscow(df):\n",
    "    \"Возвращает True, если город соответствует Москве, иначе False\"\n",
    "    return df['city'] == 'Москва'\n",
    "\n",
    "data_final_cities['moscow'] = data_final_cities.apply(is_moscow, axis=1)"
   ]
  },
  {
   "cell_type": "code",
   "execution_count": 49,
   "metadata": {},
   "outputs": [
    {
     "data": {
      "text/html": [
       "<div>\n",
       "<style scoped>\n",
       "    .dataframe tbody tr th:only-of-type {\n",
       "        vertical-align: middle;\n",
       "    }\n",
       "\n",
       "    .dataframe tbody tr th {\n",
       "        vertical-align: top;\n",
       "    }\n",
       "\n",
       "    .dataframe thead th {\n",
       "        text-align: right;\n",
       "    }\n",
       "</style>\n",
       "<table border=\"1\" class=\"dataframe\">\n",
       "  <thead>\n",
       "    <tr style=\"text-align: right;\">\n",
       "      <th>moscow</th>\n",
       "      <th>False</th>\n",
       "      <th>True</th>\n",
       "    </tr>\n",
       "    <tr>\n",
       "      <th>tariff_name</th>\n",
       "      <th></th>\n",
       "      <th></th>\n",
       "    </tr>\n",
       "  </thead>\n",
       "  <tbody>\n",
       "    <tr>\n",
       "      <th>smart</th>\n",
       "      <td>1300.902121</td>\n",
       "      <td>1239.357513</td>\n",
       "    </tr>\n",
       "    <tr>\n",
       "      <th>ultra</th>\n",
       "      <td>2068.894952</td>\n",
       "      <td>2074.553571</td>\n",
       "    </tr>\n",
       "  </tbody>\n",
       "</table>\n",
       "</div>"
      ],
      "text/plain": [
       "moscow             False        True \n",
       "tariff_name                          \n",
       "smart        1300.902121  1239.357513\n",
       "ultra        2068.894952  2074.553571"
      ]
     },
     "execution_count": 49,
     "metadata": {},
     "output_type": "execute_result"
    }
   ],
   "source": [
    "# средняя выручка по Москве и другим регионам в разрере тарифов\n",
    "data_final_cities.pivot_table(index='tariff_name', columns='moscow', values='total_revenue')"
   ]
  },
  {
   "cell_type": "markdown",
   "metadata": {},
   "source": [
    "### Вывод"
   ]
  },
  {
   "cell_type": "markdown",
   "metadata": {},
   "source": [
    "Скорее всего, средняя выручка пользователей из Москвы равна выручке пользователей из других регионов."
   ]
  },
  {
   "cell_type": "markdown",
   "metadata": {},
   "source": [
    "## Общий вывод\n",
    "<a id=\"6\"></a>"
   ]
  },
  {
   "cell_type": "markdown",
   "metadata": {},
   "source": [
    "В ходе анализа обнаружены следующие проблемы:\n",
    "- 8 абонентов в выборке не совершали звонки;\n",
    "- 74 абонента не отправляли СМС;\n",
    "- 3 абонента не пользовались интернетом;\n",
    "- У 494 пользователей были сессии с нулевым объемом трафика.\n",
    "\n",
    "В среднем в течение года пользователи тарифа \"Ультра\" больше разговаривают, отправляют смс и пользуются интернетом.\n",
    "\n",
    "Вероятнее всего, средняя выручка пользователей тарифов «Ультра» и «Смарт» различаются. При этом, средняя выручка пользователей из Москвы, скорее всего, не отличается от других регионов. \n",
    "\n",
    "Несмотря на то, что за рассматриваемый период тариф \"Ультра\" приносит больше выручки, выручка по тарифу \"Смарт\" растет более быстрыми темпами. **Маркетинговому департаменту целесообразно сосредоточиться на тарифе \"Смарт\" в целях дальнейшего стимулирования роста.**"
   ]
  }
 ],
 "metadata": {
  "ExecuteTimeLog": [
   {
    "duration": 1038,
    "start_time": "2022-06-23T23:52:16.100Z"
   },
   {
    "duration": 437,
    "start_time": "2022-06-23T23:52:17.140Z"
   },
   {
    "duration": 11,
    "start_time": "2022-06-23T23:52:17.579Z"
   },
   {
    "duration": 22,
    "start_time": "2022-06-23T23:52:17.591Z"
   },
   {
    "duration": 30,
    "start_time": "2022-06-23T23:52:17.614Z"
   },
   {
    "duration": 7,
    "start_time": "2022-06-23T23:52:17.646Z"
   },
   {
    "duration": 19,
    "start_time": "2022-06-23T23:52:17.655Z"
   },
   {
    "duration": 7,
    "start_time": "2022-06-23T23:52:17.675Z"
   },
   {
    "duration": 26,
    "start_time": "2022-06-23T23:52:17.684Z"
   },
   {
    "duration": 20,
    "start_time": "2022-06-23T23:52:17.713Z"
   },
   {
    "duration": 18,
    "start_time": "2022-06-23T23:52:17.735Z"
   },
   {
    "duration": 19,
    "start_time": "2022-06-23T23:52:17.754Z"
   },
   {
    "duration": 7,
    "start_time": "2022-06-23T23:52:17.774Z"
   },
   {
    "duration": 10,
    "start_time": "2022-06-23T23:52:17.783Z"
   },
   {
    "duration": 35,
    "start_time": "2022-06-23T23:52:17.795Z"
   },
   {
    "duration": 10,
    "start_time": "2022-06-23T23:52:17.831Z"
   },
   {
    "duration": 3,
    "start_time": "2022-06-23T23:52:17.843Z"
   },
   {
    "duration": 6,
    "start_time": "2022-06-23T23:52:17.847Z"
   },
   {
    "duration": 5,
    "start_time": "2022-06-23T23:52:17.855Z"
   },
   {
    "duration": 24,
    "start_time": "2022-06-23T23:52:17.861Z"
   },
   {
    "duration": 4,
    "start_time": "2022-06-23T23:52:17.886Z"
   },
   {
    "duration": 45,
    "start_time": "2022-06-23T23:52:17.891Z"
   },
   {
    "duration": 3,
    "start_time": "2022-06-23T23:52:17.937Z"
   },
   {
    "duration": 11,
    "start_time": "2022-06-23T23:52:17.942Z"
   },
   {
    "duration": 26,
    "start_time": "2022-06-23T23:52:17.954Z"
   },
   {
    "duration": 9,
    "start_time": "2022-06-23T23:52:17.981Z"
   },
   {
    "duration": 5,
    "start_time": "2022-06-23T23:52:17.991Z"
   },
   {
    "duration": 39,
    "start_time": "2022-06-23T23:52:17.999Z"
   },
   {
    "duration": 14,
    "start_time": "2022-06-23T23:52:18.039Z"
   },
   {
    "duration": 21,
    "start_time": "2022-06-23T23:52:18.054Z"
   },
   {
    "duration": 8,
    "start_time": "2022-06-23T23:52:18.076Z"
   },
   {
    "duration": 3,
    "start_time": "2022-06-23T23:52:18.086Z"
   },
   {
    "duration": 42,
    "start_time": "2022-06-23T23:52:18.091Z"
   },
   {
    "duration": 16,
    "start_time": "2022-06-23T23:52:18.135Z"
   },
   {
    "duration": 22,
    "start_time": "2022-06-23T23:52:18.152Z"
   },
   {
    "duration": 2,
    "start_time": "2022-06-23T23:52:18.175Z"
   },
   {
    "duration": 7,
    "start_time": "2022-06-23T23:52:18.179Z"
   },
   {
    "duration": 9,
    "start_time": "2022-06-23T23:52:18.193Z"
   },
   {
    "duration": 25,
    "start_time": "2022-06-23T23:52:18.204Z"
   },
   {
    "duration": 4,
    "start_time": "2022-06-23T23:52:18.231Z"
   },
   {
    "duration": 13,
    "start_time": "2022-06-23T23:52:18.237Z"
   },
   {
    "duration": 25,
    "start_time": "2022-06-23T23:52:18.251Z"
   },
   {
    "duration": 6,
    "start_time": "2022-06-23T23:52:18.277Z"
   },
   {
    "duration": 6,
    "start_time": "2022-06-23T23:52:18.284Z"
   },
   {
    "duration": 45,
    "start_time": "2022-06-23T23:52:18.291Z"
   },
   {
    "duration": 4,
    "start_time": "2022-06-23T23:52:18.337Z"
   },
   {
    "duration": 101,
    "start_time": "2022-06-23T23:52:18.342Z"
   },
   {
    "duration": 14,
    "start_time": "2022-06-23T23:52:18.445Z"
   },
   {
    "duration": 13,
    "start_time": "2022-06-23T23:52:18.460Z"
   },
   {
    "duration": 21,
    "start_time": "2022-06-23T23:52:18.474Z"
   },
   {
    "duration": 321,
    "start_time": "2022-06-23T23:52:18.497Z"
   },
   {
    "duration": 302,
    "start_time": "2022-06-23T23:52:18.819Z"
   },
   {
    "duration": 24,
    "start_time": "2022-06-23T23:52:19.123Z"
   },
   {
    "duration": 231,
    "start_time": "2022-06-23T23:52:19.149Z"
   },
   {
    "duration": 231,
    "start_time": "2022-06-23T23:52:19.381Z"
   },
   {
    "duration": 26,
    "start_time": "2022-06-23T23:52:19.614Z"
   },
   {
    "duration": 171,
    "start_time": "2022-06-23T23:52:19.641Z"
   },
   {
    "duration": 254,
    "start_time": "2022-06-23T23:52:19.814Z"
   },
   {
    "duration": 5,
    "start_time": "2022-06-23T23:52:20.069Z"
   },
   {
    "duration": 62,
    "start_time": "2022-06-23T23:52:20.076Z"
   },
   {
    "duration": 3,
    "start_time": "2022-06-23T23:52:20.139Z"
   },
   {
    "duration": 16,
    "start_time": "2022-06-23T23:52:20.143Z"
   },
   {
    "duration": 18,
    "start_time": "2022-06-23T23:52:20.161Z"
   },
   {
    "duration": 8,
    "start_time": "2022-06-23T23:52:20.180Z"
   },
   {
    "duration": 19,
    "start_time": "2022-06-23T23:52:20.189Z"
   },
   {
    "duration": 2,
    "start_time": "2022-06-23T23:52:20.229Z"
   },
   {
    "duration": 23,
    "start_time": "2022-06-23T23:52:20.233Z"
   },
   {
    "duration": 10,
    "start_time": "2022-06-23T23:52:20.257Z"
   },
   {
    "duration": 4,
    "start_time": "2022-06-24T00:16:13.422Z"
   },
   {
    "duration": 41,
    "start_time": "2022-06-25T01:06:46.230Z"
   },
   {
    "duration": 1056,
    "start_time": "2022-06-25T01:06:54.932Z"
   },
   {
    "duration": 427,
    "start_time": "2022-06-25T01:06:55.990Z"
   },
   {
    "duration": 10,
    "start_time": "2022-06-25T01:06:56.419Z"
   },
   {
    "duration": 20,
    "start_time": "2022-06-25T01:06:56.431Z"
   },
   {
    "duration": 30,
    "start_time": "2022-06-25T01:06:56.452Z"
   },
   {
    "duration": 10,
    "start_time": "2022-06-25T01:06:56.483Z"
   },
   {
    "duration": 36,
    "start_time": "2022-06-25T01:06:56.495Z"
   },
   {
    "duration": 7,
    "start_time": "2022-06-25T01:06:56.533Z"
   },
   {
    "duration": 25,
    "start_time": "2022-06-25T01:06:56.541Z"
   },
   {
    "duration": 7,
    "start_time": "2022-06-25T01:06:56.568Z"
   },
   {
    "duration": 16,
    "start_time": "2022-06-25T01:06:56.576Z"
   },
   {
    "duration": 45,
    "start_time": "2022-06-25T01:06:56.593Z"
   },
   {
    "duration": 7,
    "start_time": "2022-06-25T01:06:56.640Z"
   },
   {
    "duration": 9,
    "start_time": "2022-06-25T01:06:56.650Z"
   },
   {
    "duration": 10,
    "start_time": "2022-06-25T01:06:56.660Z"
   },
   {
    "duration": 9,
    "start_time": "2022-06-25T01:06:56.672Z"
   },
   {
    "duration": 5,
    "start_time": "2022-06-25T01:06:56.683Z"
   },
   {
    "duration": 7,
    "start_time": "2022-06-25T01:06:56.689Z"
   },
   {
    "duration": 5,
    "start_time": "2022-06-25T01:06:56.697Z"
   },
   {
    "duration": 346,
    "start_time": "2022-06-25T01:06:56.703Z"
   },
   {
    "duration": 10,
    "start_time": "2022-06-25T01:06:57.050Z"
   },
   {
    "duration": 11,
    "start_time": "2022-06-25T01:06:57.061Z"
   },
   {
    "duration": 186,
    "start_time": "2022-06-25T01:06:57.073Z"
   },
   {
    "duration": 20,
    "start_time": "2022-06-25T01:06:57.260Z"
   },
   {
    "duration": 3,
    "start_time": "2022-06-25T01:06:57.282Z"
   },
   {
    "duration": 26,
    "start_time": "2022-06-25T01:06:57.286Z"
   },
   {
    "duration": 18,
    "start_time": "2022-06-25T01:06:57.313Z"
   },
   {
    "duration": 12,
    "start_time": "2022-06-25T01:06:57.333Z"
   },
   {
    "duration": 26,
    "start_time": "2022-06-25T01:06:57.347Z"
   },
   {
    "duration": 10,
    "start_time": "2022-06-25T01:06:57.375Z"
   },
   {
    "duration": 7,
    "start_time": "2022-06-25T01:06:57.387Z"
   },
   {
    "duration": 36,
    "start_time": "2022-06-25T01:06:57.395Z"
   },
   {
    "duration": 14,
    "start_time": "2022-06-25T01:06:57.433Z"
   },
   {
    "duration": 21,
    "start_time": "2022-06-25T01:06:57.448Z"
   },
   {
    "duration": 9,
    "start_time": "2022-06-25T01:06:57.471Z"
   },
   {
    "duration": 4,
    "start_time": "2022-06-25T01:06:57.482Z"
   },
   {
    "duration": 51,
    "start_time": "2022-06-25T01:06:57.488Z"
   },
   {
    "duration": 18,
    "start_time": "2022-06-25T01:06:57.540Z"
   },
   {
    "duration": 24,
    "start_time": "2022-06-25T01:06:57.559Z"
   },
   {
    "duration": 4,
    "start_time": "2022-06-25T01:06:57.584Z"
   },
   {
    "duration": 3,
    "start_time": "2022-06-25T01:06:57.593Z"
   },
   {
    "duration": 3,
    "start_time": "2022-06-25T01:06:57.629Z"
   },
   {
    "duration": 14,
    "start_time": "2022-06-25T01:06:57.633Z"
   },
   {
    "duration": 5,
    "start_time": "2022-06-25T01:06:57.649Z"
   },
   {
    "duration": 11,
    "start_time": "2022-06-25T01:06:57.656Z"
   },
   {
    "duration": 23,
    "start_time": "2022-06-25T01:06:57.669Z"
   },
   {
    "duration": 3,
    "start_time": "2022-06-25T01:06:57.693Z"
   },
   {
    "duration": 35,
    "start_time": "2022-06-25T01:06:57.697Z"
   },
   {
    "duration": 6,
    "start_time": "2022-06-25T01:06:57.734Z"
   },
   {
    "duration": 19,
    "start_time": "2022-06-25T01:06:57.741Z"
   },
   {
    "duration": 4,
    "start_time": "2022-06-25T01:06:57.761Z"
   },
   {
    "duration": 110,
    "start_time": "2022-06-25T01:06:57.766Z"
   },
   {
    "duration": 15,
    "start_time": "2022-06-25T01:06:57.878Z"
   },
   {
    "duration": 16,
    "start_time": "2022-06-25T01:06:57.894Z"
   },
   {
    "duration": 33,
    "start_time": "2022-06-25T01:06:57.911Z"
   },
   {
    "duration": 424,
    "start_time": "2022-06-25T01:06:57.945Z"
   },
   {
    "duration": 22,
    "start_time": "2022-06-25T01:06:58.371Z"
   },
   {
    "duration": 301,
    "start_time": "2022-06-25T01:06:58.394Z"
   },
   {
    "duration": 21,
    "start_time": "2022-06-25T01:06:58.697Z"
   },
   {
    "duration": 200,
    "start_time": "2022-06-25T01:06:58.729Z"
   },
   {
    "duration": 5,
    "start_time": "2022-06-25T01:06:58.930Z"
   },
   {
    "duration": 60,
    "start_time": "2022-06-25T01:06:58.936Z"
   },
   {
    "duration": 3,
    "start_time": "2022-06-25T01:06:58.998Z"
   },
   {
    "duration": 14,
    "start_time": "2022-06-25T01:06:59.002Z"
   },
   {
    "duration": 31,
    "start_time": "2022-06-25T01:06:59.018Z"
   },
   {
    "duration": 14,
    "start_time": "2022-06-25T01:06:59.050Z"
   },
   {
    "duration": 19,
    "start_time": "2022-06-25T01:06:59.065Z"
   },
   {
    "duration": 193,
    "start_time": "2022-06-25T01:06:59.085Z"
   },
   {
    "duration": 277,
    "start_time": "2022-06-25T01:06:59.280Z"
   },
   {
    "duration": 21,
    "start_time": "2022-06-25T01:06:59.558Z"
   },
   {
    "duration": 8,
    "start_time": "2022-06-25T01:06:59.580Z"
   },
   {
    "duration": 16,
    "start_time": "2022-06-25T01:06:59.589Z"
   },
   {
    "duration": 27,
    "start_time": "2022-06-25T01:06:59.607Z"
   },
   {
    "duration": 17,
    "start_time": "2022-06-25T01:06:59.635Z"
   },
   {
    "duration": 2,
    "start_time": "2022-06-25T01:06:59.654Z"
   },
   {
    "duration": 25,
    "start_time": "2022-06-25T01:06:59.657Z"
   },
   {
    "duration": 9,
    "start_time": "2022-06-25T01:06:59.683Z"
   },
   {
    "duration": 36,
    "start_time": "2022-06-25T01:06:59.694Z"
   }
  ],
  "kernelspec": {
   "display_name": "Python 3 (ipykernel)",
   "language": "python",
   "name": "python3"
  },
  "language_info": {
   "codemirror_mode": {
    "name": "ipython",
    "version": 3
   },
   "file_extension": ".py",
   "mimetype": "text/x-python",
   "name": "python",
   "nbconvert_exporter": "python",
   "pygments_lexer": "ipython3",
   "version": "3.9.7"
  },
  "toc": {
   "base_numbering": 1,
   "nav_menu": {},
   "number_sections": true,
   "sideBar": true,
   "skip_h1_title": true,
   "title_cell": "Table of Contents",
   "title_sidebar": "Contents",
   "toc_cell": false,
   "toc_position": {
    "height": "calc(100% - 180px)",
    "left": "10px",
    "top": "150px",
    "width": "165px"
   },
   "toc_section_display": true,
   "toc_window_display": true
  }
 },
 "nbformat": 4,
 "nbformat_minor": 2
}
