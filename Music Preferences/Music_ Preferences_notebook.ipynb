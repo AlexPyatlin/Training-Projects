{
 "cells": [
  {
   "cell_type": "markdown",
   "metadata": {
    "id": "E0vqbgi9ay0H"
   },
   "source": [
    "# Описание проекта"
   ]
  },
  {
   "cell_type": "markdown",
   "metadata": {},
   "source": [
    "В распоряжении есть данные Яндекс.Музыки о поведении пользователей из Москвы и Санкт-Петербурга.\n",
    "\n",
    "**Цель исследования** — проверить три гипотезы:\n",
    "1. Активность пользователей зависит от дня недели. Причём в Москве и Петербурге это проявляется по-разному.\n",
    "2. В понедельник утром в Москве преобладают одни жанры, а в Петербурге — другие. Так же и вечером пятницы преобладают разные жанры — в зависимости от города. \n",
    "3. Москва и Петербург предпочитают разные жанры музыки. В Москве чаще слушают поп-музыку, в Петербурге — русский рэп.\n",
    "\n",
    "**Ход исследования:**\n",
    "1. [Обзор данных](#first);\n",
    "2. [Предобработка данных](#second);\n",
    "3. [Сравнение пользователей Москвы и Санкт-Петербурга](#third);\n",
    "4. [Выводы](#conclusion)"
   ]
  },
  {
   "cell_type": "markdown",
   "metadata": {
    "id": "Ml1hmfXC_Zcs"
   },
   "source": [
    "## Обзор данных\n",
    "<a id=\"first\"></a>"
   ]
  },
  {
   "cell_type": "code",
   "execution_count": 1,
   "metadata": {
    "id": "AXN7PHPN_Zcs"
   },
   "outputs": [],
   "source": [
    "%config InlineBackend.figure_format='retina'\n",
    "\n",
    "import pandas as pd\n",
    "from fuzzywuzzy import fuzz\n",
    "import matplotlib.pyplot as plt"
   ]
  },
  {
   "cell_type": "code",
   "execution_count": 2,
   "metadata": {},
   "outputs": [
    {
     "data": {
      "text/html": [
       "<div>\n",
       "<style scoped>\n",
       "    .dataframe tbody tr th:only-of-type {\n",
       "        vertical-align: middle;\n",
       "    }\n",
       "\n",
       "    .dataframe tbody tr th {\n",
       "        vertical-align: top;\n",
       "    }\n",
       "\n",
       "    .dataframe thead th {\n",
       "        text-align: right;\n",
       "    }\n",
       "</style>\n",
       "<table border=\"1\" class=\"dataframe\">\n",
       "  <thead>\n",
       "    <tr style=\"text-align: right;\">\n",
       "      <th></th>\n",
       "      <th>userID</th>\n",
       "      <th>Track</th>\n",
       "      <th>artist</th>\n",
       "      <th>genre</th>\n",
       "      <th>City</th>\n",
       "      <th>time</th>\n",
       "      <th>Day</th>\n",
       "    </tr>\n",
       "  </thead>\n",
       "  <tbody>\n",
       "    <tr>\n",
       "      <th>0</th>\n",
       "      <td>FFB692EC</td>\n",
       "      <td>Kamigata To Boots</td>\n",
       "      <td>The Mass Missile</td>\n",
       "      <td>rock</td>\n",
       "      <td>Saint-Petersburg</td>\n",
       "      <td>20:28:33</td>\n",
       "      <td>Wednesday</td>\n",
       "    </tr>\n",
       "    <tr>\n",
       "      <th>1</th>\n",
       "      <td>55204538</td>\n",
       "      <td>Delayed Because of Accident</td>\n",
       "      <td>Andreas Rönnberg</td>\n",
       "      <td>rock</td>\n",
       "      <td>Moscow</td>\n",
       "      <td>14:07:09</td>\n",
       "      <td>Friday</td>\n",
       "    </tr>\n",
       "    <tr>\n",
       "      <th>2</th>\n",
       "      <td>20EC38</td>\n",
       "      <td>Funiculì funiculà</td>\n",
       "      <td>Mario Lanza</td>\n",
       "      <td>pop</td>\n",
       "      <td>Saint-Petersburg</td>\n",
       "      <td>20:58:07</td>\n",
       "      <td>Wednesday</td>\n",
       "    </tr>\n",
       "    <tr>\n",
       "      <th>3</th>\n",
       "      <td>A3DD03C9</td>\n",
       "      <td>Dragons in the Sunset</td>\n",
       "      <td>Fire + Ice</td>\n",
       "      <td>folk</td>\n",
       "      <td>Saint-Petersburg</td>\n",
       "      <td>08:37:09</td>\n",
       "      <td>Monday</td>\n",
       "    </tr>\n",
       "    <tr>\n",
       "      <th>4</th>\n",
       "      <td>E2DC1FAE</td>\n",
       "      <td>Soul People</td>\n",
       "      <td>Space Echo</td>\n",
       "      <td>dance</td>\n",
       "      <td>Moscow</td>\n",
       "      <td>08:34:34</td>\n",
       "      <td>Monday</td>\n",
       "    </tr>\n",
       "  </tbody>\n",
       "</table>\n",
       "</div>"
      ],
      "text/plain": [
       "     userID                        Track            artist  genre  \\\n",
       "0  FFB692EC            Kamigata To Boots  The Mass Missile   rock   \n",
       "1  55204538  Delayed Because of Accident  Andreas Rönnberg   rock   \n",
       "2    20EC38            Funiculì funiculà       Mario Lanza    pop   \n",
       "3  A3DD03C9        Dragons in the Sunset        Fire + Ice   folk   \n",
       "4  E2DC1FAE                  Soul People        Space Echo  dance   \n",
       "\n",
       "             City        time        Day  \n",
       "0  Saint-Petersburg  20:28:33  Wednesday  \n",
       "1            Moscow  14:07:09     Friday  \n",
       "2  Saint-Petersburg  20:58:07  Wednesday  \n",
       "3  Saint-Petersburg  08:37:09     Monday  \n",
       "4            Moscow  08:34:34     Monday  "
      ]
     },
     "metadata": {},
     "output_type": "display_data"
    },
    {
     "name": "stdout",
     "output_type": "stream",
     "text": [
      "<class 'pandas.core.frame.DataFrame'>\n",
      "RangeIndex: 65079 entries, 0 to 65078\n",
      "Data columns (total 7 columns):\n",
      " #   Column    Non-Null Count  Dtype \n",
      "---  ------    --------------  ----- \n",
      " 0     userID  65079 non-null  object\n",
      " 1   Track     63848 non-null  object\n",
      " 2   artist    57876 non-null  object\n",
      " 3   genre     63881 non-null  object\n",
      " 4     City    65079 non-null  object\n",
      " 5   time      65079 non-null  object\n",
      " 6   Day       65079 non-null  object\n",
      "dtypes: object(7)\n",
      "memory usage: 3.5+ MB\n"
     ]
    }
   ],
   "source": [
    "df = pd.read_csv('yandex_music_project.csv')\n",
    "display(df.head())\n",
    "df.info()"
   ]
  },
  {
   "cell_type": "code",
   "execution_count": 3,
   "metadata": {},
   "outputs": [
    {
     "data": {
      "text/html": [
       "<div>\n",
       "<style scoped>\n",
       "    .dataframe tbody tr th:only-of-type {\n",
       "        vertical-align: middle;\n",
       "    }\n",
       "\n",
       "    .dataframe tbody tr th {\n",
       "        vertical-align: top;\n",
       "    }\n",
       "\n",
       "    .dataframe thead th {\n",
       "        text-align: right;\n",
       "    }\n",
       "</style>\n",
       "<table border=\"1\" class=\"dataframe\">\n",
       "  <thead>\n",
       "    <tr style=\"text-align: right;\">\n",
       "      <th></th>\n",
       "      <th>userID</th>\n",
       "      <th>Track</th>\n",
       "      <th>artist</th>\n",
       "      <th>genre</th>\n",
       "      <th>City</th>\n",
       "      <th>time</th>\n",
       "      <th>Day</th>\n",
       "    </tr>\n",
       "  </thead>\n",
       "  <tbody>\n",
       "    <tr>\n",
       "      <th>count</th>\n",
       "      <td>65079</td>\n",
       "      <td>63848</td>\n",
       "      <td>57876</td>\n",
       "      <td>63881</td>\n",
       "      <td>65079</td>\n",
       "      <td>65079</td>\n",
       "      <td>65079</td>\n",
       "    </tr>\n",
       "    <tr>\n",
       "      <th>unique</th>\n",
       "      <td>41748</td>\n",
       "      <td>47245</td>\n",
       "      <td>43605</td>\n",
       "      <td>289</td>\n",
       "      <td>2</td>\n",
       "      <td>20392</td>\n",
       "      <td>3</td>\n",
       "    </tr>\n",
       "    <tr>\n",
       "      <th>top</th>\n",
       "      <td>A8AE9169</td>\n",
       "      <td>Intro</td>\n",
       "      <td>Plan B</td>\n",
       "      <td>pop</td>\n",
       "      <td>Moscow</td>\n",
       "      <td>08:14:07</td>\n",
       "      <td>Friday</td>\n",
       "    </tr>\n",
       "    <tr>\n",
       "      <th>freq</th>\n",
       "      <td>76</td>\n",
       "      <td>34</td>\n",
       "      <td>6</td>\n",
       "      <td>8850</td>\n",
       "      <td>45360</td>\n",
       "      <td>14</td>\n",
       "      <td>23149</td>\n",
       "    </tr>\n",
       "  </tbody>\n",
       "</table>\n",
       "</div>"
      ],
      "text/plain": [
       "          userID  Track  artist  genre   City        time     Day\n",
       "count      65079  63848   57876  63881    65079     65079   65079\n",
       "unique     41748  47245   43605    289        2     20392       3\n",
       "top     A8AE9169  Intro  Plan B    pop   Moscow  08:14:07  Friday\n",
       "freq          76     34       6   8850    45360        14   23149"
      ]
     },
     "execution_count": 3,
     "metadata": {},
     "output_type": "execute_result"
    }
   ],
   "source": [
    "df.describe()"
   ]
  },
  {
   "cell_type": "markdown",
   "metadata": {
    "id": "MCB6-dXG_Zct"
   },
   "source": [
    "**Выводы**\n",
    "\n",
    "В каждой строке таблицы — данные о прослушанном треке. Часть колонок описывает саму композицию: название, исполнителя и жанр. Остальные данные рассказывают о пользователе: из какого он города, когда слушал музыку. <br>\n",
    "В данных содержатся пропуски, есть пробелы в названии столбцов."
   ]
  },
  {
   "cell_type": "markdown",
   "metadata": {
    "id": "SjYF6Ub9_Zct"
   },
   "source": [
    "## Предобработка данных\n",
    "<a id=\"second\"></a>"
   ]
  },
  {
   "cell_type": "markdown",
   "metadata": {
    "id": "dIaKXr29_Zct"
   },
   "source": [
    "### Стиль заголовков"
   ]
  },
  {
   "cell_type": "code",
   "execution_count": 4,
   "metadata": {
    "id": "oKOTdF_Q_Zct"
   },
   "outputs": [
    {
     "data": {
      "text/plain": [
       "Index(['  userID', 'Track', 'artist', 'genre', '  City  ', 'time', 'Day'], dtype='object')"
      ]
     },
     "execution_count": 4,
     "metadata": {},
     "output_type": "execute_result"
    }
   ],
   "source": [
    "df.columns"
   ]
  },
  {
   "cell_type": "code",
   "execution_count": 5,
   "metadata": {
    "id": "ISlFqs5y_Zct"
   },
   "outputs": [],
   "source": [
    "# переводим названия заголовков в snake_case, убираем пробелы\n",
    "df = df.rename(columns={'  userID':'user_id', 'Track':'track', '  City  ':'city', 'Day':'day'})"
   ]
  },
  {
   "cell_type": "markdown",
   "metadata": {
    "id": "5ISfbcfY_Zct"
   },
   "source": [
    "### Обработка пропусков"
   ]
  },
  {
   "cell_type": "code",
   "execution_count": 6,
   "metadata": {},
   "outputs": [
    {
     "data": {
      "text/html": [
       "<style  type=\"text/css\" >\n",
       "#T_c0eaa_row0_col0,#T_c0eaa_row4_col0,#T_c0eaa_row5_col0,#T_c0eaa_row6_col0{\n",
       "            background-color:  #3b4cc0;\n",
       "            color:  #f1f1f1;\n",
       "        }#T_c0eaa_row1_col0{\n",
       "            background-color:  #7093f3;\n",
       "            color:  #000000;\n",
       "        }#T_c0eaa_row2_col0{\n",
       "            background-color:  #b40426;\n",
       "            color:  #f1f1f1;\n",
       "        }#T_c0eaa_row3_col0{\n",
       "            background-color:  #6f92f3;\n",
       "            color:  #000000;\n",
       "        }</style><table id=\"T_c0eaa_\" ><thead>    <tr>        <th class=\"blank level0\" ></th>        <th class=\"col_heading level0 col0\" >NaNs, %</th>    </tr></thead><tbody>\n",
       "                <tr>\n",
       "                        <th id=\"T_c0eaa_level0_row0\" class=\"row_heading level0 row0\" >user_id</th>\n",
       "                        <td id=\"T_c0eaa_row0_col0\" class=\"data row0 col0\" >0.00</td>\n",
       "            </tr>\n",
       "            <tr>\n",
       "                        <th id=\"T_c0eaa_level0_row1\" class=\"row_heading level0 row1\" >track</th>\n",
       "                        <td id=\"T_c0eaa_row1_col0\" class=\"data row1 col0\" >1.89</td>\n",
       "            </tr>\n",
       "            <tr>\n",
       "                        <th id=\"T_c0eaa_level0_row2\" class=\"row_heading level0 row2\" >artist</th>\n",
       "                        <td id=\"T_c0eaa_row2_col0\" class=\"data row2 col0\" >11.07</td>\n",
       "            </tr>\n",
       "            <tr>\n",
       "                        <th id=\"T_c0eaa_level0_row3\" class=\"row_heading level0 row3\" >genre</th>\n",
       "                        <td id=\"T_c0eaa_row3_col0\" class=\"data row3 col0\" >1.84</td>\n",
       "            </tr>\n",
       "            <tr>\n",
       "                        <th id=\"T_c0eaa_level0_row4\" class=\"row_heading level0 row4\" >city</th>\n",
       "                        <td id=\"T_c0eaa_row4_col0\" class=\"data row4 col0\" >0.00</td>\n",
       "            </tr>\n",
       "            <tr>\n",
       "                        <th id=\"T_c0eaa_level0_row5\" class=\"row_heading level0 row5\" >time</th>\n",
       "                        <td id=\"T_c0eaa_row5_col0\" class=\"data row5 col0\" >0.00</td>\n",
       "            </tr>\n",
       "            <tr>\n",
       "                        <th id=\"T_c0eaa_level0_row6\" class=\"row_heading level0 row6\" >day</th>\n",
       "                        <td id=\"T_c0eaa_row6_col0\" class=\"data row6 col0\" >0.00</td>\n",
       "            </tr>\n",
       "    </tbody></table>"
      ],
      "text/plain": [
       "<pandas.io.formats.style.Styler at 0x7fa0ee0436d0>"
      ]
     },
     "metadata": {},
     "output_type": "display_data"
    }
   ],
   "source": [
    "# выводим процент пропусков\n",
    "display(pd.DataFrame(round((df.isna().mean()*100),2), columns=['NaNs, %']).style.format(\n",
    "    '{:.2f}').background_gradient('coolwarm'))"
   ]
  },
  {
   "cell_type": "markdown",
   "metadata": {
    "id": "qubhgnlO_Zct"
   },
   "source": [
    "Пропуски в `track` и `artist` не повлияют на результаты исследования, возможно заменить их \"заглушкой\". <br>\n",
    "Пропуски в `genre` могут помешать сравнению музыкальных вкусов в Москве и Санкт-Петербурге. Однако учитывая невысокий процент пропусков, также заменим \"заглушкой\" и в ходе дальнейшего исследования определим степень влияния на выводы исследования."
   ]
  },
  {
   "cell_type": "code",
   "execution_count": 7,
   "metadata": {
    "id": "KplB5qWs_Zct"
   },
   "outputs": [],
   "source": [
    "columns_to_replace = ['track', 'artist', 'genre']\n",
    "for i in columns_to_replace:\n",
    "    df[i] = df[i].fillna('unknown')"
   ]
  },
  {
   "cell_type": "code",
   "execution_count": 8,
   "metadata": {
    "id": "Tq4nYRX4_Zct",
    "scrolled": true
   },
   "outputs": [
    {
     "data": {
      "text/plain": [
       "user_id    0\n",
       "track      0\n",
       "artist     0\n",
       "genre      0\n",
       "city       0\n",
       "time       0\n",
       "day        0\n",
       "dtype: int64"
      ]
     },
     "execution_count": 8,
     "metadata": {},
     "output_type": "execute_result"
    }
   ],
   "source": [
    "# убедимся, что в таблице не осталось пропусков\n",
    "df.isna().sum()"
   ]
  },
  {
   "cell_type": "markdown",
   "metadata": {
    "id": "BWKRtBJ3_Zct"
   },
   "source": [
    "### Дубликаты"
   ]
  },
  {
   "cell_type": "code",
   "execution_count": 9,
   "metadata": {
    "id": "36eES_S0_Zct"
   },
   "outputs": [
    {
     "data": {
      "text/plain": [
       "3826"
      ]
     },
     "execution_count": 9,
     "metadata": {},
     "output_type": "execute_result"
    }
   ],
   "source": [
    "# считаем явные дубликаты\n",
    "df.duplicated().sum()"
   ]
  },
  {
   "cell_type": "code",
   "execution_count": 10,
   "metadata": {
    "id": "exFHq6tt_Zct"
   },
   "outputs": [],
   "source": [
    "# удаляем дубликаты\n",
    "df = df.drop_duplicates().reset_index(drop=True)"
   ]
  },
  {
   "cell_type": "markdown",
   "metadata": {
    "id": "QlFBsxAr_Zct"
   },
   "source": [
    "Далее проанализируем наличие неявных дубликатов в колонке `genre`. Например, название одного и того же жанра может быть записано немного по-разному."
   ]
  },
  {
   "cell_type": "code",
   "execution_count": 11,
   "metadata": {
    "id": "JIUcqzZN_Zct",
    "scrolled": true
   },
   "outputs": [
    {
     "data": {
      "text/plain": [
       "array(['acid', 'acoustic', 'action', 'adult', 'africa', 'afrikaans',\n",
       "       'alternative', 'alternativepunk', 'ambient', 'americana',\n",
       "       'animated', 'anime', 'arabesk', 'arabic', 'arena',\n",
       "       'argentinetango', 'art', 'audiobook', 'author', 'avantgarde',\n",
       "       'axé', 'baile', 'balkan', 'beats', 'bigroom', 'black', 'bluegrass',\n",
       "       'blues', 'bollywood', 'bossa', 'brazilian', 'breakbeat', 'breaks',\n",
       "       'broadway', 'cantautori', 'cantopop', 'canzone', 'caribbean',\n",
       "       'caucasian', 'celtic', 'chamber', 'chanson', 'children', 'chill',\n",
       "       'chinese', 'choral', 'christian', 'christmas', 'classical',\n",
       "       'classicmetal', 'club', 'colombian', 'comedy', 'conjazz',\n",
       "       'contemporary', 'country', 'cuban', 'dance', 'dancehall',\n",
       "       'dancepop', 'dark', 'death', 'deep', 'deutschrock', 'deutschspr',\n",
       "       'dirty', 'disco', 'dnb', 'documentary', 'downbeat', 'downtempo',\n",
       "       'drum', 'dub', 'dubstep', 'eastern', 'easy', 'electronic',\n",
       "       'electropop', 'emo', 'entehno', 'epicmetal', 'estrada', 'ethnic',\n",
       "       'eurofolk', 'european', 'experimental', 'extrememetal', 'fado',\n",
       "       'fairytail', 'film', 'fitness', 'flamenco', 'folk', 'folklore',\n",
       "       'folkmetal', 'folkrock', 'folktronica', 'forró', 'frankreich',\n",
       "       'französisch', 'french', 'funk', 'future', 'gangsta', 'garage',\n",
       "       'german', 'ghazal', 'gitarre', 'glitch', 'gospel', 'gothic',\n",
       "       'grime', 'grunge', 'gypsy', 'handsup', \"hard'n'heavy\", 'hardcore',\n",
       "       'hardstyle', 'hardtechno', 'hip', 'hip-hop', 'hiphop',\n",
       "       'historisch', 'holiday', 'hop', 'horror', 'house', 'hymn', 'idm',\n",
       "       'independent', 'indian', 'indie', 'indipop', 'industrial',\n",
       "       'inspirational', 'instrumental', 'international', 'irish', 'jam',\n",
       "       'japanese', 'jazz', 'jewish', 'jpop', 'jungle', 'k-pop',\n",
       "       'karadeniz', 'karaoke', 'kayokyoku', 'korean', 'laiko', 'latin',\n",
       "       'latino', 'leftfield', 'local', 'lounge', 'loungeelectronic',\n",
       "       'lovers', 'malaysian', 'mandopop', 'marschmusik', 'meditative',\n",
       "       'mediterranean', 'melodic', 'metal', 'metalcore', 'mexican',\n",
       "       'middle', 'minimal', 'miscellaneous', 'modern', 'mood', 'mpb',\n",
       "       'muslim', 'native', 'neoklassik', 'neue', 'new', 'newage',\n",
       "       'newwave', 'nu', 'nujazz', 'numetal', 'oceania', 'old', 'opera',\n",
       "       'orchestral', 'other', 'piano', 'podcasts', 'pop', 'popdance',\n",
       "       'popelectronic', 'popeurodance', 'poprussian', 'post',\n",
       "       'posthardcore', 'postrock', 'power', 'progmetal', 'progressive',\n",
       "       'psychedelic', 'punjabi', 'punk', 'quebecois', 'ragga', 'ram',\n",
       "       'rancheras', 'rap', 'rave', 'reggae', 'reggaeton', 'regional',\n",
       "       'relax', 'religious', 'retro', 'rhythm', 'rnb', 'rnr', 'rock',\n",
       "       'rockabilly', 'rockalternative', 'rockindie', 'rockother',\n",
       "       'romance', 'roots', 'ruspop', 'rusrap', 'rusrock', 'russian',\n",
       "       'salsa', 'samba', 'scenic', 'schlager', 'self', 'sertanejo',\n",
       "       'shanson', 'shoegazing', 'showtunes', 'singer', 'ska', 'skarock',\n",
       "       'slow', 'smooth', 'soft', 'soul', 'soulful', 'sound', 'soundtrack',\n",
       "       'southern', 'specialty', 'speech', 'spiritual', 'sport',\n",
       "       'stonerrock', 'surf', 'swing', 'synthpop', 'synthrock',\n",
       "       'sängerportrait', 'tango', 'tanzorchester', 'taraftar', 'tatar',\n",
       "       'tech', 'techno', 'teen', 'thrash', 'top', 'traditional',\n",
       "       'tradjazz', 'trance', 'tribal', 'trip', 'triphop', 'tropical',\n",
       "       'türk', 'türkçe', 'ukrrock', 'unknown', 'urban', 'uzbek',\n",
       "       'variété', 'vi', 'videogame', 'vocal', 'western', 'world',\n",
       "       'worldbeat', 'ïîï', 'электроника'], dtype=object)"
      ]
     },
     "execution_count": 11,
     "metadata": {},
     "output_type": "execute_result"
    }
   ],
   "source": [
    "# выводим список уникальных названий жанров\n",
    "genres = df['genre'].sort_values().unique()\n",
    "genres"
   ]
  },
  {
   "cell_type": "markdown",
   "metadata": {},
   "source": [
    "Используем библиотеку FuzzyWuzzy для поиска сходства между словами (используется расстояние Левенштейна). Возьмем границу индекса сходства не менее 80."
   ]
  },
  {
   "cell_type": "code",
   "execution_count": 12,
   "metadata": {},
   "outputs": [
    {
     "name": "stdout",
     "output_type": "stream",
     "text": [
      "alternative - alternativepunk\n",
      "alternative - native\n",
      "alternative - rockalternative\n",
      "alternativepunk - alternative\n",
      "alternativepunk - native\n",
      "alternativepunk - punk\n",
      "argentinetango - tango\n",
      "axé - relax\n",
      "beats - downbeat\n",
      "beats - worldbeat\n",
      "cantopop - pop\n",
      "cantopop - top\n",
      "chanson - shanson\n",
      "classical - classicmetal\n",
      "classicmetal - classical\n",
      "classicmetal - metal\n",
      "conjazz - jazz\n",
      "cuban - urban\n",
      "dance - dancehall\n",
      "dance - dancepop\n",
      "dance - popdance\n",
      "dance - popeurodance\n",
      "dancehall - dance\n",
      "dancepop - dance\n",
      "dancepop - pop\n",
      "deutschrock - rock\n",
      "downbeat - beats\n",
      "dub - dubstep\n",
      "dubstep - dub\n",
      "eastern - western\n",
      "electronic - loungeelectronic\n",
      "electronic - popelectronic\n",
      "electropop - pop\n",
      "epicmetal - metal\n",
      "eurofolk - folk\n",
      "extrememetal - metal\n",
      "folk - eurofolk\n",
      "folk - folklore\n",
      "folk - folkmetal\n",
      "folk - folkrock\n",
      "folk - folktronica\n",
      "folklore - folk\n",
      "folkmetal - folk\n",
      "folkmetal - metal\n",
      "folkrock - folk\n",
      "folkrock - rock\n",
      "folktronica - folk\n",
      "hardcore - posthardcore\n",
      "hardtechno - tech\n",
      "hardtechno - techno\n",
      "hip - hip-hop\n",
      "hip - hiphop\n",
      "hip-hop - hip\n",
      "hip-hop - hiphop\n",
      "hip-hop - hop\n",
      "hiphop - hip\n",
      "hiphop - hip-hop\n",
      "hiphop - hop\n",
      "hop - hip-hop\n",
      "hop - hiphop\n",
      "hop - triphop\n",
      "indie - rockindie\n",
      "indipop - pop\n",
      "industrial - tribal\n",
      "jazz - conjazz\n",
      "jazz - nujazz\n",
      "jazz - tradjazz\n",
      "jpop - pop\n",
      "k-pop - pop\n",
      "latin - latino\n",
      "latino - latin\n",
      "local - vocal\n",
      "lounge - loungeelectronic\n",
      "loungeelectronic - electronic\n",
      "loungeelectronic - lounge\n",
      "mandopop - pop\n",
      "metal - classicmetal\n",
      "metal - epicmetal\n",
      "metal - extrememetal\n",
      "metal - folkmetal\n",
      "metal - metalcore\n",
      "metal - numetal\n",
      "metal - progmetal\n",
      "metalcore - metal\n",
      "native - alternative\n",
      "native - alternativepunk\n",
      "native - rockalternative\n",
      "new - newage\n",
      "new - newwave\n",
      "newage - new\n",
      "newwave - new\n",
      "nu - nujazz\n",
      "nu - numetal\n",
      "nujazz - jazz\n",
      "nujazz - nu\n",
      "numetal - metal\n",
      "numetal - nu\n",
      "other - rockother\n",
      "pop - cantopop\n",
      "pop - dancepop\n",
      "pop - electropop\n",
      "pop - indipop\n",
      "pop - jpop\n",
      "pop - k-pop\n",
      "pop - mandopop\n",
      "pop - popdance\n",
      "pop - popelectronic\n",
      "pop - popeurodance\n",
      "pop - poprussian\n",
      "pop - ruspop\n",
      "pop - synthpop\n",
      "popdance - dance\n",
      "popdance - pop\n",
      "popdance - popeurodance\n",
      "popelectronic - electronic\n",
      "popelectronic - pop\n",
      "popeurodance - dance\n",
      "popeurodance - pop\n",
      "popeurodance - popdance\n",
      "poprussian - pop\n",
      "poprussian - russian\n",
      "post - posthardcore\n",
      "post - postrock\n",
      "posthardcore - hardcore\n",
      "posthardcore - post\n",
      "postrock - post\n",
      "postrock - rock\n",
      "progmetal - metal\n",
      "punk - alternativepunk\n",
      "rap - rusrap\n",
      "reggae - reggaeton\n",
      "reggaeton - reggae\n",
      "relax - axé\n",
      "rock - deutschrock\n",
      "rock - folkrock\n",
      "rock - postrock\n",
      "rock - rockabilly\n",
      "rock - rockalternative\n",
      "rock - rockindie\n",
      "rock - rockother\n",
      "rock - rusrock\n",
      "rock - skarock\n",
      "rock - stonerrock\n",
      "rock - synthrock\n",
      "rock - ukrrock\n",
      "rockabilly - rock\n",
      "rockalternative - alternative\n",
      "rockalternative - native\n",
      "rockalternative - rock\n",
      "rockindie - indie\n",
      "rockindie - rock\n",
      "rockother - other\n",
      "rockother - rock\n",
      "ruspop - pop\n",
      "rusrap - rap\n",
      "rusrock - rock\n",
      "russian - poprussian\n",
      "shanson - chanson\n",
      "ska - skarock\n",
      "skarock - rock\n",
      "skarock - ska\n",
      "soul - soulful\n",
      "soulful - soul\n",
      "sound - soundtrack\n",
      "soundtrack - sound\n",
      "stonerrock - rock\n",
      "synthpop - pop\n",
      "synthrock - rock\n",
      "tango - argentinetango\n",
      "tech - hardtechno\n",
      "tech - techno\n",
      "techno - hardtechno\n",
      "techno - tech\n",
      "top - cantopop\n",
      "tradjazz - jazz\n",
      "tribal - industrial\n",
      "trip - triphop\n",
      "triphop - hop\n",
      "triphop - trip\n",
      "türk - türkçe\n",
      "türkçe - türk\n",
      "ukrrock - rock\n",
      "urban - cuban\n",
      "vi - videogame\n",
      "videogame - vi\n",
      "vocal - local\n",
      "western - eastern\n",
      "world - worldbeat\n",
      "worldbeat - beats\n",
      "worldbeat - world\n"
     ]
    }
   ],
   "source": [
    "# каждое слово из genres сравним со всеми словами genres и отфильтруем по индексу сходства\n",
    "for genre in genres:\n",
    "    for i in range(len(genres)):\n",
    "        ratio = fuzz.WRatio(genre, genres[i])\n",
    "        if 80 <= ratio < 100:\n",
    "            print(f'{genre} - {genres[i]}')"
   ]
  },
  {
   "cell_type": "markdown",
   "metadata": {},
   "source": [
    "Можно заметить следующие неявные дубликаты:\n",
    "- жанр hiphop (hip, hop, hip-hop)\n",
    "- жанр chanson (shanson)\n",
    "- жанр latino (latin)\n",
    "- жанр türk (türkçe) "
   ]
  },
  {
   "cell_type": "code",
   "execution_count": 13,
   "metadata": {},
   "outputs": [],
   "source": [
    "# исправим названия жанров\n",
    "df['genre'] = (\n",
    "    df['genre']\n",
    "    .replace('hip', 'hiphop')\n",
    "    .replace('hop', 'hiphop')\n",
    "    .replace('hip-hop', 'hiphop')\n",
    "    .replace('shanson', 'chanson')\n",
    "    .replace('latin', 'latino')\n",
    "    .replace('türkçe', 'türk')\n",
    ")"
   ]
  },
  {
   "cell_type": "markdown",
   "metadata": {
    "id": "jz6a9-7HQUDd"
   },
   "source": [
    "**Выводы**\n",
    "\n",
    "В ходе преодобработки приведены к одному стилю названия колонок, пропуски заменены на \"unknown\", обработаны явные и неявные дубликаты."
   ]
  },
  {
   "cell_type": "markdown",
   "metadata": {
    "id": "WttZHXH0SqKk"
   },
   "source": [
    "## Сравнение пользователей Москвы и Санкт-Петербурга\n",
    "<a id=\"third\"></a>"
   ]
  },
  {
   "cell_type": "markdown",
   "metadata": {
    "id": "Im936VVi_Zcu"
   },
   "source": [
    "### Сравнение поведения пользователей двух столиц"
   ]
  },
  {
   "cell_type": "markdown",
   "metadata": {
    "id": "nwt_MuaL_Zcu"
   },
   "source": [
    "Первая гипотеза утверждает, что пользователи по-разному слушают музыку в Москве и Санкт-Петербурге. Проверим это предположение по данным о трёх днях недели — понедельнике, среде и пятнице.\n"
   ]
  },
  {
   "cell_type": "code",
   "execution_count": 14,
   "metadata": {},
   "outputs": [
    {
     "data": {
      "text/html": [
       "<div>\n",
       "<style scoped>\n",
       "    .dataframe tbody tr th:only-of-type {\n",
       "        vertical-align: middle;\n",
       "    }\n",
       "\n",
       "    .dataframe tbody tr th {\n",
       "        vertical-align: top;\n",
       "    }\n",
       "\n",
       "    .dataframe thead th {\n",
       "        text-align: right;\n",
       "    }\n",
       "</style>\n",
       "<table border=\"1\" class=\"dataframe\">\n",
       "  <thead>\n",
       "    <tr style=\"text-align: right;\">\n",
       "      <th></th>\n",
       "      <th></th>\n",
       "      <th>track</th>\n",
       "    </tr>\n",
       "    <tr>\n",
       "      <th>city</th>\n",
       "      <th>day</th>\n",
       "      <th></th>\n",
       "    </tr>\n",
       "  </thead>\n",
       "  <tbody>\n",
       "    <tr>\n",
       "      <th rowspan=\"3\" valign=\"top\">Moscow</th>\n",
       "      <th>Friday</th>\n",
       "      <td>15945</td>\n",
       "    </tr>\n",
       "    <tr>\n",
       "      <th>Monday</th>\n",
       "      <td>15740</td>\n",
       "    </tr>\n",
       "    <tr>\n",
       "      <th>Wednesday</th>\n",
       "      <td>11056</td>\n",
       "    </tr>\n",
       "    <tr>\n",
       "      <th rowspan=\"3\" valign=\"top\">Saint-Petersburg</th>\n",
       "      <th>Wednesday</th>\n",
       "      <td>7003</td>\n",
       "    </tr>\n",
       "    <tr>\n",
       "      <th>Friday</th>\n",
       "      <td>5895</td>\n",
       "    </tr>\n",
       "    <tr>\n",
       "      <th>Monday</th>\n",
       "      <td>5614</td>\n",
       "    </tr>\n",
       "  </tbody>\n",
       "</table>\n",
       "</div>"
      ],
      "text/plain": [
       "                            track\n",
       "city             day             \n",
       "Moscow           Friday     15945\n",
       "                 Monday     15740\n",
       "                 Wednesday  11056\n",
       "Saint-Petersburg Wednesday   7003\n",
       "                 Friday      5895\n",
       "                 Monday      5614"
      ]
     },
     "execution_count": 14,
     "metadata": {},
     "output_type": "execute_result"
    }
   ],
   "source": [
    "df.pivot_table(index=['city', 'day'], values='track', aggfunc='count').sort_values('track', ascending=False)"
   ]
  },
  {
   "cell_type": "markdown",
   "metadata": {
    "id": "-EgPIHYu_Zcu"
   },
   "source": [
    "**Выводы**\n",
    "\n",
    "Данные показывают разницу поведения пользователей:\n",
    "\n",
    "- В Москве пик прослушиваний приходится на пятницу и понедельник, а в среду заметен спад.\n",
    "- В Петербурге, наоборот, больше слушают музыку по средам. Активность в понедельник и пятницу здесь почти в равной мере уступает среде.\n",
    "\n",
    "Значит, данные говорят в пользу первой гипотезы."
   ]
  },
  {
   "cell_type": "markdown",
   "metadata": {
    "id": "atZAxtq4_Zcu"
   },
   "source": [
    "### Музыка в начале и в конце недели"
   ]
  },
  {
   "cell_type": "markdown",
   "metadata": {
    "id": "eXrQqXFH_Zcu"
   },
   "source": [
    "Согласно второй гипотезе, утром в понедельник в Москве преобладают одни жанры, а в Петербурге — другие. Так же и вечером пятницы преобладают разные жанры — в зависимости от города."
   ]
  },
  {
   "cell_type": "code",
   "execution_count": 15,
   "metadata": {},
   "outputs": [],
   "source": [
    "def get_top_genres(city, time_start, time_end, day):\n",
    "    \n",
    "    result = df.query('time >= @time_start and time <= @time_end \\\n",
    "                     and city == @city \\\n",
    "                     and day == @day') \\\n",
    "                    ['genre'].value_counts().head(10)\n",
    "    return result"
   ]
  },
  {
   "cell_type": "code",
   "execution_count": 16,
   "metadata": {},
   "outputs": [
    {
     "data": {
      "image/png": "[encoded data removed]",
      "text/plain": [
       "<Figure size 1296x720 with 4 Axes>"
      ]
     },
     "metadata": {
      "image/png": {
       "height": 590,
       "width": 1080
      },
      "needs_background": "light"
     },
     "output_type": "display_data"
    }
   ],
   "source": [
    "fig = plt.figure(figsize=(18,10))\n",
    "ax1 = fig.add_subplot(2,2,1)\n",
    "ax2 = fig.add_subplot(2,2,2)\n",
    "ax3 = fig.add_subplot(2,2,3)\n",
    "ax4 = fig.add_subplot(2,2,4)\n",
    "\n",
    "\n",
    "get_top_genres('Moscow', '07:00:00', '11:00:00', 'Monday') \\\n",
    ".plot(kind='barh', ax=ax1, title='Топ-10 жанров утром в понедельник в Москве')\n",
    "get_top_genres('Saint-Petersburg', '07:00:00', '11:00:00', 'Monday') \\\n",
    ".plot(kind='barh', ax=ax2, title='Топ-10 жанров утром в понедельник в Санкт-Петербурге')\n",
    "get_top_genres('Moscow', '17:00:00', '23:00:00', 'Friday') \\\n",
    ".plot(kind='barh', ax=ax3, title='Топ-10 жанров вечером в пятницу в Москве')\n",
    "get_top_genres('Saint-Petersburg', '12:00:00', '23:00:00', 'Friday') \\\n",
    ".plot(kind='barh', ax=ax4, title='Топ-10 жанров вечером в пятницу в Санкт-Петербурге')\n",
    "plt.show()"
   ]
  },
  {
   "cell_type": "markdown",
   "metadata": {
    "id": "wrCe4MNX_Zcu"
   },
   "source": [
    "**Выводы**\n",
    "\n",
    "Если сравнить топ-10 жанров в понедельник утром, можно сделать такие выводы:\n",
    "\n",
    "1. В Москве и Петербурге слушают похожую музыку. Единственное отличие — в московский рейтинг вошёл жанр “world”, а в петербургский — джаз и классика.\n",
    "\n",
    "2. В Москве пропущенных значений оказалось так много, что значение `'unknown'` заняло десятое место среди самых популярных жанров. Значит, пропущенные значения занимают существенную долю в данных и угрожают достоверности исследования.\n",
    "\n",
    "Вечер пятницы не меняет эту картину. Некоторые жанры поднимаются немного выше, другие спускаются, но в целом топ-10 остаётся тем же самым.\n",
    "\n",
    "Таким образом, вторая гипотеза подтвердилась лишь частично:\n",
    "* Пользователи слушают похожую музыку в начале недели и в конце.\n",
    "* Разница между Москвой и Петербургом не слишком выражена. В Москве чаще слушают русскую популярную музыку, в Петербурге — джаз.\n",
    "\n",
    "Однако пропуски в данных ставят под сомнение этот результат. В Москве их так много, что рейтинг топ-10 мог бы выглядеть иначе, если бы не утерянные  данные о жанрах."
   ]
  },
  {
   "cell_type": "markdown",
   "metadata": {
    "id": "JolODAqr_Zcu"
   },
   "source": [
    "### Жанровые предпочтения в Москве и Петербурге\n",
    "\n",
    "Гипотеза: Петербург — столица рэпа, музыку этого жанра там слушают чаще, чем в Москве.  А Москва — город контрастов, в котором, тем не менее, преобладает поп-музыка."
   ]
  },
  {
   "cell_type": "code",
   "execution_count": 17,
   "metadata": {},
   "outputs": [
    {
     "data": {
      "text/html": [
       "<div>\n",
       "<style scoped>\n",
       "    .dataframe tbody tr th:only-of-type {\n",
       "        vertical-align: middle;\n",
       "    }\n",
       "\n",
       "    .dataframe tbody tr th {\n",
       "        vertical-align: top;\n",
       "    }\n",
       "\n",
       "    .dataframe thead th {\n",
       "        text-align: right;\n",
       "    }\n",
       "</style>\n",
       "<table border=\"1\" class=\"dataframe\">\n",
       "  <thead>\n",
       "    <tr style=\"text-align: right;\">\n",
       "      <th></th>\n",
       "      <th>user_id</th>\n",
       "    </tr>\n",
       "    <tr>\n",
       "      <th>genre</th>\n",
       "      <th></th>\n",
       "    </tr>\n",
       "  </thead>\n",
       "  <tbody>\n",
       "    <tr>\n",
       "      <th>pop</th>\n",
       "      <td>5892</td>\n",
       "    </tr>\n",
       "    <tr>\n",
       "      <th>dance</th>\n",
       "      <td>4435</td>\n",
       "    </tr>\n",
       "    <tr>\n",
       "      <th>rock</th>\n",
       "      <td>3965</td>\n",
       "    </tr>\n",
       "    <tr>\n",
       "      <th>electronic</th>\n",
       "      <td>3786</td>\n",
       "    </tr>\n",
       "    <tr>\n",
       "      <th>hiphop</th>\n",
       "      <td>2096</td>\n",
       "    </tr>\n",
       "    <tr>\n",
       "      <th>classical</th>\n",
       "      <td>1616</td>\n",
       "    </tr>\n",
       "    <tr>\n",
       "      <th>world</th>\n",
       "      <td>1432</td>\n",
       "    </tr>\n",
       "    <tr>\n",
       "      <th>alternative</th>\n",
       "      <td>1379</td>\n",
       "    </tr>\n",
       "    <tr>\n",
       "      <th>ruspop</th>\n",
       "      <td>1372</td>\n",
       "    </tr>\n",
       "    <tr>\n",
       "      <th>rusrap</th>\n",
       "      <td>1161</td>\n",
       "    </tr>\n",
       "  </tbody>\n",
       "</table>\n",
       "</div>"
      ],
      "text/plain": [
       "             user_id\n",
       "genre               \n",
       "pop             5892\n",
       "dance           4435\n",
       "rock            3965\n",
       "electronic      3786\n",
       "hiphop          2096\n",
       "classical       1616\n",
       "world           1432\n",
       "alternative     1379\n",
       "ruspop          1372\n",
       "rusrap          1161"
      ]
     },
     "execution_count": 17,
     "metadata": {},
     "output_type": "execute_result"
    }
   ],
   "source": [
    "df.query('city == \"Moscow\"') \\\n",
    ".pivot_table(index='genre', values='user_id', aggfunc='count') \\\n",
    ".sort_values('user_id', ascending=False).head(10)"
   ]
  },
  {
   "cell_type": "code",
   "execution_count": 18,
   "metadata": {},
   "outputs": [
    {
     "data": {
      "text/html": [
       "<div>\n",
       "<style scoped>\n",
       "    .dataframe tbody tr th:only-of-type {\n",
       "        vertical-align: middle;\n",
       "    }\n",
       "\n",
       "    .dataframe tbody tr th {\n",
       "        vertical-align: top;\n",
       "    }\n",
       "\n",
       "    .dataframe thead th {\n",
       "        text-align: right;\n",
       "    }\n",
       "</style>\n",
       "<table border=\"1\" class=\"dataframe\">\n",
       "  <thead>\n",
       "    <tr style=\"text-align: right;\">\n",
       "      <th></th>\n",
       "      <th>user_id</th>\n",
       "    </tr>\n",
       "    <tr>\n",
       "      <th>genre</th>\n",
       "      <th></th>\n",
       "    </tr>\n",
       "  </thead>\n",
       "  <tbody>\n",
       "    <tr>\n",
       "      <th>pop</th>\n",
       "      <td>2431</td>\n",
       "    </tr>\n",
       "    <tr>\n",
       "      <th>dance</th>\n",
       "      <td>1932</td>\n",
       "    </tr>\n",
       "    <tr>\n",
       "      <th>rock</th>\n",
       "      <td>1879</td>\n",
       "    </tr>\n",
       "    <tr>\n",
       "      <th>electronic</th>\n",
       "      <td>1736</td>\n",
       "    </tr>\n",
       "    <tr>\n",
       "      <th>hiphop</th>\n",
       "      <td>960</td>\n",
       "    </tr>\n",
       "    <tr>\n",
       "      <th>alternative</th>\n",
       "      <td>649</td>\n",
       "    </tr>\n",
       "    <tr>\n",
       "      <th>classical</th>\n",
       "      <td>646</td>\n",
       "    </tr>\n",
       "    <tr>\n",
       "      <th>rusrap</th>\n",
       "      <td>564</td>\n",
       "    </tr>\n",
       "    <tr>\n",
       "      <th>ruspop</th>\n",
       "      <td>538</td>\n",
       "    </tr>\n",
       "    <tr>\n",
       "      <th>world</th>\n",
       "      <td>515</td>\n",
       "    </tr>\n",
       "  </tbody>\n",
       "</table>\n",
       "</div>"
      ],
      "text/plain": [
       "             user_id\n",
       "genre               \n",
       "pop             2431\n",
       "dance           1932\n",
       "rock            1879\n",
       "electronic      1736\n",
       "hiphop           960\n",
       "alternative      649\n",
       "classical        646\n",
       "rusrap           564\n",
       "ruspop           538\n",
       "world            515"
      ]
     },
     "execution_count": 18,
     "metadata": {},
     "output_type": "execute_result"
    }
   ],
   "source": [
    "df.query('city == \"Saint-Petersburg\"') \\\n",
    ".pivot_table(index='genre', values='user_id', aggfunc='count') \\\n",
    ".sort_values('user_id', ascending=False).head(10)"
   ]
  },
  {
   "cell_type": "markdown",
   "metadata": {
    "id": "RY51YJYu_Zcv"
   },
   "source": [
    "**Выводы**"
   ]
  },
  {
   "cell_type": "markdown",
   "metadata": {
    "id": "nVhnJEm__Zcv"
   },
   "source": [
    "Гипотеза частично подтвердилась:\n",
    "* Поп-музыка — самый популярный жанр в Москве, как и предполагала гипотеза. Более того, в топ-10 жанров встречается близкий жанр — русская популярная музыка.\n",
    "* Вопреки ожиданиям, рэп одинаково популярен в Москве и Петербурге. \n"
   ]
  },
  {
   "cell_type": "markdown",
   "metadata": {
    "id": "ykKQ0N65_Zcv"
   },
   "source": [
    "## Выводы\n",
    "<a id=\"conclusion\"></a>"
   ]
  },
  {
   "cell_type": "markdown",
   "metadata": {
    "id": "tjUwbHb3_Zcv"
   },
   "source": [
    "Были проверены три гипотезы:\n",
    "\n",
    "1. День недели по-разному влияет на активность пользователей в Москве и Петербурге. \n",
    "\n",
    "Первая гипотеза полностью подтвердилась.\n",
    "\n",
    "2. Музыкальные предпочтения не сильно меняются в течение недели — будь то Москва или Петербург. Небольшие различия заметны в начале недели, по понедельникам:\n",
    "* в Москве слушают музыку жанра “world”,\n",
    "* в Петербурге — джаз и классику.\n",
    "\n",
    "Таким образом, вторая гипотеза подтвердилась лишь отчасти. Этот результат мог оказаться иным, если бы не пропуски в данных.\n",
    "\n",
    "3. Во вкусах пользователей Москвы и Петербурга больше общего чем различий. Вопреки ожиданиям, предпочтения жанров в Петербурге напоминают московские.\n",
    "\n",
    "Третья гипотеза не подтвердилась. Если различия в предпочтениях и существуют, на основной массе пользователей они незаметны."
   ]
  }
 ],
 "metadata": {
  "ExecuteTimeLog": [
   {
    "duration": 522,
    "start_time": "2022-05-08T20:06:48.035Z"
   },
   {
    "duration": 190,
    "start_time": "2022-05-08T20:06:48.560Z"
   },
   {
    "duration": 0,
    "start_time": "2022-05-08T20:06:48.753Z"
   },
   {
    "duration": 0,
    "start_time": "2022-05-08T20:06:48.754Z"
   },
   {
    "duration": 0,
    "start_time": "2022-05-08T20:06:48.756Z"
   },
   {
    "duration": 0,
    "start_time": "2022-05-08T20:06:48.757Z"
   },
   {
    "duration": 0,
    "start_time": "2022-05-08T20:06:48.758Z"
   },
   {
    "duration": 0,
    "start_time": "2022-05-08T20:06:48.759Z"
   },
   {
    "duration": 0,
    "start_time": "2022-05-08T20:06:48.761Z"
   },
   {
    "duration": 0,
    "start_time": "2022-05-08T20:06:48.763Z"
   },
   {
    "duration": 0,
    "start_time": "2022-05-08T20:06:48.763Z"
   },
   {
    "duration": 0,
    "start_time": "2022-05-08T20:06:48.765Z"
   },
   {
    "duration": 0,
    "start_time": "2022-05-08T20:06:48.765Z"
   },
   {
    "duration": 0,
    "start_time": "2022-05-08T20:06:48.766Z"
   },
   {
    "duration": 0,
    "start_time": "2022-05-08T20:06:48.767Z"
   },
   {
    "duration": 0,
    "start_time": "2022-05-08T20:06:48.768Z"
   },
   {
    "duration": 0,
    "start_time": "2022-05-08T20:06:48.769Z"
   },
   {
    "duration": 0,
    "start_time": "2022-05-08T20:06:48.770Z"
   },
   {
    "duration": 0,
    "start_time": "2022-05-08T20:06:48.793Z"
   },
   {
    "duration": 0,
    "start_time": "2022-05-08T20:06:48.795Z"
   },
   {
    "duration": 0,
    "start_time": "2022-05-08T20:06:48.796Z"
   },
   {
    "duration": 0,
    "start_time": "2022-05-08T20:06:48.798Z"
   },
   {
    "duration": 0,
    "start_time": "2022-05-08T20:06:48.799Z"
   },
   {
    "duration": 0,
    "start_time": "2022-05-08T20:06:48.800Z"
   },
   {
    "duration": 0,
    "start_time": "2022-05-08T20:06:48.801Z"
   },
   {
    "duration": 0,
    "start_time": "2022-05-08T20:06:48.803Z"
   },
   {
    "duration": 0,
    "start_time": "2022-05-08T20:06:48.804Z"
   },
   {
    "duration": 0,
    "start_time": "2022-05-08T20:06:48.806Z"
   },
   {
    "duration": 0,
    "start_time": "2022-05-08T20:06:48.807Z"
   },
   {
    "duration": 0,
    "start_time": "2022-05-08T20:06:48.808Z"
   },
   {
    "duration": 0,
    "start_time": "2022-05-08T20:06:48.810Z"
   },
   {
    "duration": 0,
    "start_time": "2022-05-08T20:06:48.811Z"
   },
   {
    "duration": 0,
    "start_time": "2022-05-08T20:06:48.812Z"
   },
   {
    "duration": 0,
    "start_time": "2022-05-08T20:06:48.813Z"
   },
   {
    "duration": 0,
    "start_time": "2022-05-08T20:06:48.815Z"
   },
   {
    "duration": 0,
    "start_time": "2022-05-08T20:06:48.817Z"
   },
   {
    "duration": 0,
    "start_time": "2022-05-08T20:06:48.818Z"
   },
   {
    "duration": 0,
    "start_time": "2022-05-08T20:06:48.820Z"
   },
   {
    "duration": 0,
    "start_time": "2022-05-08T20:06:48.821Z"
   },
   {
    "duration": 405,
    "start_time": "2022-05-08T20:07:24.049Z"
   },
   {
    "duration": 274,
    "start_time": "2022-05-08T20:07:24.456Z"
   },
   {
    "duration": 22,
    "start_time": "2022-05-08T20:07:24.733Z"
   },
   {
    "duration": 49,
    "start_time": "2022-05-08T20:07:24.757Z"
   },
   {
    "duration": 6,
    "start_time": "2022-05-08T20:07:24.808Z"
   },
   {
    "duration": 14,
    "start_time": "2022-05-08T20:07:24.817Z"
   },
   {
    "duration": 11,
    "start_time": "2022-05-08T20:07:24.833Z"
   },
   {
    "duration": 50,
    "start_time": "2022-05-08T20:07:24.846Z"
   },
   {
    "duration": 22,
    "start_time": "2022-05-08T20:07:24.897Z"
   },
   {
    "duration": 28,
    "start_time": "2022-05-08T20:07:24.921Z"
   },
   {
    "duration": 85,
    "start_time": "2022-05-08T20:07:24.951Z"
   },
   {
    "duration": 85,
    "start_time": "2022-05-08T20:07:25.038Z"
   },
   {
    "duration": 73,
    "start_time": "2022-05-08T20:07:25.125Z"
   },
   {
    "duration": 8,
    "start_time": "2022-05-08T20:07:25.200Z"
   },
   {
    "duration": 4,
    "start_time": "2022-05-08T20:07:25.210Z"
   },
   {
    "duration": 18,
    "start_time": "2022-05-08T20:07:25.216Z"
   },
   {
    "duration": 9,
    "start_time": "2022-05-08T20:07:25.236Z"
   },
   {
    "duration": 52,
    "start_time": "2022-05-08T20:07:25.247Z"
   },
   {
    "duration": 13,
    "start_time": "2022-05-08T20:07:25.302Z"
   },
   {
    "duration": 4,
    "start_time": "2022-05-08T20:07:25.317Z"
   },
   {
    "duration": 24,
    "start_time": "2022-05-08T20:07:25.322Z"
   },
   {
    "duration": 46,
    "start_time": "2022-05-08T20:07:25.348Z"
   },
   {
    "duration": 16,
    "start_time": "2022-05-08T20:07:25.395Z"
   },
   {
    "duration": 16,
    "start_time": "2022-05-08T20:07:25.413Z"
   },
   {
    "duration": 17,
    "start_time": "2022-05-08T20:07:25.431Z"
   },
   {
    "duration": 49,
    "start_time": "2022-05-08T20:07:25.449Z"
   },
   {
    "duration": 10,
    "start_time": "2022-05-08T20:07:25.499Z"
   },
   {
    "duration": 44,
    "start_time": "2022-05-08T20:07:25.513Z"
   },
   {
    "duration": 42,
    "start_time": "2022-05-08T20:07:25.559Z"
   },
   {
    "duration": 11,
    "start_time": "2022-05-08T20:07:25.603Z"
   },
   {
    "duration": 6,
    "start_time": "2022-05-08T20:07:25.616Z"
   },
   {
    "duration": 30,
    "start_time": "2022-05-08T20:07:25.625Z"
   },
   {
    "duration": 49,
    "start_time": "2022-05-08T20:07:25.658Z"
   },
   {
    "duration": 28,
    "start_time": "2022-05-08T20:07:25.709Z"
   },
   {
    "duration": 16,
    "start_time": "2022-05-08T20:07:25.739Z"
   },
   {
    "duration": 45,
    "start_time": "2022-05-08T20:07:25.758Z"
   },
   {
    "duration": 6,
    "start_time": "2022-05-08T20:07:25.806Z"
   },
   {
    "duration": 11,
    "start_time": "2022-05-08T20:07:25.814Z"
   },
   {
    "duration": 7,
    "start_time": "2022-05-08T20:07:25.829Z"
   },
   {
    "duration": 471,
    "start_time": "2022-05-08T20:09:54.987Z"
   },
   {
    "duration": 242,
    "start_time": "2022-05-08T20:09:55.461Z"
   },
   {
    "duration": 19,
    "start_time": "2022-05-08T20:09:55.705Z"
   },
   {
    "duration": 36,
    "start_time": "2022-05-08T20:09:55.726Z"
   },
   {
    "duration": 30,
    "start_time": "2022-05-08T20:09:55.764Z"
   },
   {
    "duration": 16,
    "start_time": "2022-05-08T20:09:55.797Z"
   },
   {
    "duration": 18,
    "start_time": "2022-05-08T20:09:55.815Z"
   },
   {
    "duration": 32,
    "start_time": "2022-05-08T20:09:55.835Z"
   },
   {
    "duration": 36,
    "start_time": "2022-05-08T20:09:55.869Z"
   },
   {
    "duration": 26,
    "start_time": "2022-05-08T20:09:55.908Z"
   },
   {
    "duration": 93,
    "start_time": "2022-05-08T20:09:55.937Z"
   },
   {
    "duration": 97,
    "start_time": "2022-05-08T20:09:56.032Z"
   },
   {
    "duration": 73,
    "start_time": "2022-05-08T20:09:56.131Z"
   },
   {
    "duration": 12,
    "start_time": "2022-05-08T20:09:56.206Z"
   },
   {
    "duration": 4,
    "start_time": "2022-05-08T20:09:56.220Z"
   },
   {
    "duration": 18,
    "start_time": "2022-05-08T20:09:56.227Z"
   },
   {
    "duration": 9,
    "start_time": "2022-05-08T20:09:56.248Z"
   },
   {
    "duration": 49,
    "start_time": "2022-05-08T20:09:56.260Z"
   },
   {
    "duration": 13,
    "start_time": "2022-05-08T20:09:56.310Z"
   },
   {
    "duration": 4,
    "start_time": "2022-05-08T20:09:56.325Z"
   },
   {
    "duration": 26,
    "start_time": "2022-05-08T20:09:56.331Z"
   },
   {
    "duration": 52,
    "start_time": "2022-05-08T20:09:56.360Z"
   },
   {
    "duration": 16,
    "start_time": "2022-05-08T20:09:56.415Z"
   },
   {
    "duration": 18,
    "start_time": "2022-05-08T20:09:56.433Z"
   },
   {
    "duration": 50,
    "start_time": "2022-05-08T20:09:56.453Z"
   },
   {
    "duration": 19,
    "start_time": "2022-05-08T20:09:56.505Z"
   },
   {
    "duration": 10,
    "start_time": "2022-05-08T20:09:56.526Z"
   },
   {
    "duration": 103,
    "start_time": "2022-05-08T20:09:56.542Z"
   },
   {
    "duration": 19,
    "start_time": "2022-05-08T20:09:56.648Z"
   },
   {
    "duration": 31,
    "start_time": "2022-05-08T20:09:56.669Z"
   },
   {
    "duration": 6,
    "start_time": "2022-05-08T20:09:56.702Z"
   },
   {
    "duration": 34,
    "start_time": "2022-05-08T20:09:56.711Z"
   },
   {
    "duration": 46,
    "start_time": "2022-05-08T20:09:56.748Z"
   },
   {
    "duration": 29,
    "start_time": "2022-05-08T20:09:56.796Z"
   },
   {
    "duration": 17,
    "start_time": "2022-05-08T20:09:56.828Z"
   },
   {
    "duration": 16,
    "start_time": "2022-05-08T20:09:56.847Z"
   },
   {
    "duration": 7,
    "start_time": "2022-05-08T20:09:56.892Z"
   },
   {
    "duration": 9,
    "start_time": "2022-05-08T20:09:56.900Z"
   },
   {
    "duration": 6,
    "start_time": "2022-05-08T20:09:56.910Z"
   }
  ],
  "colab": {
   "collapsed_sections": [
    "E0vqbgi9ay0H",
    "VUC88oWjTJw2"
   ],
   "name": "yandex_music_project.ipynb",
   "provenance": []
  },
  "kernelspec": {
   "display_name": "Python 3 (ipykernel)",
   "language": "python",
   "name": "python3"
  },
  "language_info": {
   "codemirror_mode": {
    "name": "ipython",
    "version": 3
   },
   "file_extension": ".py",
   "mimetype": "text/x-python",
   "name": "python",
   "nbconvert_exporter": "python",
   "pygments_lexer": "ipython3",
   "version": "3.9.7"
  },
  "toc": {
   "base_numbering": 1,
   "nav_menu": {},
   "number_sections": true,
   "sideBar": true,
   "skip_h1_title": true,
   "title_cell": "Table of Contents",
   "title_sidebar": "Contents",
   "toc_cell": false,
   "toc_position": {
    "height": "calc(100% - 180px)",
    "left": "10px",
    "top": "150px",
    "width": "165px"
   },
   "toc_section_display": true,
   "toc_window_display": true
  }
 },
 "nbformat": 4,
 "nbformat_minor": 1
}
