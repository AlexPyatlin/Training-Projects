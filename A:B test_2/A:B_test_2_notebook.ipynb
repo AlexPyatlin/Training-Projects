{
 "cells": [
  {
   "cell_type": "markdown",
   "metadata": {},
   "source": [
    "# Описание проекта\n",
    "\n",
    "Стартап разрабатывает мобильное приложение по продаже продуктов питания. Дизайнеры захотели поменть шрифт во всем приложении, но менеджеры сомневаются, понравится ли это пользователям. В целях принятия решения был проведен А/Б тест. Пользователей разбили на 3 группы: 2 контрольные со старыми шрифтами и одну экспериментальную — с новыми. В распоряжении есть данные о результатах теста:\n",
    "- `EventName` — название события;\n",
    "- `DeviceIDHash` — уникальный идентификатор пользователя;\n",
    "- `EventTimestamp` — время события;\n",
    "- `ExpId` — номер эксперимента: 246 и 247 — контрольные группы, а 248 — экспериментальная\n",
    "\n",
    "**Цель исследования:** изучить воронку продаж и определить, какой шрифт лучше.\n",
    "\n",
    "Содержание:\n",
    "1. [Изучение данных из файлов](#first)\n",
    "2. [Подготовка данных](#second)\n",
    "3. [Изучение и проверка данных](#third)\n",
    "4. [Изучение воронки событий](#fourth)\n",
    "5. [Анализ результатов A/B теста](#fifth)\n",
    "6. [Итоговый вывод](#sixth)"
   ]
  },
  {
   "cell_type": "markdown",
   "metadata": {},
   "source": [
    "## Изучение данных из файлов \n",
    "<a id=\"first\"></a>"
   ]
  },
  {
   "cell_type": "code",
   "execution_count": 1,
   "metadata": {},
   "outputs": [],
   "source": [
    "%config InlineBackend.figure_format='retina'\n",
    "\n",
    "import pandas as pd\n",
    "import matplotlib.pyplot as plt\n",
    "import numpy as np\n",
    "import seaborn as sns\n",
    "import math as mth\n",
    "from scipy import stats"
   ]
  },
  {
   "cell_type": "code",
   "execution_count": 2,
   "metadata": {},
   "outputs": [],
   "source": [
    "data = pd.read_csv('logs_exp.csv', sep='\\t')"
   ]
  },
  {
   "cell_type": "code",
   "execution_count": 3,
   "metadata": {
    "scrolled": true
   },
   "outputs": [
    {
     "data": {
      "text/html": [
       "<div>\n",
       "<style scoped>\n",
       "    .dataframe tbody tr th:only-of-type {\n",
       "        vertical-align: middle;\n",
       "    }\n",
       "\n",
       "    .dataframe tbody tr th {\n",
       "        vertical-align: top;\n",
       "    }\n",
       "\n",
       "    .dataframe thead th {\n",
       "        text-align: right;\n",
       "    }\n",
       "</style>\n",
       "<table border=\"1\" class=\"dataframe\">\n",
       "  <thead>\n",
       "    <tr style=\"text-align: right;\">\n",
       "      <th></th>\n",
       "      <th>EventName</th>\n",
       "      <th>DeviceIDHash</th>\n",
       "      <th>EventTimestamp</th>\n",
       "      <th>ExpId</th>\n",
       "    </tr>\n",
       "  </thead>\n",
       "  <tbody>\n",
       "    <tr>\n",
       "      <th>0</th>\n",
       "      <td>MainScreenAppear</td>\n",
       "      <td>4575588528974610257</td>\n",
       "      <td>1564029816</td>\n",
       "      <td>246</td>\n",
       "    </tr>\n",
       "    <tr>\n",
       "      <th>1</th>\n",
       "      <td>MainScreenAppear</td>\n",
       "      <td>7416695313311560658</td>\n",
       "      <td>1564053102</td>\n",
       "      <td>246</td>\n",
       "    </tr>\n",
       "    <tr>\n",
       "      <th>2</th>\n",
       "      <td>PaymentScreenSuccessful</td>\n",
       "      <td>3518123091307005509</td>\n",
       "      <td>1564054127</td>\n",
       "      <td>248</td>\n",
       "    </tr>\n",
       "    <tr>\n",
       "      <th>3</th>\n",
       "      <td>CartScreenAppear</td>\n",
       "      <td>3518123091307005509</td>\n",
       "      <td>1564054127</td>\n",
       "      <td>248</td>\n",
       "    </tr>\n",
       "    <tr>\n",
       "      <th>4</th>\n",
       "      <td>PaymentScreenSuccessful</td>\n",
       "      <td>6217807653094995999</td>\n",
       "      <td>1564055322</td>\n",
       "      <td>248</td>\n",
       "    </tr>\n",
       "  </tbody>\n",
       "</table>\n",
       "</div>"
      ],
      "text/plain": [
       "                 EventName         DeviceIDHash  EventTimestamp  ExpId\n",
       "0         MainScreenAppear  4575588528974610257      1564029816    246\n",
       "1         MainScreenAppear  7416695313311560658      1564053102    246\n",
       "2  PaymentScreenSuccessful  3518123091307005509      1564054127    248\n",
       "3         CartScreenAppear  3518123091307005509      1564054127    248\n",
       "4  PaymentScreenSuccessful  6217807653094995999      1564055322    248"
      ]
     },
     "execution_count": 3,
     "metadata": {},
     "output_type": "execute_result"
    }
   ],
   "source": [
    "data.head()"
   ]
  },
  {
   "cell_type": "code",
   "execution_count": 4,
   "metadata": {},
   "outputs": [
    {
     "name": "stdout",
     "output_type": "stream",
     "text": [
      "<class 'pandas.core.frame.DataFrame'>\n",
      "RangeIndex: 244126 entries, 0 to 244125\n",
      "Data columns (total 4 columns):\n",
      " #   Column          Non-Null Count   Dtype \n",
      "---  ------          --------------   ----- \n",
      " 0   EventName       244126 non-null  object\n",
      " 1   DeviceIDHash    244126 non-null  int64 \n",
      " 2   EventTimestamp  244126 non-null  int64 \n",
      " 3   ExpId           244126 non-null  int64 \n",
      "dtypes: int64(3), object(1)\n",
      "memory usage: 7.5+ MB\n"
     ]
    }
   ],
   "source": [
    "data.info()"
   ]
  },
  {
   "cell_type": "markdown",
   "metadata": {},
   "source": [
    "**Вывод:** пропуски отсутствуют, колонку EventTimestamp следует привести к типу данных datetime."
   ]
  },
  {
   "cell_type": "markdown",
   "metadata": {},
   "source": [
    "## Подготовка данных\n",
    "<a id=\"second\"></a>"
   ]
  },
  {
   "cell_type": "code",
   "execution_count": 5,
   "metadata": {},
   "outputs": [
    {
     "data": {
      "text/html": [
       "<div>\n",
       "<style scoped>\n",
       "    .dataframe tbody tr th:only-of-type {\n",
       "        vertical-align: middle;\n",
       "    }\n",
       "\n",
       "    .dataframe tbody tr th {\n",
       "        vertical-align: top;\n",
       "    }\n",
       "\n",
       "    .dataframe thead th {\n",
       "        text-align: right;\n",
       "    }\n",
       "</style>\n",
       "<table border=\"1\" class=\"dataframe\">\n",
       "  <thead>\n",
       "    <tr style=\"text-align: right;\">\n",
       "      <th></th>\n",
       "      <th>event</th>\n",
       "      <th>user_id</th>\n",
       "      <th>event_time</th>\n",
       "      <th>group</th>\n",
       "    </tr>\n",
       "  </thead>\n",
       "  <tbody>\n",
       "    <tr>\n",
       "      <th>0</th>\n",
       "      <td>MainScreenAppear</td>\n",
       "      <td>4575588528974610257</td>\n",
       "      <td>1564029816</td>\n",
       "      <td>246</td>\n",
       "    </tr>\n",
       "    <tr>\n",
       "      <th>1</th>\n",
       "      <td>MainScreenAppear</td>\n",
       "      <td>7416695313311560658</td>\n",
       "      <td>1564053102</td>\n",
       "      <td>246</td>\n",
       "    </tr>\n",
       "    <tr>\n",
       "      <th>2</th>\n",
       "      <td>PaymentScreenSuccessful</td>\n",
       "      <td>3518123091307005509</td>\n",
       "      <td>1564054127</td>\n",
       "      <td>248</td>\n",
       "    </tr>\n",
       "    <tr>\n",
       "      <th>3</th>\n",
       "      <td>CartScreenAppear</td>\n",
       "      <td>3518123091307005509</td>\n",
       "      <td>1564054127</td>\n",
       "      <td>248</td>\n",
       "    </tr>\n",
       "    <tr>\n",
       "      <th>4</th>\n",
       "      <td>PaymentScreenSuccessful</td>\n",
       "      <td>6217807653094995999</td>\n",
       "      <td>1564055322</td>\n",
       "      <td>248</td>\n",
       "    </tr>\n",
       "  </tbody>\n",
       "</table>\n",
       "</div>"
      ],
      "text/plain": [
       "                     event              user_id  event_time  group\n",
       "0         MainScreenAppear  4575588528974610257  1564029816    246\n",
       "1         MainScreenAppear  7416695313311560658  1564053102    246\n",
       "2  PaymentScreenSuccessful  3518123091307005509  1564054127    248\n",
       "3         CartScreenAppear  3518123091307005509  1564054127    248\n",
       "4  PaymentScreenSuccessful  6217807653094995999  1564055322    248"
      ]
     },
     "execution_count": 5,
     "metadata": {},
     "output_type": "execute_result"
    }
   ],
   "source": [
    "data = data.rename(columns={'EventName':'event',\n",
    "                            'DeviceIDHash':'user_id',\n",
    "                            'EventTimestamp':'event_time',\n",
    "                            'ExpId':'group'})\n",
    "data.head()"
   ]
  },
  {
   "cell_type": "code",
   "execution_count": 6,
   "metadata": {
    "scrolled": true
   },
   "outputs": [
    {
     "data": {
      "text/html": [
       "<div>\n",
       "<style scoped>\n",
       "    .dataframe tbody tr th:only-of-type {\n",
       "        vertical-align: middle;\n",
       "    }\n",
       "\n",
       "    .dataframe tbody tr th {\n",
       "        vertical-align: top;\n",
       "    }\n",
       "\n",
       "    .dataframe thead th {\n",
       "        text-align: right;\n",
       "    }\n",
       "</style>\n",
       "<table border=\"1\" class=\"dataframe\">\n",
       "  <thead>\n",
       "    <tr style=\"text-align: right;\">\n",
       "      <th></th>\n",
       "      <th>event</th>\n",
       "      <th>user_id</th>\n",
       "      <th>event_time</th>\n",
       "      <th>group</th>\n",
       "    </tr>\n",
       "  </thead>\n",
       "  <tbody>\n",
       "    <tr>\n",
       "      <th>0</th>\n",
       "      <td>MainScreenAppear</td>\n",
       "      <td>4575588528974610257</td>\n",
       "      <td>2019-07-25 04:43:36</td>\n",
       "      <td>246</td>\n",
       "    </tr>\n",
       "    <tr>\n",
       "      <th>1</th>\n",
       "      <td>MainScreenAppear</td>\n",
       "      <td>7416695313311560658</td>\n",
       "      <td>2019-07-25 11:11:42</td>\n",
       "      <td>246</td>\n",
       "    </tr>\n",
       "    <tr>\n",
       "      <th>2</th>\n",
       "      <td>PaymentScreenSuccessful</td>\n",
       "      <td>3518123091307005509</td>\n",
       "      <td>2019-07-25 11:28:47</td>\n",
       "      <td>248</td>\n",
       "    </tr>\n",
       "    <tr>\n",
       "      <th>3</th>\n",
       "      <td>CartScreenAppear</td>\n",
       "      <td>3518123091307005509</td>\n",
       "      <td>2019-07-25 11:28:47</td>\n",
       "      <td>248</td>\n",
       "    </tr>\n",
       "    <tr>\n",
       "      <th>4</th>\n",
       "      <td>PaymentScreenSuccessful</td>\n",
       "      <td>6217807653094995999</td>\n",
       "      <td>2019-07-25 11:48:42</td>\n",
       "      <td>248</td>\n",
       "    </tr>\n",
       "  </tbody>\n",
       "</table>\n",
       "</div>"
      ],
      "text/plain": [
       "                     event              user_id          event_time  group\n",
       "0         MainScreenAppear  4575588528974610257 2019-07-25 04:43:36    246\n",
       "1         MainScreenAppear  7416695313311560658 2019-07-25 11:11:42    246\n",
       "2  PaymentScreenSuccessful  3518123091307005509 2019-07-25 11:28:47    248\n",
       "3         CartScreenAppear  3518123091307005509 2019-07-25 11:28:47    248\n",
       "4  PaymentScreenSuccessful  6217807653094995999 2019-07-25 11:48:42    248"
      ]
     },
     "execution_count": 6,
     "metadata": {},
     "output_type": "execute_result"
    }
   ],
   "source": [
    "# перевод формата unix time\n",
    "data['event_time'] = pd.to_datetime(data['event_time'], unit='s')\n",
    "data.head()"
   ]
  },
  {
   "cell_type": "code",
   "execution_count": 7,
   "metadata": {},
   "outputs": [
    {
     "data": {
      "text/plain": [
       "413"
      ]
     },
     "execution_count": 7,
     "metadata": {},
     "output_type": "execute_result"
    }
   ],
   "source": [
    "data.duplicated().sum()"
   ]
  },
  {
   "cell_type": "code",
   "execution_count": 8,
   "metadata": {},
   "outputs": [],
   "source": [
    "# удаляем дубликаты\n",
    "data = data.drop_duplicates().reset_index(drop=True)\n",
    "# добавляем колонку с датой\n",
    "data['event_date'] = data['event_time'].dt.date"
   ]
  },
  {
   "cell_type": "markdown",
   "metadata": {},
   "source": [
    "## Изучение и проверка данных\n",
    "<a id=\"third\"></a>"
   ]
  },
  {
   "cell_type": "code",
   "execution_count": 9,
   "metadata": {},
   "outputs": [
    {
     "data": {
      "text/plain": [
       "MainScreenAppear           119101\n",
       "OffersScreenAppear          46808\n",
       "CartScreenAppear            42668\n",
       "PaymentScreenSuccessful     34118\n",
       "Tutorial                     1018\n",
       "Name: event, dtype: int64"
      ]
     },
     "execution_count": 9,
     "metadata": {},
     "output_type": "execute_result"
    }
   ],
   "source": [
    "data['event'].value_counts()"
   ]
  },
  {
   "cell_type": "markdown",
   "metadata": {},
   "source": [
    "Всего в логе 5 видов событий."
   ]
  },
  {
   "cell_type": "code",
   "execution_count": 10,
   "metadata": {},
   "outputs": [
    {
     "data": {
      "text/plain": [
       "7551"
      ]
     },
     "execution_count": 10,
     "metadata": {},
     "output_type": "execute_result"
    }
   ],
   "source": [
    "data['user_id'].nunique()"
   ]
  },
  {
   "cell_type": "markdown",
   "metadata": {},
   "source": [
    "В данных содержится 7551 пользователь."
   ]
  },
  {
   "cell_type": "code",
   "execution_count": 11,
   "metadata": {},
   "outputs": [
    {
     "data": {
      "text/plain": [
       "32.27559263673685"
      ]
     },
     "execution_count": 11,
     "metadata": {},
     "output_type": "execute_result"
    }
   ],
   "source": [
    "data.groupby('user_id')['event'].count().mean()"
   ]
  },
  {
   "cell_type": "markdown",
   "metadata": {},
   "source": [
    "На одного пользователя в среднем приходится 32 события."
   ]
  },
  {
   "cell_type": "code",
   "execution_count": 12,
   "metadata": {},
   "outputs": [
    {
     "name": "stdout",
     "output_type": "stream",
     "text": [
      "2019-07-25\n",
      "2019-08-07\n"
     ]
    }
   ],
   "source": [
    "print(data['event_date'].min()) # начальная дата в логе\n",
    "print(data['event_date'].max()) # конечная дата в логе"
   ]
  },
  {
   "cell_type": "code",
   "execution_count": 13,
   "metadata": {
    "scrolled": true
   },
   "outputs": [
    {
     "data": {
      "image/png": "[encoded data removed]",
      "text/plain": [
       "<Figure size 1080x360 with 1 Axes>"
      ]
     },
     "metadata": {
      "image/png": {
       "height": 316,
       "width": 897
      },
      "needs_background": "light"
     },
     "output_type": "display_data"
    }
   ],
   "source": [
    "# строим распределение кол-ва пользователей по времени и дате\n",
    "plt.figure(figsize=(15,5))\n",
    "sns.histplot(x='event_time', data=data)\n",
    "plt.show()"
   ]
  },
  {
   "cell_type": "code",
   "execution_count": 14,
   "metadata": {},
   "outputs": [
    {
     "data": {
      "image/png": "[encoded data removed]",
      "text/plain": [
       "<Figure size 1080x360 with 1 Axes>"
      ]
     },
     "metadata": {
      "image/png": {
       "height": 316,
       "width": 891
      },
      "needs_background": "light"
     },
     "output_type": "display_data"
    }
   ],
   "source": [
    "plt.figure(figsize=(15,5))\n",
    "sns.histplot(x='event_time', data=data.query('event_time < \"2019-08-01\"'), bins=200)\n",
    "plt.show()"
   ]
  },
  {
   "cell_type": "markdown",
   "metadata": {},
   "source": [
    "Как видим, кол-во пользователей до 2019-08-01 незначительное."
   ]
  },
  {
   "cell_type": "code",
   "execution_count": 15,
   "metadata": {},
   "outputs": [
    {
     "data": {
      "text/plain": [
       "1451"
      ]
     },
     "execution_count": 15,
     "metadata": {},
     "output_type": "execute_result"
    }
   ],
   "source": [
    "# кол-во уникальных пользователей до 2019-08-01\n",
    "data.query('event_time < \"2019-08-01\"')['user_id'].nunique()"
   ]
  },
  {
   "cell_type": "code",
   "execution_count": 16,
   "metadata": {},
   "outputs": [
    {
     "data": {
      "text/plain": [
       "2826"
      ]
     },
     "execution_count": 16,
     "metadata": {},
     "output_type": "execute_result"
    }
   ],
   "source": [
    "# кол-во событий до 2019-08-01\n",
    "data.query('event_time < \"2019-08-01\"').shape[0]"
   ]
  },
  {
   "cell_type": "markdown",
   "metadata": {},
   "source": [
    "По гистограммам видно, что до 2019-08-01 событий почти не было из-за малого кол-ва пользователей. Активность постепенно увеличивалась. Целесообразно отбросить этот временной период и начать анализировать с 2019-08-01. При этом начать лучше не 0 часов, а ближе к утру (c 3 часов), чтобы \"не доехали\" пользователи, которые начали что-то делать поздно вечером предыдущего дня и закончили после полуночи.<br>\n",
    "**В целях дальнейшего анализа выберем временной интервал с 2019-08-01 03:00:00.**"
   ]
  },
  {
   "cell_type": "code",
   "execution_count": 17,
   "metadata": {
    "scrolled": true
   },
   "outputs": [
    {
     "data": {
      "image/png": "[encoded data removed]",
      "text/plain": [
       "<Figure size 1080x360 with 1 Axes>"
      ]
     },
     "metadata": {
      "image/png": {
       "height": 316,
       "width": 899
      },
      "needs_background": "light"
     },
     "output_type": "display_data"
    }
   ],
   "source": [
    "plt.figure(figsize=(15,5))\n",
    "sns.histplot(x='event_time', data=data.query('event_time > \"2019-07-31\"'), bins=200)\n",
    "plt.show()"
   ]
  },
  {
   "cell_type": "markdown",
   "metadata": {},
   "source": [
    "Отметим, что наибольшая активность приходится на середину дня и послеобеденное время."
   ]
  },
  {
   "cell_type": "code",
   "execution_count": 18,
   "metadata": {},
   "outputs": [
    {
     "name": "stdout",
     "output_type": "stream",
     "text": [
      "3574\n",
      "1.4664790142503683\n"
     ]
    }
   ],
   "source": [
    "# кол-во событий до 2019-08-01 04:00:00\n",
    "print(data.query('event_time < \"2019-08-01 03:00:00\"').shape[0])\n",
    "print(data.query('event_time < \"2019-08-01 03:00:00\"').shape[0] / data.shape[0] * 100)"
   ]
  },
  {
   "cell_type": "markdown",
   "metadata": {},
   "source": [
    "Потеряем 3574 событий (1.47%)"
   ]
  },
  {
   "cell_type": "code",
   "execution_count": 19,
   "metadata": {},
   "outputs": [
    {
     "name": "stdout",
     "output_type": "stream",
     "text": [
      "21\n",
      "0.008616692585130871\n"
     ]
    }
   ],
   "source": [
    "# кол-во уникальных пользователей до 2019-08-01 04:00:00\n",
    "x = data['user_id'].nunique() - data.query('event_time >= \"2019-08-01 03:00:00\"')['user_id'].nunique()\n",
    "print(x)\n",
    "print(x / data.shape[0] * 100)"
   ]
  },
  {
   "cell_type": "markdown",
   "metadata": {},
   "source": [
    "Потеряем 21 пользователя (0.009%)"
   ]
  },
  {
   "cell_type": "code",
   "execution_count": 20,
   "metadata": {},
   "outputs": [],
   "source": [
    "data_filtered = data.query('event_time >= \"2019-08-01 03:00:00\"')"
   ]
  },
  {
   "cell_type": "code",
   "execution_count": 21,
   "metadata": {},
   "outputs": [
    {
     "data": {
      "text/html": [
       "<div>\n",
       "<style scoped>\n",
       "    .dataframe tbody tr th:only-of-type {\n",
       "        vertical-align: middle;\n",
       "    }\n",
       "\n",
       "    .dataframe tbody tr th {\n",
       "        vertical-align: top;\n",
       "    }\n",
       "\n",
       "    .dataframe thead th {\n",
       "        text-align: right;\n",
       "    }\n",
       "</style>\n",
       "<table border=\"1\" class=\"dataframe\">\n",
       "  <thead>\n",
       "    <tr style=\"text-align: right;\">\n",
       "      <th></th>\n",
       "      <th>user_id</th>\n",
       "    </tr>\n",
       "    <tr>\n",
       "      <th>group</th>\n",
       "      <th></th>\n",
       "    </tr>\n",
       "  </thead>\n",
       "  <tbody>\n",
       "    <tr>\n",
       "      <th>246</th>\n",
       "      <td>2482</td>\n",
       "    </tr>\n",
       "    <tr>\n",
       "      <th>247</th>\n",
       "      <td>2512</td>\n",
       "    </tr>\n",
       "    <tr>\n",
       "      <th>248</th>\n",
       "      <td>2536</td>\n",
       "    </tr>\n",
       "  </tbody>\n",
       "</table>\n",
       "</div>"
      ],
      "text/plain": [
       "       user_id\n",
       "group         \n",
       "246       2482\n",
       "247       2512\n",
       "248       2536"
      ]
     },
     "execution_count": 21,
     "metadata": {},
     "output_type": "execute_result"
    }
   ],
   "source": [
    "data_filtered.groupby('group').agg({'user_id':'nunique'})"
   ]
  },
  {
   "cell_type": "markdown",
   "metadata": {},
   "source": [
    "В данных содержатся пользователи из всех трех экспериментальных групп."
   ]
  },
  {
   "cell_type": "markdown",
   "metadata": {},
   "source": [
    "## Изучение воронки событий\n",
    "<a id=\"fourth\"></a>"
   ]
  },
  {
   "cell_type": "code",
   "execution_count": 22,
   "metadata": {
    "scrolled": true
   },
   "outputs": [
    {
     "data": {
      "text/plain": [
       "MainScreenAppear           116856\n",
       "OffersScreenAppear          46176\n",
       "CartScreenAppear            42242\n",
       "PaymentScreenSuccessful     33864\n",
       "Tutorial                     1001\n",
       "Name: event, dtype: int64"
      ]
     },
     "execution_count": 22,
     "metadata": {},
     "output_type": "execute_result"
    }
   ],
   "source": [
    "data_filtered['event'].value_counts()"
   ]
  },
  {
   "cell_type": "markdown",
   "metadata": {},
   "source": [
    "Всего 5 видов событий. Раздел с обучением не популярен среди пользователей."
   ]
  },
  {
   "cell_type": "code",
   "execution_count": 23,
   "metadata": {},
   "outputs": [
    {
     "data": {
      "text/html": [
       "<div>\n",
       "<style scoped>\n",
       "    .dataframe tbody tr th:only-of-type {\n",
       "        vertical-align: middle;\n",
       "    }\n",
       "\n",
       "    .dataframe tbody tr th {\n",
       "        vertical-align: top;\n",
       "    }\n",
       "\n",
       "    .dataframe thead th {\n",
       "        text-align: right;\n",
       "    }\n",
       "</style>\n",
       "<table border=\"1\" class=\"dataframe\">\n",
       "  <thead>\n",
       "    <tr style=\"text-align: right;\">\n",
       "      <th></th>\n",
       "      <th>Уникальные пользователи</th>\n",
       "      <th>Доля от общего числа пользователей, %</th>\n",
       "    </tr>\n",
       "    <tr>\n",
       "      <th>event</th>\n",
       "      <th></th>\n",
       "      <th></th>\n",
       "    </tr>\n",
       "  </thead>\n",
       "  <tbody>\n",
       "    <tr>\n",
       "      <th>MainScreenAppear</th>\n",
       "      <td>7415</td>\n",
       "      <td>98.472776</td>\n",
       "    </tr>\n",
       "    <tr>\n",
       "      <th>OffersScreenAppear</th>\n",
       "      <td>4586</td>\n",
       "      <td>60.903054</td>\n",
       "    </tr>\n",
       "    <tr>\n",
       "      <th>CartScreenAppear</th>\n",
       "      <td>3732</td>\n",
       "      <td>49.561753</td>\n",
       "    </tr>\n",
       "    <tr>\n",
       "      <th>PaymentScreenSuccessful</th>\n",
       "      <td>3537</td>\n",
       "      <td>46.972112</td>\n",
       "    </tr>\n",
       "    <tr>\n",
       "      <th>Tutorial</th>\n",
       "      <td>837</td>\n",
       "      <td>11.115538</td>\n",
       "    </tr>\n",
       "  </tbody>\n",
       "</table>\n",
       "</div>"
      ],
      "text/plain": [
       "                         Уникальные пользователи  \\\n",
       "event                                              \n",
       "MainScreenAppear                            7415   \n",
       "OffersScreenAppear                          4586   \n",
       "CartScreenAppear                            3732   \n",
       "PaymentScreenSuccessful                     3537   \n",
       "Tutorial                                     837   \n",
       "\n",
       "                         Доля от общего числа пользователей, %  \n",
       "event                                                           \n",
       "MainScreenAppear                                     98.472776  \n",
       "OffersScreenAppear                                   60.903054  \n",
       "CartScreenAppear                                     49.561753  \n",
       "PaymentScreenSuccessful                              46.972112  \n",
       "Tutorial                                             11.115538  "
      ]
     },
     "execution_count": 23,
     "metadata": {},
     "output_type": "execute_result"
    }
   ],
   "source": [
    "# считаем кол-во уникальных пользователей\n",
    "temp_1 = data_filtered.groupby('event').agg({'user_id':'nunique'}).sort_values('user_id', ascending=False)\n",
    "\n",
    "# считаем доли от общего числа уникальных пользователей\n",
    "temp_2 = temp_1.apply(lambda x: x/data_filtered['user_id'].nunique()*100)\n",
    "\n",
    "# объединяем в один датафрейм\n",
    "pd.merge(temp_1, temp_2, left_index=True, right_index=True) \\\n",
    ".rename(columns={'user_id_x':'Уникальные пользователи', 'user_id_y':'Доля от общего числа пользователей, %'})"
   ]
  },
  {
   "cell_type": "markdown",
   "metadata": {},
   "source": [
    "Вероятно, продуктовая воронка выглядит следующим образом: Показ главной страницы (MainScreenAppear) - Показ страницы со спецпредложением (OffersScreenAppear) - Страница с корзиной (CartScreenAppear) - Успешная оплата товара (PaymentScreenSuccessful). Через все шаги проходить необязательно (конверсия на первом шаге меньше 100%). Страница с обучением вряд ли будет появлятся после оплаты товара. Скорее всего, это отдельный раздел, в который пользователи заходят по желанию в самом начале или на любом этапе оформления товара. Судя по незначительной доле, данный раздел не пользуется популярностью."
   ]
  },
  {
   "cell_type": "markdown",
   "metadata": {},
   "source": [
    "Проверим, согласуются ли данные разных групп между собой."
   ]
  },
  {
   "cell_type": "code",
   "execution_count": 24,
   "metadata": {
    "scrolled": true
   },
   "outputs": [
    {
     "data": {
      "text/html": [
       "<div>\n",
       "<style scoped>\n",
       "    .dataframe tbody tr th:only-of-type {\n",
       "        vertical-align: middle;\n",
       "    }\n",
       "\n",
       "    .dataframe tbody tr th {\n",
       "        vertical-align: top;\n",
       "    }\n",
       "\n",
       "    .dataframe thead th {\n",
       "        text-align: right;\n",
       "    }\n",
       "</style>\n",
       "<table border=\"1\" class=\"dataframe\">\n",
       "  <thead>\n",
       "    <tr style=\"text-align: right;\">\n",
       "      <th></th>\n",
       "      <th></th>\n",
       "      <th>user_id</th>\n",
       "    </tr>\n",
       "    <tr>\n",
       "      <th>event</th>\n",
       "      <th>group</th>\n",
       "      <th></th>\n",
       "    </tr>\n",
       "  </thead>\n",
       "  <tbody>\n",
       "    <tr>\n",
       "      <th rowspan=\"3\" valign=\"top\">MainScreenAppear</th>\n",
       "      <th>248</th>\n",
       "      <td>2492</td>\n",
       "    </tr>\n",
       "    <tr>\n",
       "      <th>247</th>\n",
       "      <td>2475</td>\n",
       "    </tr>\n",
       "    <tr>\n",
       "      <th>246</th>\n",
       "      <td>2448</td>\n",
       "    </tr>\n",
       "    <tr>\n",
       "      <th rowspan=\"3\" valign=\"top\">OffersScreenAppear</th>\n",
       "      <th>246</th>\n",
       "      <td>1538</td>\n",
       "    </tr>\n",
       "    <tr>\n",
       "      <th>248</th>\n",
       "      <td>1530</td>\n",
       "    </tr>\n",
       "    <tr>\n",
       "      <th>247</th>\n",
       "      <td>1518</td>\n",
       "    </tr>\n",
       "    <tr>\n",
       "      <th rowspan=\"3\" valign=\"top\">CartScreenAppear</th>\n",
       "      <th>246</th>\n",
       "      <td>1266</td>\n",
       "    </tr>\n",
       "    <tr>\n",
       "      <th>247</th>\n",
       "      <td>1237</td>\n",
       "    </tr>\n",
       "    <tr>\n",
       "      <th>248</th>\n",
       "      <td>1229</td>\n",
       "    </tr>\n",
       "    <tr>\n",
       "      <th rowspan=\"3\" valign=\"top\">PaymentScreenSuccessful</th>\n",
       "      <th>246</th>\n",
       "      <td>1200</td>\n",
       "    </tr>\n",
       "    <tr>\n",
       "      <th>248</th>\n",
       "      <td>1180</td>\n",
       "    </tr>\n",
       "    <tr>\n",
       "      <th>247</th>\n",
       "      <td>1157</td>\n",
       "    </tr>\n",
       "    <tr>\n",
       "      <th rowspan=\"3\" valign=\"top\">Tutorial</th>\n",
       "      <th>247</th>\n",
       "      <td>282</td>\n",
       "    </tr>\n",
       "    <tr>\n",
       "      <th>248</th>\n",
       "      <td>279</td>\n",
       "    </tr>\n",
       "    <tr>\n",
       "      <th>246</th>\n",
       "      <td>276</td>\n",
       "    </tr>\n",
       "  </tbody>\n",
       "</table>\n",
       "</div>"
      ],
      "text/plain": [
       "                               user_id\n",
       "event                   group         \n",
       "MainScreenAppear        248       2492\n",
       "                        247       2475\n",
       "                        246       2448\n",
       "OffersScreenAppear      246       1538\n",
       "                        248       1530\n",
       "                        247       1518\n",
       "CartScreenAppear        246       1266\n",
       "                        247       1237\n",
       "                        248       1229\n",
       "PaymentScreenSuccessful 246       1200\n",
       "                        248       1180\n",
       "                        247       1157\n",
       "Tutorial                247        282\n",
       "                        248        279\n",
       "                        246        276"
      ]
     },
     "execution_count": 24,
     "metadata": {},
     "output_type": "execute_result"
    }
   ],
   "source": [
    "data_filtered.groupby(['event', 'group']).agg({'user_id':'nunique'}).sort_values('user_id', ascending=False)"
   ]
  },
  {
   "cell_type": "markdown",
   "metadata": {},
   "source": [
    "Данные согласуются - количество пользователей в группах не сильно отличается на каждом этапе."
   ]
  },
  {
   "cell_type": "markdown",
   "metadata": {},
   "source": [
    "Перестроим воронку без учета события Tutorial"
   ]
  },
  {
   "cell_type": "code",
   "execution_count": 25,
   "metadata": {},
   "outputs": [
    {
     "data": {
      "text/html": [
       "<div>\n",
       "<style scoped>\n",
       "    .dataframe tbody tr th:only-of-type {\n",
       "        vertical-align: middle;\n",
       "    }\n",
       "\n",
       "    .dataframe tbody tr th {\n",
       "        vertical-align: top;\n",
       "    }\n",
       "\n",
       "    .dataframe thead th {\n",
       "        text-align: right;\n",
       "    }\n",
       "</style>\n",
       "<table border=\"1\" class=\"dataframe\">\n",
       "  <thead>\n",
       "    <tr style=\"text-align: right;\">\n",
       "      <th></th>\n",
       "      <th>Уникальные пользователи</th>\n",
       "      <th>Доля от общего числа пользователей, %</th>\n",
       "    </tr>\n",
       "    <tr>\n",
       "      <th>event</th>\n",
       "      <th></th>\n",
       "      <th></th>\n",
       "    </tr>\n",
       "  </thead>\n",
       "  <tbody>\n",
       "    <tr>\n",
       "      <th>MainScreenAppear</th>\n",
       "      <td>7415</td>\n",
       "      <td>98.525113</td>\n",
       "    </tr>\n",
       "    <tr>\n",
       "      <th>OffersScreenAppear</th>\n",
       "      <td>4586</td>\n",
       "      <td>60.935424</td>\n",
       "    </tr>\n",
       "    <tr>\n",
       "      <th>CartScreenAppear</th>\n",
       "      <td>3732</td>\n",
       "      <td>49.588095</td>\n",
       "    </tr>\n",
       "    <tr>\n",
       "      <th>PaymentScreenSuccessful</th>\n",
       "      <td>3537</td>\n",
       "      <td>46.997077</td>\n",
       "    </tr>\n",
       "  </tbody>\n",
       "</table>\n",
       "</div>"
      ],
      "text/plain": [
       "                         Уникальные пользователи  \\\n",
       "event                                              \n",
       "MainScreenAppear                            7415   \n",
       "OffersScreenAppear                          4586   \n",
       "CartScreenAppear                            3732   \n",
       "PaymentScreenSuccessful                     3537   \n",
       "\n",
       "                         Доля от общего числа пользователей, %  \n",
       "event                                                           \n",
       "MainScreenAppear                                     98.525113  \n",
       "OffersScreenAppear                                   60.935424  \n",
       "CartScreenAppear                                     49.588095  \n",
       "PaymentScreenSuccessful                              46.997077  "
      ]
     },
     "execution_count": 25,
     "metadata": {},
     "output_type": "execute_result"
    }
   ],
   "source": [
    "temp_1 = data_filtered.query('event != \"Tutorial\"') \\\n",
    "        .groupby('event').agg({'user_id':'nunique'}).sort_values('user_id', ascending=False)\n",
    "\n",
    "temp_2 = temp_1.apply(lambda x: x/data_filtered.query('event != \"Tutorial\"')['user_id'].nunique()*100)\n",
    "\n",
    "pd.merge(temp_1, temp_2, left_index=True, right_index=True) \\\n",
    ".rename(columns={'user_id_x':'Уникальные пользователи', 'user_id_y':'Доля от общего числа пользователей, %'})"
   ]
  },
  {
   "cell_type": "markdown",
   "metadata": {},
   "source": [
    "Посчитаем общую конверсию и конверсию в шаг, построим график воронки."
   ]
  },
  {
   "cell_type": "code",
   "execution_count": 26,
   "metadata": {},
   "outputs": [
    {
     "data": {
      "text/html": [
       "<div>\n",
       "<style scoped>\n",
       "    .dataframe tbody tr th:only-of-type {\n",
       "        vertical-align: middle;\n",
       "    }\n",
       "\n",
       "    .dataframe tbody tr th {\n",
       "        vertical-align: top;\n",
       "    }\n",
       "\n",
       "    .dataframe thead th {\n",
       "        text-align: right;\n",
       "    }\n",
       "</style>\n",
       "<table border=\"1\" class=\"dataframe\">\n",
       "  <thead>\n",
       "    <tr style=\"text-align: right;\">\n",
       "      <th></th>\n",
       "      <th>Уникальные пользователи</th>\n",
       "      <th>Конверсия</th>\n",
       "      <th>Конверсия в шаг</th>\n",
       "    </tr>\n",
       "    <tr>\n",
       "      <th>event</th>\n",
       "      <th></th>\n",
       "      <th></th>\n",
       "      <th></th>\n",
       "    </tr>\n",
       "  </thead>\n",
       "  <tbody>\n",
       "    <tr>\n",
       "      <th>MainScreenAppear</th>\n",
       "      <td>7415</td>\n",
       "      <td>100.000000</td>\n",
       "      <td>100.000000</td>\n",
       "    </tr>\n",
       "    <tr>\n",
       "      <th>OffersScreenAppear</th>\n",
       "      <td>4586</td>\n",
       "      <td>61.847606</td>\n",
       "      <td>61.847606</td>\n",
       "    </tr>\n",
       "    <tr>\n",
       "      <th>CartScreenAppear</th>\n",
       "      <td>3732</td>\n",
       "      <td>50.330411</td>\n",
       "      <td>81.378107</td>\n",
       "    </tr>\n",
       "    <tr>\n",
       "      <th>PaymentScreenSuccessful</th>\n",
       "      <td>3537</td>\n",
       "      <td>47.700607</td>\n",
       "      <td>94.774920</td>\n",
       "    </tr>\n",
       "  </tbody>\n",
       "</table>\n",
       "</div>"
      ],
      "text/plain": [
       "                         Уникальные пользователи   Конверсия  Конверсия в шаг\n",
       "event                                                                        \n",
       "MainScreenAppear                            7415  100.000000       100.000000\n",
       "OffersScreenAppear                          4586   61.847606        61.847606\n",
       "CartScreenAppear                            3732   50.330411        81.378107\n",
       "PaymentScreenSuccessful                     3537   47.700607        94.774920"
      ]
     },
     "metadata": {},
     "output_type": "display_data"
    },
    {
     "data": {
      "image/png": "[encoded data removed]",
      "text/plain": [
       "<Figure size 432x288 with 1 Axes>"
      ]
     },
     "metadata": {
      "image/png": {
       "height": 277,
       "width": 501
      },
      "needs_background": "light"
     },
     "output_type": "display_data"
    }
   ],
   "source": [
    "temp_1 = data_filtered.query('event != \"Tutorial\"') \\\n",
    "        .groupby('event').agg({'user_id':'nunique'}).sort_values('user_id', ascending=False) \\\n",
    "        .rename(columns={'user_id':'Уникальные пользователи'})\n",
    "\n",
    "# общая конверсия\n",
    "temp_2 = temp_1.apply(lambda x: x/temp_1.iloc[0,0]*100).rename(columns={'Уникальные пользователи':'Конверсия'})\n",
    "\n",
    "# конверсия в шаг\n",
    "# используем fill_value=temp_1.iloc[0,0], чтобы не получился NaN в первой строке\n",
    "temp_2['Конверсия в шаг'] = temp_1['Уникальные пользователи'] \\\n",
    "                        .div(temp_1['Уникальные пользователи'].shift(periods=1,fill_value=temp_1.iloc[0,0])) * 100\n",
    "\n",
    "result = pd.merge(temp_1, temp_2, left_index=True, right_index=True)\n",
    "display(result)\n",
    "\n",
    "sns.barplot(x='Уникальные пользователи', y=result.index, data=result)\n",
    "plt.title('Продуктовая воронка')\n",
    "plt.show()"
   ]
  },
  {
   "cell_type": "markdown",
   "metadata": {},
   "source": [
    "**Вывод:** При переходе на шаг OffersScreenAppear теряется больше всего пользователей (39%). До оплаты доходит 47% пользователей, попавших на главную страницу."
   ]
  },
  {
   "cell_type": "markdown",
   "metadata": {},
   "source": [
    "## Анализ результатов A/B теста\n",
    "<a id=\"fifth\"></a>"
   ]
  },
  {
   "cell_type": "markdown",
   "metadata": {},
   "source": [
    "Определим цель планируемого А/В-теста - повысить конверсию.\n",
    "\n",
    "Метрика для отслеживания: конверсия.\n",
    "\n",
    "Сформулируем гипотезы:\n",
    "- Нулева гипотеза (Н0): изменение шрифта не повлияло на конверсию, конверсии групп А и В не отличаются, наблюдаемые различия случайны;<br>\n",
    "- Альтернативная гипотеза (Н1): изменение шрифта повлияло на конверсию, конверсия группы В выше, чем А, и эти различия — результат изменений.<br>"
   ]
  },
  {
   "cell_type": "code",
   "execution_count": 27,
   "metadata": {},
   "outputs": [
    {
     "data": {
      "text/html": [
       "<div>\n",
       "<style scoped>\n",
       "    .dataframe tbody tr th:only-of-type {\n",
       "        vertical-align: middle;\n",
       "    }\n",
       "\n",
       "    .dataframe tbody tr th {\n",
       "        vertical-align: top;\n",
       "    }\n",
       "\n",
       "    .dataframe thead th {\n",
       "        text-align: right;\n",
       "    }\n",
       "</style>\n",
       "<table border=\"1\" class=\"dataframe\">\n",
       "  <thead>\n",
       "    <tr style=\"text-align: right;\">\n",
       "      <th></th>\n",
       "      <th>user_id</th>\n",
       "    </tr>\n",
       "    <tr>\n",
       "      <th>group</th>\n",
       "      <th></th>\n",
       "    </tr>\n",
       "  </thead>\n",
       "  <tbody>\n",
       "    <tr>\n",
       "      <th>246</th>\n",
       "      <td>2482</td>\n",
       "    </tr>\n",
       "    <tr>\n",
       "      <th>247</th>\n",
       "      <td>2512</td>\n",
       "    </tr>\n",
       "    <tr>\n",
       "      <th>248</th>\n",
       "      <td>2536</td>\n",
       "    </tr>\n",
       "  </tbody>\n",
       "</table>\n",
       "</div>"
      ],
      "text/plain": [
       "       user_id\n",
       "group         \n",
       "246       2482\n",
       "247       2512\n",
       "248       2536"
      ]
     },
     "execution_count": 27,
     "metadata": {},
     "output_type": "execute_result"
    }
   ],
   "source": [
    "# кол-во пользователей в каждой группе\n",
    "# 246 и 247 — контрольные группы, а 248 — экспериментальная\n",
    "data_filtered.groupby('group').agg({'user_id':'nunique'})"
   ]
  },
  {
   "cell_type": "code",
   "execution_count": 28,
   "metadata": {},
   "outputs": [
    {
     "data": {
      "text/plain": [
       "1.0120870265914585"
      ]
     },
     "execution_count": 28,
     "metadata": {},
     "output_type": "execute_result"
    }
   ],
   "source": [
    "2512/2482"
   ]
  },
  {
   "cell_type": "markdown",
   "metadata": {},
   "source": [
    "Количество пользователей в экспериментальны группах различается на 1%. Это говорит о неоптимальности разбиения данных по группам. Для будущих тестов следует несколько поработать с механикой выделения групп и, возможно, изменить подход к их выделению. В рамках текущей работы будем считать различие приемлемым."
   ]
  },
  {
   "cell_type": "markdown",
   "metadata": {},
   "source": [
    "Также проверим, что каждый пользователь состоит лишь в одной группе."
   ]
  },
  {
   "cell_type": "code",
   "execution_count": 29,
   "metadata": {},
   "outputs": [
    {
     "data": {
      "text/plain": [
       "1    7530\n",
       "Name: group, dtype: int64"
      ]
     },
     "execution_count": 29,
     "metadata": {},
     "output_type": "execute_result"
    }
   ],
   "source": [
    "# группируем пользователей по кол-ву уникальных групп\n",
    "temp = data_filtered.pivot_table(index='user_id', values='group', aggfunc='nunique') \n",
    "# смотрим значения по столбцу group\n",
    "temp['group'].value_counts()"
   ]
  },
  {
   "cell_type": "markdown",
   "metadata": {},
   "source": [
    "Каждый из 7530 пользователей состоит лишь в одной группе."
   ]
  },
  {
   "cell_type": "code",
   "execution_count": 30,
   "metadata": {},
   "outputs": [],
   "source": [
    "# функция расчета конверсий по экспериментальным группам\n",
    "# чтобы можно было считать по объединенным группам, параметр group передается списком\n",
    "# доли считаем от общего числа уникальных пользователей\n",
    "def get_conversion(group=[]):\n",
    "    \n",
    "    unique_users = data_filtered.query('group in @group')['user_id'].nunique()\n",
    "    \n",
    "    temp_1 = data_filtered.query('event != \"Tutorial\" and group in @group') \\\n",
    "        .groupby('event').agg({'user_id':'nunique'}).sort_values('user_id', ascending=False) \\\n",
    "        .rename(columns={'user_id':'Уникальные пользователи'})\n",
    "    \n",
    "    temp_2 = temp_1.apply(lambda x: x/unique_users * 100) \\\n",
    "    .rename(columns={'Уникальные пользователи':'Конверсия'})\n",
    "    \n",
    "    temp_2['Конверсия в шаг'] = temp_1['Уникальные пользователи'] \\\n",
    "                        .div(temp_1['Уникальные пользователи'].shift(periods=1,fill_value=temp_1.iloc[0,0])) * 100\n",
    "\n",
    "    conversion = pd.merge(temp_1, temp_2, left_index=True, right_index=True)\n",
    "    \n",
    "    return conversion"
   ]
  },
  {
   "cell_type": "code",
   "execution_count": 31,
   "metadata": {},
   "outputs": [
    {
     "data": {
      "text/html": [
       "<div>\n",
       "<style scoped>\n",
       "    .dataframe tbody tr th:only-of-type {\n",
       "        vertical-align: middle;\n",
       "    }\n",
       "\n",
       "    .dataframe tbody tr th {\n",
       "        vertical-align: top;\n",
       "    }\n",
       "\n",
       "    .dataframe thead th {\n",
       "        text-align: right;\n",
       "    }\n",
       "</style>\n",
       "<table border=\"1\" class=\"dataframe\">\n",
       "  <thead>\n",
       "    <tr style=\"text-align: right;\">\n",
       "      <th></th>\n",
       "      <th>Уникальные пользователи</th>\n",
       "      <th>Конверсия</th>\n",
       "      <th>Конверсия в шаг</th>\n",
       "    </tr>\n",
       "    <tr>\n",
       "      <th>event</th>\n",
       "      <th></th>\n",
       "      <th></th>\n",
       "      <th></th>\n",
       "    </tr>\n",
       "  </thead>\n",
       "  <tbody>\n",
       "    <tr>\n",
       "      <th>MainScreenAppear</th>\n",
       "      <td>2448</td>\n",
       "      <td>98.630137</td>\n",
       "      <td>100.000000</td>\n",
       "    </tr>\n",
       "    <tr>\n",
       "      <th>OffersScreenAppear</th>\n",
       "      <td>1538</td>\n",
       "      <td>61.966156</td>\n",
       "      <td>62.826797</td>\n",
       "    </tr>\n",
       "    <tr>\n",
       "      <th>CartScreenAppear</th>\n",
       "      <td>1266</td>\n",
       "      <td>51.007252</td>\n",
       "      <td>82.314694</td>\n",
       "    </tr>\n",
       "    <tr>\n",
       "      <th>PaymentScreenSuccessful</th>\n",
       "      <td>1200</td>\n",
       "      <td>48.348106</td>\n",
       "      <td>94.786730</td>\n",
       "    </tr>\n",
       "  </tbody>\n",
       "</table>\n",
       "</div>"
      ],
      "text/plain": [
       "                         Уникальные пользователи  Конверсия  Конверсия в шаг\n",
       "event                                                                       \n",
       "MainScreenAppear                            2448  98.630137       100.000000\n",
       "OffersScreenAppear                          1538  61.966156        62.826797\n",
       "CartScreenAppear                            1266  51.007252        82.314694\n",
       "PaymentScreenSuccessful                     1200  48.348106        94.786730"
      ]
     },
     "metadata": {},
     "output_type": "display_data"
    },
    {
     "data": {
      "text/html": [
       "<div>\n",
       "<style scoped>\n",
       "    .dataframe tbody tr th:only-of-type {\n",
       "        vertical-align: middle;\n",
       "    }\n",
       "\n",
       "    .dataframe tbody tr th {\n",
       "        vertical-align: top;\n",
       "    }\n",
       "\n",
       "    .dataframe thead th {\n",
       "        text-align: right;\n",
       "    }\n",
       "</style>\n",
       "<table border=\"1\" class=\"dataframe\">\n",
       "  <thead>\n",
       "    <tr style=\"text-align: right;\">\n",
       "      <th></th>\n",
       "      <th>Уникальные пользователи</th>\n",
       "      <th>Конверсия</th>\n",
       "      <th>Конверсия в шаг</th>\n",
       "    </tr>\n",
       "    <tr>\n",
       "      <th>event</th>\n",
       "      <th></th>\n",
       "      <th></th>\n",
       "      <th></th>\n",
       "    </tr>\n",
       "  </thead>\n",
       "  <tbody>\n",
       "    <tr>\n",
       "      <th>MainScreenAppear</th>\n",
       "      <td>2475</td>\n",
       "      <td>98.527070</td>\n",
       "      <td>100.000000</td>\n",
       "    </tr>\n",
       "    <tr>\n",
       "      <th>OffersScreenAppear</th>\n",
       "      <td>1518</td>\n",
       "      <td>60.429936</td>\n",
       "      <td>61.333333</td>\n",
       "    </tr>\n",
       "    <tr>\n",
       "      <th>CartScreenAppear</th>\n",
       "      <td>1237</td>\n",
       "      <td>49.243631</td>\n",
       "      <td>81.488801</td>\n",
       "    </tr>\n",
       "    <tr>\n",
       "      <th>PaymentScreenSuccessful</th>\n",
       "      <td>1157</td>\n",
       "      <td>46.058917</td>\n",
       "      <td>93.532741</td>\n",
       "    </tr>\n",
       "  </tbody>\n",
       "</table>\n",
       "</div>"
      ],
      "text/plain": [
       "                         Уникальные пользователи  Конверсия  Конверсия в шаг\n",
       "event                                                                       \n",
       "MainScreenAppear                            2475  98.527070       100.000000\n",
       "OffersScreenAppear                          1518  60.429936        61.333333\n",
       "CartScreenAppear                            1237  49.243631        81.488801\n",
       "PaymentScreenSuccessful                     1157  46.058917        93.532741"
      ]
     },
     "metadata": {},
     "output_type": "display_data"
    }
   ],
   "source": [
    "# считаем конверсии по контрольным группам\n",
    "display(get_conversion([246]))\n",
    "display(get_conversion([247]))"
   ]
  },
  {
   "cell_type": "markdown",
   "metadata": {},
   "source": [
    "Определим статистическую значимость различия в конверсиях для каждого события. Используем проверку гипотез о равенстве долей с помощью z-статистики.\n",
    "\n",
    "Нулевая гипотеза (Н0): конверсии между группами не отличаются. <br>\n",
    "Альтернативная гипотеза (H1): конверсии между группами отличаются."
   ]
  },
  {
   "cell_type": "code",
   "execution_count": 32,
   "metadata": {},
   "outputs": [],
   "source": [
    "# функция берет данные из get_conversion \n",
    "# и считает стат.значимость различий по событиям event\n",
    "def get_stat_significance(event, group=[]):\n",
    "\n",
    "    alpha = .05/4 # поправка Бонферрони (тестируется 4 нулевые гипотезы)\n",
    "    \n",
    "    # кол-во пользователей, дошедших до события в каждой группе\n",
    "    successes = np.array([get_conversion(group[0]).loc[event, 'Уникальные пользователи'],\n",
    "                          get_conversion(group[1]).loc[event, 'Уникальные пользователи']])\n",
    "   \n",
    "    # кол-во пользователей в каждой группе\n",
    "    trials = np.array([data_filtered.query('group in @group[0]')['user_id'].nunique(), \n",
    "                       data_filtered.query('group in @group[1]')['user_id'].nunique()])\n",
    "\n",
    "    # пропорция успехов в первой группе:\n",
    "    p1 = successes[0]/trials[0]\n",
    "\n",
    "    # пропорция успехов во второй группе:\n",
    "    p2 = successes[1]/trials[1]\n",
    "\n",
    "    # пропорция успехов в комбинированном датасете:\n",
    "    p_combined = (successes[0] + successes[1]) / (trials[0] + trials[1])\n",
    "\n",
    "    # разница пропорций в датасетах\n",
    "    difference = p1 - p2\n",
    "\n",
    "    # считаем z-статистику\n",
    "    z_value = difference / mth.sqrt(p_combined * (1 - p_combined) * (1/trials[0] + 1/trials[1]))\n",
    "\n",
    "    # задаем стандартное нормальное распределение (среднее 0, ст.отклонение 1)\n",
    "    distr = stats.norm(0, 1) \n",
    "\n",
    "    p_value = (1 - distr.cdf(abs(z_value))) * 2\n",
    "\n",
    "    print('p-значение: ', p_value)\n",
    "    print(f'Относительная разница в конверсии между группам {group[1]} и {group[0]} = {p2/p1-1:.2%}')\n",
    "\n",
    "    if p_value < alpha:\n",
    "        print('Отвергаем нулевую гипотезу: между долями есть значимая разница')\n",
    "    else:\n",
    "        print(\n",
    "        'Не получилось отвергнуть нулевую гипотезу, нет оснований считать доли разными'\n",
    "        )\n",
    "        "
   ]
  },
  {
   "cell_type": "code",
   "execution_count": 33,
   "metadata": {
    "scrolled": true
   },
   "outputs": [
    {
     "name": "stdout",
     "output_type": "stream",
     "text": [
      "p-значение:  0.1051787680711449\n",
      "Относительная разница в конверсии между группам [247] и [246] = -4.73%\n",
      "Не получилось отвергнуть нулевую гипотезу, нет оснований считать доли разными\n",
      "p-значение:  0.21265373943905175\n",
      "Относительная разница в конверсии между группам [247] и [246] = -3.46%\n",
      "Не получилось отвергнуть нулевую гипотезу, нет оснований считать доли разными\n",
      "p-значение:  0.26533460123779884\n",
      "Относительная разница в конверсии между группам [247] и [246] = -2.48%\n",
      "Не получилось отвергнуть нулевую гипотезу, нет оснований считать доли разными\n",
      "p-значение:  0.7583738587337554\n",
      "Относительная разница в конверсии между группам [247] и [246] = -0.10%\n",
      "Не получилось отвергнуть нулевую гипотезу, нет оснований считать доли разными\n"
     ]
    }
   ],
   "source": [
    "get_stat_significance('PaymentScreenSuccessful', group=[[246],[247]])\n",
    "get_stat_significance('CartScreenAppear', group=[[246],[247]])\n",
    "get_stat_significance('OffersScreenAppear', group=[[246],[247]])\n",
    "get_stat_significance('MainScreenAppear', group=[[246],[247]])"
   ]
  },
  {
   "cell_type": "markdown",
   "metadata": {},
   "source": [
    "**Вывод:** Несмотря на то, что различия в конверсиях между контрольными группами существуют, они не являются статистически значимыми, можно считать их случайностью.<br>\n",
    "Можно утверждать, что разбиение на группы работает корректно, конверсии не отличаются."
   ]
  },
  {
   "cell_type": "markdown",
   "metadata": {},
   "source": [
    "Далее посмотрим на конверсии в экспериментальной группе 248 с измененным шрифтом и проверим стат.значимость различий с каждой контрольной группой по отдельности.\n",
    "\n",
    "Нулевая гипотеза (Н0): конверсии между группами не отличаются. <br>\n",
    "Альтернативная гипотеза (H1): конверсии между группами отличаются."
   ]
  },
  {
   "cell_type": "code",
   "execution_count": 34,
   "metadata": {
    "scrolled": true
   },
   "outputs": [
    {
     "data": {
      "text/html": [
       "<div>\n",
       "<style scoped>\n",
       "    .dataframe tbody tr th:only-of-type {\n",
       "        vertical-align: middle;\n",
       "    }\n",
       "\n",
       "    .dataframe tbody tr th {\n",
       "        vertical-align: top;\n",
       "    }\n",
       "\n",
       "    .dataframe thead th {\n",
       "        text-align: right;\n",
       "    }\n",
       "</style>\n",
       "<table border=\"1\" class=\"dataframe\">\n",
       "  <thead>\n",
       "    <tr style=\"text-align: right;\">\n",
       "      <th></th>\n",
       "      <th>Уникальные пользователи</th>\n",
       "      <th>Конверсия</th>\n",
       "      <th>Конверсия в шаг</th>\n",
       "    </tr>\n",
       "    <tr>\n",
       "      <th>event</th>\n",
       "      <th></th>\n",
       "      <th></th>\n",
       "      <th></th>\n",
       "    </tr>\n",
       "  </thead>\n",
       "  <tbody>\n",
       "    <tr>\n",
       "      <th>MainScreenAppear</th>\n",
       "      <td>2448</td>\n",
       "      <td>98.630137</td>\n",
       "      <td>100.000000</td>\n",
       "    </tr>\n",
       "    <tr>\n",
       "      <th>OffersScreenAppear</th>\n",
       "      <td>1538</td>\n",
       "      <td>61.966156</td>\n",
       "      <td>62.826797</td>\n",
       "    </tr>\n",
       "    <tr>\n",
       "      <th>CartScreenAppear</th>\n",
       "      <td>1266</td>\n",
       "      <td>51.007252</td>\n",
       "      <td>82.314694</td>\n",
       "    </tr>\n",
       "    <tr>\n",
       "      <th>PaymentScreenSuccessful</th>\n",
       "      <td>1200</td>\n",
       "      <td>48.348106</td>\n",
       "      <td>94.786730</td>\n",
       "    </tr>\n",
       "  </tbody>\n",
       "</table>\n",
       "</div>"
      ],
      "text/plain": [
       "                         Уникальные пользователи  Конверсия  Конверсия в шаг\n",
       "event                                                                       \n",
       "MainScreenAppear                            2448  98.630137       100.000000\n",
       "OffersScreenAppear                          1538  61.966156        62.826797\n",
       "CartScreenAppear                            1266  51.007252        82.314694\n",
       "PaymentScreenSuccessful                     1200  48.348106        94.786730"
      ]
     },
     "metadata": {},
     "output_type": "display_data"
    },
    {
     "data": {
      "text/html": [
       "<div>\n",
       "<style scoped>\n",
       "    .dataframe tbody tr th:only-of-type {\n",
       "        vertical-align: middle;\n",
       "    }\n",
       "\n",
       "    .dataframe tbody tr th {\n",
       "        vertical-align: top;\n",
       "    }\n",
       "\n",
       "    .dataframe thead th {\n",
       "        text-align: right;\n",
       "    }\n",
       "</style>\n",
       "<table border=\"1\" class=\"dataframe\">\n",
       "  <thead>\n",
       "    <tr style=\"text-align: right;\">\n",
       "      <th></th>\n",
       "      <th>Уникальные пользователи</th>\n",
       "      <th>Конверсия</th>\n",
       "      <th>Конверсия в шаг</th>\n",
       "    </tr>\n",
       "    <tr>\n",
       "      <th>event</th>\n",
       "      <th></th>\n",
       "      <th></th>\n",
       "      <th></th>\n",
       "    </tr>\n",
       "  </thead>\n",
       "  <tbody>\n",
       "    <tr>\n",
       "      <th>MainScreenAppear</th>\n",
       "      <td>2475</td>\n",
       "      <td>98.527070</td>\n",
       "      <td>100.000000</td>\n",
       "    </tr>\n",
       "    <tr>\n",
       "      <th>OffersScreenAppear</th>\n",
       "      <td>1518</td>\n",
       "      <td>60.429936</td>\n",
       "      <td>61.333333</td>\n",
       "    </tr>\n",
       "    <tr>\n",
       "      <th>CartScreenAppear</th>\n",
       "      <td>1237</td>\n",
       "      <td>49.243631</td>\n",
       "      <td>81.488801</td>\n",
       "    </tr>\n",
       "    <tr>\n",
       "      <th>PaymentScreenSuccessful</th>\n",
       "      <td>1157</td>\n",
       "      <td>46.058917</td>\n",
       "      <td>93.532741</td>\n",
       "    </tr>\n",
       "  </tbody>\n",
       "</table>\n",
       "</div>"
      ],
      "text/plain": [
       "                         Уникальные пользователи  Конверсия  Конверсия в шаг\n",
       "event                                                                       \n",
       "MainScreenAppear                            2475  98.527070       100.000000\n",
       "OffersScreenAppear                          1518  60.429936        61.333333\n",
       "CartScreenAppear                            1237  49.243631        81.488801\n",
       "PaymentScreenSuccessful                     1157  46.058917        93.532741"
      ]
     },
     "metadata": {},
     "output_type": "display_data"
    },
    {
     "data": {
      "text/html": [
       "<div>\n",
       "<style scoped>\n",
       "    .dataframe tbody tr th:only-of-type {\n",
       "        vertical-align: middle;\n",
       "    }\n",
       "\n",
       "    .dataframe tbody tr th {\n",
       "        vertical-align: top;\n",
       "    }\n",
       "\n",
       "    .dataframe thead th {\n",
       "        text-align: right;\n",
       "    }\n",
       "</style>\n",
       "<table border=\"1\" class=\"dataframe\">\n",
       "  <thead>\n",
       "    <tr style=\"text-align: right;\">\n",
       "      <th></th>\n",
       "      <th>Уникальные пользователи</th>\n",
       "      <th>Конверсия</th>\n",
       "      <th>Конверсия в шаг</th>\n",
       "    </tr>\n",
       "    <tr>\n",
       "      <th>event</th>\n",
       "      <th></th>\n",
       "      <th></th>\n",
       "      <th></th>\n",
       "    </tr>\n",
       "  </thead>\n",
       "  <tbody>\n",
       "    <tr>\n",
       "      <th>MainScreenAppear</th>\n",
       "      <td>2492</td>\n",
       "      <td>98.264984</td>\n",
       "      <td>100.000000</td>\n",
       "    </tr>\n",
       "    <tr>\n",
       "      <th>OffersScreenAppear</th>\n",
       "      <td>1530</td>\n",
       "      <td>60.331230</td>\n",
       "      <td>61.396469</td>\n",
       "    </tr>\n",
       "    <tr>\n",
       "      <th>CartScreenAppear</th>\n",
       "      <td>1229</td>\n",
       "      <td>48.462145</td>\n",
       "      <td>80.326797</td>\n",
       "    </tr>\n",
       "    <tr>\n",
       "      <th>PaymentScreenSuccessful</th>\n",
       "      <td>1180</td>\n",
       "      <td>46.529968</td>\n",
       "      <td>96.013019</td>\n",
       "    </tr>\n",
       "  </tbody>\n",
       "</table>\n",
       "</div>"
      ],
      "text/plain": [
       "                         Уникальные пользователи  Конверсия  Конверсия в шаг\n",
       "event                                                                       \n",
       "MainScreenAppear                            2492  98.264984       100.000000\n",
       "OffersScreenAppear                          1530  60.331230        61.396469\n",
       "CartScreenAppear                            1229  48.462145        80.326797\n",
       "PaymentScreenSuccessful                     1180  46.529968        96.013019"
      ]
     },
     "metadata": {},
     "output_type": "display_data"
    }
   ],
   "source": [
    "display(get_conversion([246]))\n",
    "display(get_conversion([247]))\n",
    "display(get_conversion([248]))"
   ]
  },
  {
   "cell_type": "code",
   "execution_count": 35,
   "metadata": {},
   "outputs": [
    {
     "name": "stdout",
     "output_type": "stream",
     "text": [
      "p-значение:  0.19720322724507655\n",
      "Относительная разница в конверсии между группам [248] и [246] = -3.76%\n",
      "Не получилось отвергнуть нулевую гипотезу, нет оснований считать доли разными\n",
      "p-значение:  0.07141607238434666\n",
      "Относительная разница в конверсии между группам [248] и [246] = -4.99%\n",
      "Не получилось отвергнуть нулевую гипотезу, нет оснований считать доли разными\n",
      "p-значение:  0.2348576270284397\n",
      "Относительная разница в конверсии между группам [248] и [246] = -2.64%\n",
      "Не получилось отвергнуть нулевую гипотезу, нет оснований считать доли разными\n",
      "p-значение:  0.2958134972730775\n",
      "Относительная разница в конверсии между группам [248] и [246] = -0.37%\n",
      "Не получилось отвергнуть нулевую гипотезу, нет оснований считать доли разными\n"
     ]
    }
   ],
   "source": [
    "get_stat_significance('PaymentScreenSuccessful', group=[[246],[248]])\n",
    "get_stat_significance('CartScreenAppear', group=[[246],[248]])\n",
    "get_stat_significance('OffersScreenAppear', group=[[246],[248]])\n",
    "get_stat_significance('MainScreenAppear', group=[[246],[248]])"
   ]
  },
  {
   "cell_type": "code",
   "execution_count": 36,
   "metadata": {},
   "outputs": [
    {
     "name": "stdout",
     "output_type": "stream",
     "text": [
      "p-значение:  0.7371747299113722\n",
      "Относительная разница в конверсии между группам [248] и [247] = 1.02%\n",
      "Не получилось отвергнуть нулевую гипотезу, нет оснований считать доли разными\n",
      "p-значение:  0.5786346578606725\n",
      "Относительная разница в конверсии между группам [248] и [247] = -1.59%\n",
      "Не получилось отвергнуть нулевую гипотезу, нет оснований считать доли разными\n",
      "p-значение:  0.9428477337538643\n",
      "Относительная разница в конверсии между группам [248] и [247] = -0.16%\n",
      "Не получилось отвергнуть нулевую гипотезу, нет оснований считать доли разными\n",
      "p-значение:  0.4587142655517955\n",
      "Относительная разница в конверсии между группам [248] и [247] = -0.27%\n",
      "Не получилось отвергнуть нулевую гипотезу, нет оснований считать доли разными\n"
     ]
    }
   ],
   "source": [
    "get_stat_significance('PaymentScreenSuccessful', group=[[247],[248]])\n",
    "get_stat_significance('CartScreenAppear', group=[[247],[248]])\n",
    "get_stat_significance('OffersScreenAppear', group=[[247],[248]])\n",
    "get_stat_significance('MainScreenAppear', group=[[247],[248]])"
   ]
  },
  {
   "cell_type": "markdown",
   "metadata": {},
   "source": [
    "**Вывод:** Между экспериментальной и каждой контрольной группах нет статистически значимых различий."
   ]
  },
  {
   "cell_type": "markdown",
   "metadata": {},
   "source": [
    "Далее проверим стат.значимость различий с объединенной контрольной группой (246 + 247).\n",
    "\n",
    "Нулевая гипотеза (Н0): конверсии между группами не отличаются. <br>\n",
    "Альтернативная гипотеза (H1): конверсии между группами отличаются."
   ]
  },
  {
   "cell_type": "code",
   "execution_count": 37,
   "metadata": {
    "scrolled": false
   },
   "outputs": [
    {
     "data": {
      "text/html": [
       "<div>\n",
       "<style scoped>\n",
       "    .dataframe tbody tr th:only-of-type {\n",
       "        vertical-align: middle;\n",
       "    }\n",
       "\n",
       "    .dataframe tbody tr th {\n",
       "        vertical-align: top;\n",
       "    }\n",
       "\n",
       "    .dataframe thead th {\n",
       "        text-align: right;\n",
       "    }\n",
       "</style>\n",
       "<table border=\"1\" class=\"dataframe\">\n",
       "  <thead>\n",
       "    <tr style=\"text-align: right;\">\n",
       "      <th></th>\n",
       "      <th>Уникальные пользователи</th>\n",
       "      <th>Конверсия</th>\n",
       "      <th>Конверсия в шаг</th>\n",
       "    </tr>\n",
       "    <tr>\n",
       "      <th>event</th>\n",
       "      <th></th>\n",
       "      <th></th>\n",
       "      <th></th>\n",
       "    </tr>\n",
       "  </thead>\n",
       "  <tbody>\n",
       "    <tr>\n",
       "      <th>MainScreenAppear</th>\n",
       "      <td>4923</td>\n",
       "      <td>98.578294</td>\n",
       "      <td>100.00000</td>\n",
       "    </tr>\n",
       "    <tr>\n",
       "      <th>OffersScreenAppear</th>\n",
       "      <td>3056</td>\n",
       "      <td>61.193432</td>\n",
       "      <td>62.07597</td>\n",
       "    </tr>\n",
       "    <tr>\n",
       "      <th>CartScreenAppear</th>\n",
       "      <td>2503</td>\n",
       "      <td>50.120144</td>\n",
       "      <td>81.90445</td>\n",
       "    </tr>\n",
       "    <tr>\n",
       "      <th>PaymentScreenSuccessful</th>\n",
       "      <td>2357</td>\n",
       "      <td>47.196636</td>\n",
       "      <td>94.16700</td>\n",
       "    </tr>\n",
       "  </tbody>\n",
       "</table>\n",
       "</div>"
      ],
      "text/plain": [
       "                         Уникальные пользователи  Конверсия  Конверсия в шаг\n",
       "event                                                                       \n",
       "MainScreenAppear                            4923  98.578294        100.00000\n",
       "OffersScreenAppear                          3056  61.193432         62.07597\n",
       "CartScreenAppear                            2503  50.120144         81.90445\n",
       "PaymentScreenSuccessful                     2357  47.196636         94.16700"
      ]
     },
     "metadata": {},
     "output_type": "display_data"
    },
    {
     "data": {
      "text/html": [
       "<div>\n",
       "<style scoped>\n",
       "    .dataframe tbody tr th:only-of-type {\n",
       "        vertical-align: middle;\n",
       "    }\n",
       "\n",
       "    .dataframe tbody tr th {\n",
       "        vertical-align: top;\n",
       "    }\n",
       "\n",
       "    .dataframe thead th {\n",
       "        text-align: right;\n",
       "    }\n",
       "</style>\n",
       "<table border=\"1\" class=\"dataframe\">\n",
       "  <thead>\n",
       "    <tr style=\"text-align: right;\">\n",
       "      <th></th>\n",
       "      <th>Уникальные пользователи</th>\n",
       "      <th>Конверсия</th>\n",
       "      <th>Конверсия в шаг</th>\n",
       "    </tr>\n",
       "    <tr>\n",
       "      <th>event</th>\n",
       "      <th></th>\n",
       "      <th></th>\n",
       "      <th></th>\n",
       "    </tr>\n",
       "  </thead>\n",
       "  <tbody>\n",
       "    <tr>\n",
       "      <th>MainScreenAppear</th>\n",
       "      <td>2492</td>\n",
       "      <td>98.264984</td>\n",
       "      <td>100.000000</td>\n",
       "    </tr>\n",
       "    <tr>\n",
       "      <th>OffersScreenAppear</th>\n",
       "      <td>1530</td>\n",
       "      <td>60.331230</td>\n",
       "      <td>61.396469</td>\n",
       "    </tr>\n",
       "    <tr>\n",
       "      <th>CartScreenAppear</th>\n",
       "      <td>1229</td>\n",
       "      <td>48.462145</td>\n",
       "      <td>80.326797</td>\n",
       "    </tr>\n",
       "    <tr>\n",
       "      <th>PaymentScreenSuccessful</th>\n",
       "      <td>1180</td>\n",
       "      <td>46.529968</td>\n",
       "      <td>96.013019</td>\n",
       "    </tr>\n",
       "  </tbody>\n",
       "</table>\n",
       "</div>"
      ],
      "text/plain": [
       "                         Уникальные пользователи  Конверсия  Конверсия в шаг\n",
       "event                                                                       \n",
       "MainScreenAppear                            2492  98.264984       100.000000\n",
       "OffersScreenAppear                          1530  60.331230        61.396469\n",
       "CartScreenAppear                            1229  48.462145        80.326797\n",
       "PaymentScreenSuccessful                     1180  46.529968        96.013019"
      ]
     },
     "metadata": {},
     "output_type": "display_data"
    }
   ],
   "source": [
    "display(get_conversion([246,247])) # конверсия по объединенной контрольной группе\n",
    "display(get_conversion([248]))"
   ]
  },
  {
   "cell_type": "code",
   "execution_count": 38,
   "metadata": {},
   "outputs": [
    {
     "name": "stdout",
     "output_type": "stream",
     "text": [
      "p-значение:  0.5838149822499106\n",
      "Относительная разница в конверсии между группам [248] и [246, 247] = -1.41%\n",
      "Не получилось отвергнуть нулевую гипотезу, нет оснований считать доли разными\n",
      "p-значение:  0.1738364085481252\n",
      "Относительная разница в конверсии между группам [248] и [246, 247] = -3.31%\n",
      "Не получилось отвергнуть нулевую гипотезу, нет оснований считать доли разными\n",
      "p-значение:  0.46867588934617377\n",
      "Относительная разница в конверсии между группам [248] и [246, 247] = -1.41%\n",
      "Не получилось отвергнуть нулевую гипотезу, нет оснований считать доли разными\n",
      "p-значение:  0.2947448091724323\n",
      "Относительная разница в конверсии между группам [248] и [246, 247] = -0.32%\n",
      "Не получилось отвергнуть нулевую гипотезу, нет оснований считать доли разными\n"
     ]
    }
   ],
   "source": [
    "get_stat_significance('PaymentScreenSuccessful', group=[[246,247], [248]])\n",
    "get_stat_significance('CartScreenAppear', group=[[246,247], [248]])\n",
    "get_stat_significance('OffersScreenAppear', group=[[246,247], [248]])\n",
    "get_stat_significance('MainScreenAppear', group=[[246,247], [248]])"
   ]
  },
  {
   "cell_type": "markdown",
   "metadata": {},
   "source": [
    "**Вывод:** Различия между экспериментальной и объединенной контрольной группами также не являются статистически значимыми, можно считать их случайностью."
   ]
  },
  {
   "cell_type": "markdown",
   "metadata": {},
   "source": [
    "## Итоговый вывод\n",
    "<a id=\"sixth\"></a>"
   ]
  },
  {
   "cell_type": "markdown",
   "metadata": {},
   "source": [
    "Изменение шрифтов в приложении не привело к увеличению конверсии ни в одном событии. Обнаруженные относительные различия в конверсиях не являются статистически значимымы, в связи с чем нельзя с уверенностью утверждать, какой шрифт лучше. Т.е. изменение шрифтов можно провести, однако это не увеличит показатели."
   ]
  },
  {
   "cell_type": "markdown",
   "metadata": {},
   "source": [
    "Уровень значимости выбран 5%, т.е. каждый 20-й раз можно получить ложный результат. Всего проведено 16 проверок статистических гипотез, уровень значимости выбран корректно."
   ]
  }
 ],
 "metadata": {
  "ExecuteTimeLog": [
   {
    "duration": 1056,
    "start_time": "2022-09-08T10:20:18.514Z"
   },
   {
    "duration": 506,
    "start_time": "2022-09-08T10:20:19.572Z"
   },
   {
    "duration": 17,
    "start_time": "2022-09-08T10:20:20.080Z"
   },
   {
    "duration": 45,
    "start_time": "2022-09-08T10:20:20.099Z"
   },
   {
    "duration": 18,
    "start_time": "2022-09-08T10:20:20.145Z"
   },
   {
    "duration": 30,
    "start_time": "2022-09-08T10:20:20.165Z"
   },
   {
    "duration": 57,
    "start_time": "2022-09-08T10:20:20.196Z"
   },
   {
    "duration": 131,
    "start_time": "2022-09-08T10:20:20.255Z"
   },
   {
    "duration": 20,
    "start_time": "2022-09-08T10:20:20.388Z"
   },
   {
    "duration": 13,
    "start_time": "2022-09-08T10:20:20.411Z"
   },
   {
    "duration": 27,
    "start_time": "2022-09-08T10:20:20.426Z"
   },
   {
    "duration": 35,
    "start_time": "2022-09-08T10:20:20.454Z"
   },
   {
    "duration": 498,
    "start_time": "2022-09-08T10:20:20.491Z"
   },
   {
    "duration": 541,
    "start_time": "2022-09-08T10:20:20.991Z"
   },
   {
    "duration": 8,
    "start_time": "2022-09-08T10:20:21.534Z"
   },
   {
    "duration": 7,
    "start_time": "2022-09-08T10:20:21.544Z"
   },
   {
    "duration": 542,
    "start_time": "2022-09-08T10:20:21.553Z"
   },
   {
    "duration": 11,
    "start_time": "2022-09-08T10:20:22.097Z"
   },
   {
    "duration": 46,
    "start_time": "2022-09-08T10:20:22.109Z"
   },
   {
    "duration": 17,
    "start_time": "2022-09-08T10:20:22.156Z"
   },
   {
    "duration": 57,
    "start_time": "2022-09-08T10:20:22.174Z"
   },
   {
    "duration": 17,
    "start_time": "2022-09-08T10:20:22.233Z"
   },
   {
    "duration": 74,
    "start_time": "2022-09-08T10:20:22.252Z"
   },
   {
    "duration": 95,
    "start_time": "2022-09-08T10:20:22.328Z"
   },
   {
    "duration": 257,
    "start_time": "2022-09-08T10:20:22.425Z"
   },
   {
    "duration": 33,
    "start_time": "2022-09-08T10:20:22.684Z"
   },
   {
    "duration": 4,
    "start_time": "2022-09-08T10:20:22.718Z"
   },
   {
    "duration": 17,
    "start_time": "2022-09-08T10:20:22.725Z"
   },
   {
    "duration": 87,
    "start_time": "2022-09-08T10:20:22.743Z"
   },
   {
    "duration": 6,
    "start_time": "2022-09-08T10:20:22.832Z"
   },
   {
    "duration": 408,
    "start_time": "2022-09-08T10:20:22.840Z"
   },
   {
    "duration": 114,
    "start_time": "2022-09-08T10:20:23.250Z"
   },
   {
    "duration": 395,
    "start_time": "2022-09-08T10:20:23.365Z"
   },
   {
    "duration": 370,
    "start_time": "2022-09-08T10:20:23.762Z"
   },
   {
    "duration": 109,
    "start_time": "2022-09-08T10:20:24.133Z"
   },
   {
    "duration": 473,
    "start_time": "2022-09-08T10:20:24.243Z"
   }
  ],
  "kernelspec": {
   "display_name": "Python 3 (ipykernel)",
   "language": "python",
   "name": "python3"
  },
  "language_info": {
   "codemirror_mode": {
    "name": "ipython",
    "version": 3
   },
   "file_extension": ".py",
   "mimetype": "text/x-python",
   "name": "python",
   "nbconvert_exporter": "python",
   "pygments_lexer": "ipython3",
   "version": "3.9.7"
  },
  "toc": {
   "base_numbering": 1,
   "nav_menu": {
    "height": "142px",
    "width": "254px"
   },
   "number_sections": true,
   "sideBar": true,
   "skip_h1_title": true,
   "title_cell": "Table of Contents",
   "title_sidebar": "Contents",
   "toc_cell": false,
   "toc_position": {},
   "toc_section_display": true,
   "toc_window_display": false
  }
 },
 "nbformat": 4,
 "nbformat_minor": 2
}
