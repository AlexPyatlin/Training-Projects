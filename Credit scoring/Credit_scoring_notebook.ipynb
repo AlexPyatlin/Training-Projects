{
 "cells": [
  {
   "cell_type": "markdown",
   "id": "00ca727e",
   "metadata": {},
   "source": [
    "# Описание проекта\n",
    "\n",
    "В распоряжении имеется выгрузка из базы данных кредитного отдела банка со следующей информацией:\n",
    "- `children` — количество детей в семье\n",
    "- `days_employed` — общий трудовой стаж в днях\n",
    "- `dob_years` — возраст клиента в годах\n",
    "- `education` — уровень образования клиента\n",
    "- `education_id` — идентификатор уровня образования\n",
    "- `family_status` — семейное положение\n",
    "- `family_status_id` — идентификатор семейного положения\n",
    "- `gender` — пол клиента\n",
    "- `income_type` — тип занятости\n",
    "- `debt` — имел ли задолженность по возврату кредитов\n",
    "- `total_income` — ежемесячный доход\n",
    "- `purpose` — цель получения кредита\n",
    "\n",
    "**Цель исследования:** выяснить, влияют ли на возврат кредита в срок следующие факторы:\n",
    "- количество детей;\n",
    "- семейное положение;\n",
    "- уровень дохода;\n",
    "- цель кредита.\n",
    "\n",
    "Полученные выводы будут в дальнейшем использованы при построении модели кредитного скоринга.\n",
    "\n",
    "Содержание:\n",
    "1. [Обзор данных](#1)\n",
    "2. [Заполнение пропусков](#2)\n",
    "3. [Проверка данных на аномалии и исправления](#3)\n",
    "4. [Изменение типов данных](#4)\n",
    "5. [Удаление дубликатов](#5)\n",
    "6. [Декомпозиция исходного датафрейма](#6)\n",
    "7. [Категоризация дохода](#7)\n",
    "8. [Категоризация целей кредита](#8)\n",
    "9. [Анализ влияния факторов на возврат кредита](#9)\n",
    "10. [Итоговый вывод](#10)"
   ]
  },
  {
   "cell_type": "markdown",
   "id": "7eb4bf09",
   "metadata": {},
   "source": [
    "## Обзор данных\n",
    "<a id=\"1\"></a>"
   ]
  },
  {
   "cell_type": "code",
   "execution_count": 1,
   "id": "f7d07448",
   "metadata": {},
   "outputs": [],
   "source": [
    "import pandas as pd"
   ]
  },
  {
   "cell_type": "code",
   "execution_count": 2,
   "id": "039abeb4",
   "metadata": {},
   "outputs": [],
   "source": [
    "data = pd.read_csv('data.csv')"
   ]
  },
  {
   "cell_type": "code",
   "execution_count": 3,
   "id": "0189efc5",
   "metadata": {},
   "outputs": [
    {
     "name": "stdout",
     "output_type": "stream",
     "text": [
      "<class 'pandas.core.frame.DataFrame'>\n",
      "RangeIndex: 21525 entries, 0 to 21524\n",
      "Data columns (total 12 columns):\n",
      " #   Column            Non-Null Count  Dtype  \n",
      "---  ------            --------------  -----  \n",
      " 0   children          21525 non-null  int64  \n",
      " 1   days_employed     19351 non-null  float64\n",
      " 2   dob_years         21525 non-null  int64  \n",
      " 3   education         21525 non-null  object \n",
      " 4   education_id      21525 non-null  int64  \n",
      " 5   family_status     21525 non-null  object \n",
      " 6   family_status_id  21525 non-null  int64  \n",
      " 7   gender            21525 non-null  object \n",
      " 8   income_type       21525 non-null  object \n",
      " 9   debt              21525 non-null  int64  \n",
      " 10  total_income      19351 non-null  float64\n",
      " 11  purpose           21525 non-null  object \n",
      "dtypes: float64(2), int64(5), object(5)\n",
      "memory usage: 2.0+ MB\n"
     ]
    }
   ],
   "source": [
    "data.info()"
   ]
  },
  {
   "cell_type": "markdown",
   "id": "7c11aa14",
   "metadata": {},
   "source": [
    "**Вывод:** \n",
    "Датасет состоит из 21525 строк и 12 столбцов. В столбцах `days_employed` и `total_income` есть пропуски."
   ]
  },
  {
   "cell_type": "markdown",
   "id": "132426da",
   "metadata": {},
   "source": [
    "## Заполнение пропусков\n",
    "<a id=\"2\"></a>"
   ]
  },
  {
   "cell_type": "code",
   "execution_count": 4,
   "id": "81887985",
   "metadata": {},
   "outputs": [
    {
     "data": {
      "text/html": [
       "<style  type=\"text/css\" >\n",
       "#T_c2696_row0_col0,#T_c2696_row2_col0,#T_c2696_row3_col0,#T_c2696_row4_col0,#T_c2696_row5_col0,#T_c2696_row6_col0,#T_c2696_row7_col0,#T_c2696_row8_col0,#T_c2696_row9_col0,#T_c2696_row11_col0{\n",
       "            background-color:  #3b4cc0;\n",
       "            color:  #f1f1f1;\n",
       "        }#T_c2696_row1_col0,#T_c2696_row10_col0{\n",
       "            background-color:  #b40426;\n",
       "            color:  #f1f1f1;\n",
       "        }</style><table id=\"T_c2696_\" ><thead>    <tr>        <th class=\"blank level0\" ></th>        <th class=\"col_heading level0 col0\" >NaNs, %</th>    </tr></thead><tbody>\n",
       "                <tr>\n",
       "                        <th id=\"T_c2696_level0_row0\" class=\"row_heading level0 row0\" >children</th>\n",
       "                        <td id=\"T_c2696_row0_col0\" class=\"data row0 col0\" >0.00</td>\n",
       "            </tr>\n",
       "            <tr>\n",
       "                        <th id=\"T_c2696_level0_row1\" class=\"row_heading level0 row1\" >days_employed</th>\n",
       "                        <td id=\"T_c2696_row1_col0\" class=\"data row1 col0\" >10.10</td>\n",
       "            </tr>\n",
       "            <tr>\n",
       "                        <th id=\"T_c2696_level0_row2\" class=\"row_heading level0 row2\" >dob_years</th>\n",
       "                        <td id=\"T_c2696_row2_col0\" class=\"data row2 col0\" >0.00</td>\n",
       "            </tr>\n",
       "            <tr>\n",
       "                        <th id=\"T_c2696_level0_row3\" class=\"row_heading level0 row3\" >education</th>\n",
       "                        <td id=\"T_c2696_row3_col0\" class=\"data row3 col0\" >0.00</td>\n",
       "            </tr>\n",
       "            <tr>\n",
       "                        <th id=\"T_c2696_level0_row4\" class=\"row_heading level0 row4\" >education_id</th>\n",
       "                        <td id=\"T_c2696_row4_col0\" class=\"data row4 col0\" >0.00</td>\n",
       "            </tr>\n",
       "            <tr>\n",
       "                        <th id=\"T_c2696_level0_row5\" class=\"row_heading level0 row5\" >family_status</th>\n",
       "                        <td id=\"T_c2696_row5_col0\" class=\"data row5 col0\" >0.00</td>\n",
       "            </tr>\n",
       "            <tr>\n",
       "                        <th id=\"T_c2696_level0_row6\" class=\"row_heading level0 row6\" >family_status_id</th>\n",
       "                        <td id=\"T_c2696_row6_col0\" class=\"data row6 col0\" >0.00</td>\n",
       "            </tr>\n",
       "            <tr>\n",
       "                        <th id=\"T_c2696_level0_row7\" class=\"row_heading level0 row7\" >gender</th>\n",
       "                        <td id=\"T_c2696_row7_col0\" class=\"data row7 col0\" >0.00</td>\n",
       "            </tr>\n",
       "            <tr>\n",
       "                        <th id=\"T_c2696_level0_row8\" class=\"row_heading level0 row8\" >income_type</th>\n",
       "                        <td id=\"T_c2696_row8_col0\" class=\"data row8 col0\" >0.00</td>\n",
       "            </tr>\n",
       "            <tr>\n",
       "                        <th id=\"T_c2696_level0_row9\" class=\"row_heading level0 row9\" >debt</th>\n",
       "                        <td id=\"T_c2696_row9_col0\" class=\"data row9 col0\" >0.00</td>\n",
       "            </tr>\n",
       "            <tr>\n",
       "                        <th id=\"T_c2696_level0_row10\" class=\"row_heading level0 row10\" >total_income</th>\n",
       "                        <td id=\"T_c2696_row10_col0\" class=\"data row10 col0\" >10.10</td>\n",
       "            </tr>\n",
       "            <tr>\n",
       "                        <th id=\"T_c2696_level0_row11\" class=\"row_heading level0 row11\" >purpose</th>\n",
       "                        <td id=\"T_c2696_row11_col0\" class=\"data row11 col0\" >0.00</td>\n",
       "            </tr>\n",
       "    </tbody></table>"
      ],
      "text/plain": [
       "<pandas.io.formats.style.Styler at 0x7fa66414a100>"
      ]
     },
     "metadata": {},
     "output_type": "display_data"
    }
   ],
   "source": [
    "display(pd.DataFrame(round((data.isna().mean()*100),2), columns=['NaNs, %']).style.format(\n",
    "    '{:.2f}').background_gradient('coolwarm'))"
   ]
  },
  {
   "cell_type": "code",
   "execution_count": 5,
   "id": "559594f7",
   "metadata": {},
   "outputs": [
    {
     "name": "stdout",
     "output_type": "stream",
     "text": [
      "Максимальный ежемесячный доход: 2265604.028722744\n",
      "Минимальный ежемесячный доход: 20667.26379327158\n"
     ]
    }
   ],
   "source": [
    "# получение максимального и минимального дохода\n",
    "print('Максимальный ежемесячный доход:', data['total_income'].max())\n",
    "print('Минимальный ежемесячный доход:', data['total_income'].min())"
   ]
  },
  {
   "cell_type": "markdown",
   "id": "ec10d35d",
   "metadata": {},
   "source": [
    "**Вывод:**\n",
    "В столбцах `days_employed` и `total_income` одинаковое число пропущенных значений типа NaN (отсутствующее число).\n",
    "\n",
    "Возможные причины появления пропусков:\n",
    "- ошибки при выгрузке данных;\n",
    "- информация не была представлена заемщиками.\n",
    "\n",
    "Удаление строк с отсутствующими данными приведет к искажению анализа (т.к. доля пропущенных значений существенна - 10%). Целесообразно заполнить пропуски медианными значениями с учетом категории. Категорией, от которой сильнее всего зависит заработок, является income_type."
   ]
  },
  {
   "cell_type": "code",
   "execution_count": 6,
   "id": "6fbeaec5",
   "metadata": {},
   "outputs": [
    {
     "data": {
      "text/html": [
       "<div>\n",
       "<style scoped>\n",
       "    .dataframe tbody tr th:only-of-type {\n",
       "        vertical-align: middle;\n",
       "    }\n",
       "\n",
       "    .dataframe tbody tr th {\n",
       "        vertical-align: top;\n",
       "    }\n",
       "\n",
       "    .dataframe thead th {\n",
       "        text-align: right;\n",
       "    }\n",
       "</style>\n",
       "<table border=\"1\" class=\"dataframe\">\n",
       "  <thead>\n",
       "    <tr style=\"text-align: right;\">\n",
       "      <th></th>\n",
       "      <th>Медианный доход</th>\n",
       "    </tr>\n",
       "    <tr>\n",
       "      <th>income_type</th>\n",
       "      <th></th>\n",
       "    </tr>\n",
       "  </thead>\n",
       "  <tbody>\n",
       "    <tr>\n",
       "      <th>безработный</th>\n",
       "      <td>131339.751676</td>\n",
       "    </tr>\n",
       "    <tr>\n",
       "      <th>в декрете</th>\n",
       "      <td>53829.130729</td>\n",
       "    </tr>\n",
       "    <tr>\n",
       "      <th>госслужащий</th>\n",
       "      <td>150447.935283</td>\n",
       "    </tr>\n",
       "    <tr>\n",
       "      <th>компаньон</th>\n",
       "      <td>172357.950966</td>\n",
       "    </tr>\n",
       "    <tr>\n",
       "      <th>пенсионер</th>\n",
       "      <td>118514.486412</td>\n",
       "    </tr>\n",
       "    <tr>\n",
       "      <th>предприниматель</th>\n",
       "      <td>499163.144947</td>\n",
       "    </tr>\n",
       "    <tr>\n",
       "      <th>сотрудник</th>\n",
       "      <td>142594.396847</td>\n",
       "    </tr>\n",
       "    <tr>\n",
       "      <th>студент</th>\n",
       "      <td>98201.625314</td>\n",
       "    </tr>\n",
       "  </tbody>\n",
       "</table>\n",
       "</div>"
      ],
      "text/plain": [
       "                 Медианный доход\n",
       "income_type                     \n",
       "безработный        131339.751676\n",
       "в декрете           53829.130729\n",
       "госслужащий        150447.935283\n",
       "компаньон          172357.950966\n",
       "пенсионер          118514.486412\n",
       "предприниматель    499163.144947\n",
       "сотрудник          142594.396847\n",
       "студент             98201.625314"
      ]
     },
     "execution_count": 6,
     "metadata": {},
     "output_type": "execute_result"
    }
   ],
   "source": [
    "income_type_pivot = data.pivot_table(index=['income_type'], values='total_income', aggfunc='median') \\\n",
    "                    .rename(columns={'total_income':'Медианный доход'})\n",
    "income_type_pivot"
   ]
  },
  {
   "cell_type": "code",
   "execution_count": 7,
   "id": "0803caf5",
   "metadata": {},
   "outputs": [],
   "source": [
    "def total_income_replace_nans(df):\n",
    "    \n",
    "    '''\n",
    "    Возвращает медианный доход из таблицы income_type_pivot по категории category,\n",
    "    если в датафрейме df встречается NaN в столбце total_income.\n",
    "    В ином случае оставляем значение total_income. \n",
    "    '''\n",
    "    \n",
    "    category = df['income_type']\n",
    "    if pd.isna(df['total_income']):\n",
    "        return income_type_pivot.loc[category, 'Медианный доход']\n",
    "    return df['total_income']"
   ]
  },
  {
   "cell_type": "code",
   "execution_count": 8,
   "id": "6937c070",
   "metadata": {},
   "outputs": [
    {
     "data": {
      "text/plain": [
       "0"
      ]
     },
     "execution_count": 8,
     "metadata": {},
     "output_type": "execute_result"
    }
   ],
   "source": [
    "data['total_income'] = data.apply(total_income_replace_nans, axis=1)\n",
    "\n",
    "# проверка отсутствия нулевых значений в total_income\n",
    "data['total_income'].isna().sum()"
   ]
  },
  {
   "cell_type": "markdown",
   "id": "3483e7e0",
   "metadata": {},
   "source": [
    "## Проверка данных на аномалии и исправления\n",
    "<a id=\"3\"></a>"
   ]
  },
  {
   "cell_type": "code",
   "execution_count": 9,
   "id": "4360f4a5",
   "metadata": {},
   "outputs": [
    {
     "data": {
      "text/html": [
       "<div>\n",
       "<style scoped>\n",
       "    .dataframe tbody tr th:only-of-type {\n",
       "        vertical-align: middle;\n",
       "    }\n",
       "\n",
       "    .dataframe tbody tr th {\n",
       "        vertical-align: top;\n",
       "    }\n",
       "\n",
       "    .dataframe thead th {\n",
       "        text-align: right;\n",
       "    }\n",
       "</style>\n",
       "<table border=\"1\" class=\"dataframe\">\n",
       "  <thead>\n",
       "    <tr style=\"text-align: right;\">\n",
       "      <th></th>\n",
       "      <th>children</th>\n",
       "      <th>days_employed</th>\n",
       "      <th>dob_years</th>\n",
       "      <th>education_id</th>\n",
       "      <th>family_status_id</th>\n",
       "      <th>debt</th>\n",
       "      <th>total_income</th>\n",
       "    </tr>\n",
       "  </thead>\n",
       "  <tbody>\n",
       "    <tr>\n",
       "      <th>count</th>\n",
       "      <td>21525.000000</td>\n",
       "      <td>19351.000000</td>\n",
       "      <td>21525.000000</td>\n",
       "      <td>21525.000000</td>\n",
       "      <td>21525.000000</td>\n",
       "      <td>21525.000000</td>\n",
       "      <td>2.152500e+04</td>\n",
       "    </tr>\n",
       "    <tr>\n",
       "      <th>mean</th>\n",
       "      <td>0.538908</td>\n",
       "      <td>63046.497661</td>\n",
       "      <td>43.293380</td>\n",
       "      <td>0.817236</td>\n",
       "      <td>0.972544</td>\n",
       "      <td>0.080883</td>\n",
       "      <td>1.652253e+05</td>\n",
       "    </tr>\n",
       "    <tr>\n",
       "      <th>std</th>\n",
       "      <td>1.381587</td>\n",
       "      <td>140827.311974</td>\n",
       "      <td>12.574584</td>\n",
       "      <td>0.548138</td>\n",
       "      <td>1.420324</td>\n",
       "      <td>0.272661</td>\n",
       "      <td>9.804367e+04</td>\n",
       "    </tr>\n",
       "    <tr>\n",
       "      <th>min</th>\n",
       "      <td>-1.000000</td>\n",
       "      <td>-18388.949901</td>\n",
       "      <td>0.000000</td>\n",
       "      <td>0.000000</td>\n",
       "      <td>0.000000</td>\n",
       "      <td>0.000000</td>\n",
       "      <td>2.066726e+04</td>\n",
       "    </tr>\n",
       "    <tr>\n",
       "      <th>25%</th>\n",
       "      <td>0.000000</td>\n",
       "      <td>-2747.423625</td>\n",
       "      <td>33.000000</td>\n",
       "      <td>1.000000</td>\n",
       "      <td>0.000000</td>\n",
       "      <td>0.000000</td>\n",
       "      <td>1.077982e+05</td>\n",
       "    </tr>\n",
       "    <tr>\n",
       "      <th>50%</th>\n",
       "      <td>0.000000</td>\n",
       "      <td>-1203.369529</td>\n",
       "      <td>42.000000</td>\n",
       "      <td>1.000000</td>\n",
       "      <td>0.000000</td>\n",
       "      <td>0.000000</td>\n",
       "      <td>1.425944e+05</td>\n",
       "    </tr>\n",
       "    <tr>\n",
       "      <th>75%</th>\n",
       "      <td>1.000000</td>\n",
       "      <td>-291.095954</td>\n",
       "      <td>53.000000</td>\n",
       "      <td>1.000000</td>\n",
       "      <td>1.000000</td>\n",
       "      <td>0.000000</td>\n",
       "      <td>1.955499e+05</td>\n",
       "    </tr>\n",
       "    <tr>\n",
       "      <th>max</th>\n",
       "      <td>20.000000</td>\n",
       "      <td>401755.400475</td>\n",
       "      <td>75.000000</td>\n",
       "      <td>4.000000</td>\n",
       "      <td>4.000000</td>\n",
       "      <td>1.000000</td>\n",
       "      <td>2.265604e+06</td>\n",
       "    </tr>\n",
       "  </tbody>\n",
       "</table>\n",
       "</div>"
      ],
      "text/plain": [
       "           children  days_employed     dob_years  education_id  \\\n",
       "count  21525.000000   19351.000000  21525.000000  21525.000000   \n",
       "mean       0.538908   63046.497661     43.293380      0.817236   \n",
       "std        1.381587  140827.311974     12.574584      0.548138   \n",
       "min       -1.000000  -18388.949901      0.000000      0.000000   \n",
       "25%        0.000000   -2747.423625     33.000000      1.000000   \n",
       "50%        0.000000   -1203.369529     42.000000      1.000000   \n",
       "75%        1.000000    -291.095954     53.000000      1.000000   \n",
       "max       20.000000  401755.400475     75.000000      4.000000   \n",
       "\n",
       "       family_status_id          debt  total_income  \n",
       "count      21525.000000  21525.000000  2.152500e+04  \n",
       "mean           0.972544      0.080883  1.652253e+05  \n",
       "std            1.420324      0.272661  9.804367e+04  \n",
       "min            0.000000      0.000000  2.066726e+04  \n",
       "25%            0.000000      0.000000  1.077982e+05  \n",
       "50%            0.000000      0.000000  1.425944e+05  \n",
       "75%            1.000000      0.000000  1.955499e+05  \n",
       "max            4.000000      1.000000  2.265604e+06  "
      ]
     },
     "execution_count": 9,
     "metadata": {},
     "output_type": "execute_result"
    }
   ],
   "source": [
    "data.describe()"
   ]
  },
  {
   "cell_type": "code",
   "execution_count": 10,
   "id": "323d52c5",
   "metadata": {},
   "outputs": [
    {
     "data": {
      "text/html": [
       "<div>\n",
       "<style scoped>\n",
       "    .dataframe tbody tr th:only-of-type {\n",
       "        vertical-align: middle;\n",
       "    }\n",
       "\n",
       "    .dataframe tbody tr th {\n",
       "        vertical-align: top;\n",
       "    }\n",
       "\n",
       "    .dataframe thead th {\n",
       "        text-align: right;\n",
       "    }\n",
       "</style>\n",
       "<table border=\"1\" class=\"dataframe\">\n",
       "  <thead>\n",
       "    <tr style=\"text-align: right;\">\n",
       "      <th></th>\n",
       "      <th>family_status</th>\n",
       "      <th>gender</th>\n",
       "      <th>income_type</th>\n",
       "      <th>purpose</th>\n",
       "    </tr>\n",
       "  </thead>\n",
       "  <tbody>\n",
       "    <tr>\n",
       "      <th>count</th>\n",
       "      <td>21525</td>\n",
       "      <td>21525</td>\n",
       "      <td>21525</td>\n",
       "      <td>21525</td>\n",
       "    </tr>\n",
       "    <tr>\n",
       "      <th>unique</th>\n",
       "      <td>5</td>\n",
       "      <td>3</td>\n",
       "      <td>8</td>\n",
       "      <td>38</td>\n",
       "    </tr>\n",
       "    <tr>\n",
       "      <th>top</th>\n",
       "      <td>женат / замужем</td>\n",
       "      <td>F</td>\n",
       "      <td>сотрудник</td>\n",
       "      <td>свадьба</td>\n",
       "    </tr>\n",
       "    <tr>\n",
       "      <th>freq</th>\n",
       "      <td>12380</td>\n",
       "      <td>14236</td>\n",
       "      <td>11119</td>\n",
       "      <td>797</td>\n",
       "    </tr>\n",
       "  </tbody>\n",
       "</table>\n",
       "</div>"
      ],
      "text/plain": [
       "          family_status gender income_type  purpose\n",
       "count             21525  21525       21525    21525\n",
       "unique                5      3           8       38\n",
       "top     женат / замужем      F   сотрудник  свадьба\n",
       "freq              12380  14236       11119      797"
      ]
     },
     "execution_count": 10,
     "metadata": {},
     "output_type": "execute_result"
    }
   ],
   "source": [
    "data[['family_status', 'gender', 'income_type', 'purpose']].describe()"
   ]
  },
  {
   "cell_type": "markdown",
   "id": "ab8bc5b1",
   "metadata": {},
   "source": [
    "В столбцах `children` и `days_employed` присутствуют аномалии (отрицательные значения дней). Вероятно, имеет место ошибка в выгрузке, в результате которой положительные значения была изменены на отрицательные. Заменим значения на положительные."
   ]
  },
  {
   "cell_type": "code",
   "execution_count": 11,
   "id": "1be98e57",
   "metadata": {},
   "outputs": [],
   "source": [
    "data['children'] = abs(data['children'])\n",
    "data['days_employed'] = abs(data['days_employed'])"
   ]
  },
  {
   "cell_type": "markdown",
   "id": "8048c313",
   "metadata": {},
   "source": [
    "Заметим, что в столбце `days_employed` присутствуют аномально высокие значения (401755).\n",
    "\n",
    "Возможно, имеет место опечатка либо были введены неверные данные. Учитывая, что для ответов на поставленные вопросы значение стажа не имеет существенного значения, аномальные значения можно обработать следующими способами:\n",
    "- исключить из анализа столбец `days_employed` путем удаления;\n",
    "- заменить аномально высокие значения максимально возможным стажем (исходя из возраста, пола, предполагаемого непрерывного трудоустройства с 18 лет);\n",
    "- заменить медианными значениями.\n",
    "\n",
    "Для упрощения выберем последний вариант. Предположим, что максимальный возраст заемщика 75 лет, непрерывный стаж с 18 лет. В этом случае максимально возможный стаж в днях составит 20805.\n",
    "\n",
    "В столбце `days_employed` заменим значения, превышающие 20805, на медианные."
   ]
  },
  {
   "cell_type": "code",
   "execution_count": 16,
   "id": "c9507a14",
   "metadata": {
    "scrolled": true
   },
   "outputs": [],
   "source": [
    "data.loc[data['days_employed'] > 20805, 'days_employed'] = data['days_employed'].median()"
   ]
  },
  {
   "cell_type": "markdown",
   "id": "600c9378",
   "metadata": {},
   "source": [
    "Также заменим пропуски в `days_employed` медианными значениями:"
   ]
  },
  {
   "cell_type": "code",
   "execution_count": 18,
   "id": "03c297c3",
   "metadata": {},
   "outputs": [],
   "source": [
    "data['days_employed'] = data['days_employed'].fillna(data['days_employed'].median())"
   ]
  },
  {
   "cell_type": "markdown",
   "id": "01faffc2",
   "metadata": {},
   "source": [
    "Далее проверим остальные столбцы на предмет наличия артефактов."
   ]
  },
  {
   "cell_type": "code",
   "execution_count": 19,
   "id": "13c8668d",
   "metadata": {},
   "outputs": [
    {
     "data": {
      "text/plain": [
       "76"
      ]
     },
     "execution_count": 19,
     "metadata": {},
     "output_type": "execute_result"
    }
   ],
   "source": [
    "data.query('children == 20').shape[0]"
   ]
  },
  {
   "cell_type": "markdown",
   "id": "c6b23044",
   "metadata": {},
   "source": [
    "У 76 заемщиков 20 детей, что маловероятно. Скорее всего, в данных опечатка (лишний ноль на конце)."
   ]
  },
  {
   "cell_type": "code",
   "execution_count": 20,
   "id": "2f9f9c5d",
   "metadata": {},
   "outputs": [],
   "source": [
    "# исправляем количество детей '20' на '2'\n",
    "data.loc[data['children'] == 20, 'children'] = 2\n",
    "data['children'] = data['children'].astype('int')"
   ]
  },
  {
   "cell_type": "code",
   "execution_count": 21,
   "id": "8f204feb",
   "metadata": {},
   "outputs": [
    {
     "data": {
      "text/plain": [
       "101"
      ]
     },
     "execution_count": 21,
     "metadata": {},
     "output_type": "execute_result"
    }
   ],
   "source": [
    "data.query('dob_years == 0').shape[0]"
   ]
  },
  {
   "cell_type": "markdown",
   "id": "234f82c2",
   "metadata": {},
   "source": [
    "У 101 клиентов нулевой возраст. Вероятно, возраст заемщика не заносился в базу. Посколько возраст заемщика не имеет существенного значения для ответов на поставленные вопросы, оставим нулевые значения."
   ]
  },
  {
   "cell_type": "code",
   "execution_count": 22,
   "id": "a6b3de83",
   "metadata": {},
   "outputs": [
    {
     "data": {
      "text/plain": [
       "F      14236\n",
       "M       7288\n",
       "XNA        1\n",
       "Name: gender, dtype: int64"
      ]
     },
     "execution_count": 22,
     "metadata": {},
     "output_type": "execute_result"
    }
   ],
   "source": [
    "data['gender'].value_counts()"
   ]
  },
  {
   "cell_type": "markdown",
   "id": "c82a7224",
   "metadata": {},
   "source": [
    "У 1 клиента неопределнный пол 'XNA'. Пол также не влияет на дальнейший анализ, оставим значение."
   ]
  },
  {
   "cell_type": "code",
   "execution_count": 17,
   "id": "2ede67eb",
   "metadata": {},
   "outputs": [
    {
     "data": {
      "text/plain": [
       "среднее                13750\n",
       "высшее                  4718\n",
       "СРЕДНЕЕ                  772\n",
       "Среднее                  711\n",
       "неоконченное высшее      668\n",
       "ВЫСШЕЕ                   274\n",
       "Высшее                   268\n",
       "начальное                250\n",
       "Неоконченное высшее       47\n",
       "НЕОКОНЧЕННОЕ ВЫСШЕЕ       29\n",
       "НАЧАЛЬНОЕ                 17\n",
       "Начальное                 15\n",
       "ученая степень             4\n",
       "УЧЕНАЯ СТЕПЕНЬ             1\n",
       "Ученая степень             1\n",
       "Name: education, dtype: int64"
      ]
     },
     "execution_count": 17,
     "metadata": {},
     "output_type": "execute_result"
    }
   ],
   "source": [
    "data['education'].value_counts()"
   ]
  },
  {
   "cell_type": "markdown",
   "id": "9552b975",
   "metadata": {},
   "source": [
    "В столбце education есть неявные дубликаты (слова в разных регистрах). Исправим на следующих шагах."
   ]
  },
  {
   "cell_type": "markdown",
   "id": "3ee07e45",
   "metadata": {},
   "source": [
    "## Изменение типов данных\n",
    "<a id=\"4\"></a>"
   ]
  },
  {
   "cell_type": "markdown",
   "id": "3d9b791d",
   "metadata": {},
   "source": [
    "Изменим вещественный тип данных столбцов `days_employed` и `total_income` на целочисленный:"
   ]
  },
  {
   "cell_type": "code",
   "execution_count": 23,
   "id": "e18ceea9",
   "metadata": {},
   "outputs": [],
   "source": [
    "data['days_employed'] = data['days_employed'].astype('int')\n",
    "data['total_income'] = data['total_income'].astype('int')"
   ]
  },
  {
   "cell_type": "markdown",
   "id": "af190dbb",
   "metadata": {},
   "source": [
    "## Удаление дубликатов\n",
    "<a id=\"5\"></a>"
   ]
  },
  {
   "cell_type": "code",
   "execution_count": 24,
   "id": "5db0ade7",
   "metadata": {},
   "outputs": [
    {
     "data": {
      "text/plain": [
       "54"
      ]
     },
     "execution_count": 24,
     "metadata": {},
     "output_type": "execute_result"
    }
   ],
   "source": [
    "# поиск явных дубликатов\n",
    "data.duplicated().sum()"
   ]
  },
  {
   "cell_type": "markdown",
   "id": "3411b1ff",
   "metadata": {},
   "source": [
    "Датасет содержит 54 полностью повторяющиеся строки. Вероятно, данные по некоторым заемщикам были повторно занесены в базу, можно их удалить."
   ]
  },
  {
   "cell_type": "code",
   "execution_count": 25,
   "id": "f852b7b4",
   "metadata": {},
   "outputs": [],
   "source": [
    "# удаления явных дубликатов с обновлением индексации\n",
    "data = data.drop_duplicates().reset_index(drop=True)"
   ]
  },
  {
   "cell_type": "markdown",
   "id": "640f7459",
   "metadata": {},
   "source": [
    "Ранее были выявлены неявные дубликаты в столбце `education` (слова в разных регистрах). Приведем значения к одному регистру, используя метод str.lower()."
   ]
  },
  {
   "cell_type": "code",
   "execution_count": 26,
   "id": "7d0734f1",
   "metadata": {},
   "outputs": [
    {
     "data": {
      "text/plain": [
       "среднее                15188\n",
       "высшее                  5251\n",
       "неоконченное высшее      744\n",
       "начальное                282\n",
       "ученая степень             6\n",
       "Name: education, dtype: int64"
      ]
     },
     "execution_count": 26,
     "metadata": {},
     "output_type": "execute_result"
    }
   ],
   "source": [
    "data['education'] = data['education'].str.lower()\n",
    "data['education'].value_counts()"
   ]
  },
  {
   "cell_type": "markdown",
   "id": "3cfc5fcb",
   "metadata": {},
   "source": [
    "Еще раз проверим датасет на наличие явных дубликатов"
   ]
  },
  {
   "cell_type": "code",
   "execution_count": 27,
   "id": "b0c6ba26",
   "metadata": {},
   "outputs": [
    {
     "data": {
      "text/plain": [
       "17"
      ]
     },
     "execution_count": 27,
     "metadata": {},
     "output_type": "execute_result"
    }
   ],
   "source": [
    "data.duplicated().sum()"
   ]
  },
  {
   "cell_type": "markdown",
   "id": "ccac9b67",
   "metadata": {},
   "source": [
    "После приведения значений в столбце `education` к одному регистру появилось еще 17 дубликатов, удалим их."
   ]
  },
  {
   "cell_type": "code",
   "execution_count": 28,
   "id": "3dd03eba",
   "metadata": {},
   "outputs": [],
   "source": [
    "data = data.drop_duplicates().reset_index(drop=True)"
   ]
  },
  {
   "cell_type": "markdown",
   "id": "ad160ef6",
   "metadata": {},
   "source": [
    "## Формирование дополнительных датафреймов словарей, декомпозиция исходного датафрейма\n",
    "<a id=\"6\"></a>"
   ]
  },
  {
   "cell_type": "markdown",
   "id": "41beea29",
   "metadata": {},
   "source": [
    "Создадим датафрейм, в котором каждому уникальному значению из `education` соответствует уникальное значение `education_id`"
   ]
  },
  {
   "cell_type": "code",
   "execution_count": 29,
   "id": "9bc65d42",
   "metadata": {},
   "outputs": [
    {
     "data": {
      "text/html": [
       "<div>\n",
       "<style scoped>\n",
       "    .dataframe tbody tr th:only-of-type {\n",
       "        vertical-align: middle;\n",
       "    }\n",
       "\n",
       "    .dataframe tbody tr th {\n",
       "        vertical-align: top;\n",
       "    }\n",
       "\n",
       "    .dataframe thead th {\n",
       "        text-align: right;\n",
       "    }\n",
       "</style>\n",
       "<table border=\"1\" class=\"dataframe\">\n",
       "  <thead>\n",
       "    <tr style=\"text-align: right;\">\n",
       "      <th></th>\n",
       "      <th>education_id</th>\n",
       "      <th>education</th>\n",
       "    </tr>\n",
       "  </thead>\n",
       "  <tbody>\n",
       "    <tr>\n",
       "      <th>0</th>\n",
       "      <td>0</td>\n",
       "      <td>высшее</td>\n",
       "    </tr>\n",
       "    <tr>\n",
       "      <th>1</th>\n",
       "      <td>1</td>\n",
       "      <td>среднее</td>\n",
       "    </tr>\n",
       "    <tr>\n",
       "      <th>2</th>\n",
       "      <td>2</td>\n",
       "      <td>неоконченное высшее</td>\n",
       "    </tr>\n",
       "    <tr>\n",
       "      <th>3</th>\n",
       "      <td>3</td>\n",
       "      <td>начальное</td>\n",
       "    </tr>\n",
       "    <tr>\n",
       "      <th>4</th>\n",
       "      <td>4</td>\n",
       "      <td>ученая степень</td>\n",
       "    </tr>\n",
       "  </tbody>\n",
       "</table>\n",
       "</div>"
      ],
      "text/plain": [
       "   education_id            education\n",
       "0             0               высшее\n",
       "1             1              среднее\n",
       "2             2  неоконченное высшее\n",
       "3             3            начальное\n",
       "4             4       ученая степень"
      ]
     },
     "execution_count": 29,
     "metadata": {},
     "output_type": "execute_result"
    }
   ],
   "source": [
    "education_dict = data[['education_id', 'education']]\n",
    "education_dict = education_dict.drop_duplicates().reset_index(drop=True)\n",
    "education_dict"
   ]
  },
  {
   "cell_type": "markdown",
   "id": "22ff8a0b",
   "metadata": {},
   "source": [
    "Также создадим датафрейм, в котором каждому уникальному значению из `family_status` соответствует уникальное значение `family_status_id`"
   ]
  },
  {
   "cell_type": "code",
   "execution_count": 30,
   "id": "782fe5f5",
   "metadata": {},
   "outputs": [
    {
     "data": {
      "text/html": [
       "<div>\n",
       "<style scoped>\n",
       "    .dataframe tbody tr th:only-of-type {\n",
       "        vertical-align: middle;\n",
       "    }\n",
       "\n",
       "    .dataframe tbody tr th {\n",
       "        vertical-align: top;\n",
       "    }\n",
       "\n",
       "    .dataframe thead th {\n",
       "        text-align: right;\n",
       "    }\n",
       "</style>\n",
       "<table border=\"1\" class=\"dataframe\">\n",
       "  <thead>\n",
       "    <tr style=\"text-align: right;\">\n",
       "      <th></th>\n",
       "      <th>family_status_id</th>\n",
       "      <th>family_status</th>\n",
       "    </tr>\n",
       "  </thead>\n",
       "  <tbody>\n",
       "    <tr>\n",
       "      <th>0</th>\n",
       "      <td>0</td>\n",
       "      <td>женат / замужем</td>\n",
       "    </tr>\n",
       "    <tr>\n",
       "      <th>1</th>\n",
       "      <td>1</td>\n",
       "      <td>гражданский брак</td>\n",
       "    </tr>\n",
       "    <tr>\n",
       "      <th>2</th>\n",
       "      <td>2</td>\n",
       "      <td>вдовец / вдова</td>\n",
       "    </tr>\n",
       "    <tr>\n",
       "      <th>3</th>\n",
       "      <td>3</td>\n",
       "      <td>в разводе</td>\n",
       "    </tr>\n",
       "    <tr>\n",
       "      <th>4</th>\n",
       "      <td>4</td>\n",
       "      <td>Не женат / не замужем</td>\n",
       "    </tr>\n",
       "  </tbody>\n",
       "</table>\n",
       "</div>"
      ],
      "text/plain": [
       "   family_status_id          family_status\n",
       "0                 0        женат / замужем\n",
       "1                 1       гражданский брак\n",
       "2                 2         вдовец / вдова\n",
       "3                 3              в разводе\n",
       "4                 4  Не женат / не замужем"
      ]
     },
     "execution_count": 30,
     "metadata": {},
     "output_type": "execute_result"
    }
   ],
   "source": [
    "family_status_dict = data[['family_status_id', 'family_status']]\n",
    "family_status_dict = family_status_dict.drop_duplicates().reset_index(drop=True)\n",
    "family_status_dict"
   ]
  },
  {
   "cell_type": "markdown",
   "id": "fe23a215",
   "metadata": {},
   "source": [
    "Теперь удалим из исходного датафрейма столбцы `education` и `family_status`, оставив только их идентификаторы: `education_id` и `family_status_id`."
   ]
  },
  {
   "cell_type": "code",
   "execution_count": 31,
   "id": "f7808e2f",
   "metadata": {},
   "outputs": [],
   "source": [
    "data.drop(columns = ['education', 'family_status'], inplace=True)"
   ]
  },
  {
   "cell_type": "markdown",
   "id": "2d26678d",
   "metadata": {},
   "source": [
    "## Категоризация дохода\n",
    "<a id=\"7\"></a>"
   ]
  },
  {
   "cell_type": "code",
   "execution_count": 34,
   "id": "c8e8199b",
   "metadata": {},
   "outputs": [],
   "source": [
    "def income_group(income):\n",
    "    \n",
    "    '''\n",
    "    Возвращает категорию дохода по значению дохода income, используя правила:\n",
    "    0–30000 — 'E';\n",
    "    30001–50000 — 'D';\n",
    "    50001–200000 — 'C';\n",
    "    200001–1000000 — 'B';\n",
    "    1000001 и выше — 'A'\n",
    "    \n",
    "    '''\n",
    "    \n",
    "    if income <= 30000:\n",
    "        return 'E'\n",
    "    if income <= 50000:\n",
    "        return 'D'\n",
    "    if income <= 200000:\n",
    "        return 'C'\n",
    "    if income <= 1000000:\n",
    "        return 'B'\n",
    "    return 'A'"
   ]
  },
  {
   "cell_type": "code",
   "execution_count": 35,
   "id": "bc388eab",
   "metadata": {},
   "outputs": [],
   "source": [
    "# создаем столбец total_income_category с категориями, применяя функцию income_group к столбцу total_income\n",
    "data['total_income_category'] = data['total_income'].apply(income_group)"
   ]
  },
  {
   "cell_type": "markdown",
   "id": "9d9c6db0",
   "metadata": {},
   "source": [
    "## Категоризация целей кредита\n",
    "<a id=\"8\"></a>"
   ]
  },
  {
   "cell_type": "markdown",
   "id": "0147119e",
   "metadata": {},
   "source": [
    "Создадим функцию, которая на основании данных из столбца `purpose` сформирует новый столбец `purpose_category`, в который войдут следующие категории:\n",
    "- 'операции с автомобилем',\n",
    "- 'операции с недвижимостью',\n",
    "- 'проведение свадьбы',\n",
    "- 'получение образования'."
   ]
  },
  {
   "cell_type": "markdown",
   "id": "867e0be0",
   "metadata": {},
   "source": [
    "Выведем список уникальных значений столбца `purpose`."
   ]
  },
  {
   "cell_type": "code",
   "execution_count": 36,
   "id": "33d5e523",
   "metadata": {},
   "outputs": [
    {
     "data": {
      "text/plain": [
       "array(['покупка жилья', 'приобретение автомобиля',\n",
       "       'дополнительное образование', 'сыграть свадьбу',\n",
       "       'операции с жильем', 'образование', 'на проведение свадьбы',\n",
       "       'покупка жилья для семьи', 'покупка недвижимости',\n",
       "       'покупка коммерческой недвижимости', 'покупка жилой недвижимости',\n",
       "       'строительство собственной недвижимости', 'недвижимость',\n",
       "       'строительство недвижимости', 'на покупку подержанного автомобиля',\n",
       "       'на покупку своего автомобиля',\n",
       "       'операции с коммерческой недвижимостью',\n",
       "       'строительство жилой недвижимости', 'жилье',\n",
       "       'операции со своей недвижимостью', 'автомобили',\n",
       "       'заняться образованием', 'сделка с подержанным автомобилем',\n",
       "       'получение образования', 'автомобиль', 'свадьба',\n",
       "       'получение дополнительного образования', 'покупка своего жилья',\n",
       "       'операции с недвижимостью', 'получение высшего образования',\n",
       "       'свой автомобиль', 'сделка с автомобилем',\n",
       "       'профильное образование', 'высшее образование',\n",
       "       'покупка жилья для сдачи', 'на покупку автомобиля', 'ремонт жилью',\n",
       "       'заняться высшим образованием'], dtype=object)"
      ]
     },
     "execution_count": 36,
     "metadata": {},
     "output_type": "execute_result"
    }
   ],
   "source": [
    "purposes = data['purpose'].unique()\n",
    "purposes"
   ]
  },
  {
   "cell_type": "markdown",
   "id": "63bf41ea",
   "metadata": {},
   "source": [
    "Определим подстроки, по которым можно определить категорию:\n",
    "- 'авто' соответствует категории 'операции с автомобилем';\n",
    "- 'недвиж' или 'жил' соответствует категории 'операции с недвижимостью';\n",
    "- 'свад' соответствует категории 'проведение свадьбы';\n",
    "- 'образов' соответствует категории 'получение образования'"
   ]
  },
  {
   "cell_type": "code",
   "execution_count": 37,
   "id": "ec4d53ce",
   "metadata": {},
   "outputs": [],
   "source": [
    "def purpose_group(purpose):\n",
    "    \n",
    "    '''\n",
    "    Возвращает категорию цели по наличию подстроки в цели purpose, используя правила:\n",
    "    - если подстрока содержит 'авто', то категория 'операции с автомобилем';\n",
    "    - если подстрока содержит 'недвиж' или 'жил', то категория 'операции с недвижимостью';\n",
    "    - если подстрока содержит 'свад', то категория 'проведение свадьбы';\n",
    "    - в остальных случаях категория 'получение образования'\n",
    "    '''\n",
    "    \n",
    "    if 'авто' in purpose:\n",
    "        return 'операции с автомобилем'\n",
    "    if ('недвиж' in purpose) or ('жил' in purpose):\n",
    "        return 'операции с недвижимостью'\n",
    "    if 'свад' in purpose:\n",
    "        return 'проведение свадьбы'\n",
    "    return 'получение образования'"
   ]
  },
  {
   "cell_type": "code",
   "execution_count": 38,
   "id": "ddff25af",
   "metadata": {},
   "outputs": [],
   "source": [
    "# создаем новый столбец purpose_category с категориями целей\n",
    "data['purpose_category'] = data['purpose'].apply(purpose_group)"
   ]
  },
  {
   "cell_type": "markdown",
   "id": "f69b04fc",
   "metadata": {},
   "source": [
    "## Анализ влияния факторов на возврат кредита\n",
    "<a id=\"9\"></a>"
   ]
  },
  {
   "cell_type": "markdown",
   "id": "50b6dbd5",
   "metadata": {},
   "source": [
    "### Есть ли зависимость между количеством детей и возвратом кредита в срок?"
   ]
  },
  {
   "cell_type": "code",
   "execution_count": 39,
   "id": "2b964043",
   "metadata": {},
   "outputs": [],
   "source": [
    "def create_pivot(column):\n",
    "    \n",
    "    '''Возвращает сводную таблицу по столбцу column'''\n",
    "    \n",
    "    pivot = data.pivot_table(index=column, values='debt', aggfunc=['count', 'sum', 'mean'])\n",
    "    pivot.columns = ['Всего кредитополучателей', 'Количество должников', 'Доля должников']\n",
    "    \n",
    "    return pivot"
   ]
  },
  {
   "cell_type": "code",
   "execution_count": 40,
   "id": "7bc2b379",
   "metadata": {},
   "outputs": [
    {
     "data": {
      "text/html": [
       "<div>\n",
       "<style scoped>\n",
       "    .dataframe tbody tr th:only-of-type {\n",
       "        vertical-align: middle;\n",
       "    }\n",
       "\n",
       "    .dataframe tbody tr th {\n",
       "        vertical-align: top;\n",
       "    }\n",
       "\n",
       "    .dataframe thead th {\n",
       "        text-align: right;\n",
       "    }\n",
       "</style>\n",
       "<table border=\"1\" class=\"dataframe\">\n",
       "  <thead>\n",
       "    <tr style=\"text-align: right;\">\n",
       "      <th></th>\n",
       "      <th>Всего кредитополучателей</th>\n",
       "      <th>Количество должников</th>\n",
       "      <th>Доля должников</th>\n",
       "    </tr>\n",
       "    <tr>\n",
       "      <th>children</th>\n",
       "      <th></th>\n",
       "      <th></th>\n",
       "      <th></th>\n",
       "    </tr>\n",
       "  </thead>\n",
       "  <tbody>\n",
       "    <tr>\n",
       "      <th>0</th>\n",
       "      <td>14091</td>\n",
       "      <td>1063</td>\n",
       "      <td>0.075438</td>\n",
       "    </tr>\n",
       "    <tr>\n",
       "      <th>1</th>\n",
       "      <td>4855</td>\n",
       "      <td>445</td>\n",
       "      <td>0.091658</td>\n",
       "    </tr>\n",
       "    <tr>\n",
       "      <th>2</th>\n",
       "      <td>2128</td>\n",
       "      <td>202</td>\n",
       "      <td>0.094925</td>\n",
       "    </tr>\n",
       "    <tr>\n",
       "      <th>3</th>\n",
       "      <td>330</td>\n",
       "      <td>27</td>\n",
       "      <td>0.081818</td>\n",
       "    </tr>\n",
       "    <tr>\n",
       "      <th>4</th>\n",
       "      <td>41</td>\n",
       "      <td>4</td>\n",
       "      <td>0.097561</td>\n",
       "    </tr>\n",
       "    <tr>\n",
       "      <th>5</th>\n",
       "      <td>9</td>\n",
       "      <td>0</td>\n",
       "      <td>0.000000</td>\n",
       "    </tr>\n",
       "  </tbody>\n",
       "</table>\n",
       "</div>"
      ],
      "text/plain": [
       "          Всего кредитополучателей  Количество должников  Доля должников\n",
       "children                                                                \n",
       "0                            14091                  1063        0.075438\n",
       "1                             4855                   445        0.091658\n",
       "2                             2128                   202        0.094925\n",
       "3                              330                    27        0.081818\n",
       "4                               41                     4        0.097561\n",
       "5                                9                     0        0.000000"
      ]
     },
     "execution_count": 40,
     "metadata": {},
     "output_type": "execute_result"
    }
   ],
   "source": [
    "create_pivot('children')"
   ]
  },
  {
   "cell_type": "markdown",
   "id": "bf86a0f9",
   "metadata": {},
   "source": [
    "**Вывод 1:**"
   ]
  },
  {
   "cell_type": "markdown",
   "id": "0772a06c",
   "metadata": {},
   "source": [
    "Существует зависимость между количеством детей и возвратом кредита в срок: наименьшая доля просроченных кредитов у семей без детей детей (7,5%), наибольшая - в семьях с 4 детьями (9,8%)."
   ]
  },
  {
   "cell_type": "markdown",
   "id": "34cd3abc",
   "metadata": {},
   "source": [
    "### Есть ли зависимость между семейным положением и возвратом кредита в срок?"
   ]
  },
  {
   "cell_type": "code",
   "execution_count": 41,
   "id": "02749d00",
   "metadata": {},
   "outputs": [
    {
     "data": {
      "text/html": [
       "<div>\n",
       "<style scoped>\n",
       "    .dataframe tbody tr th:only-of-type {\n",
       "        vertical-align: middle;\n",
       "    }\n",
       "\n",
       "    .dataframe tbody tr th {\n",
       "        vertical-align: top;\n",
       "    }\n",
       "\n",
       "    .dataframe thead th {\n",
       "        text-align: right;\n",
       "    }\n",
       "</style>\n",
       "<table border=\"1\" class=\"dataframe\">\n",
       "  <thead>\n",
       "    <tr style=\"text-align: right;\">\n",
       "      <th></th>\n",
       "      <th>family_status_id</th>\n",
       "      <th>Всего кредитополучателей</th>\n",
       "      <th>Количество должников</th>\n",
       "      <th>Доля должников</th>\n",
       "      <th>family_status</th>\n",
       "    </tr>\n",
       "  </thead>\n",
       "  <tbody>\n",
       "    <tr>\n",
       "      <th>0</th>\n",
       "      <td>0</td>\n",
       "      <td>12339</td>\n",
       "      <td>931</td>\n",
       "      <td>0.075452</td>\n",
       "      <td>женат / замужем</td>\n",
       "    </tr>\n",
       "    <tr>\n",
       "      <th>1</th>\n",
       "      <td>1</td>\n",
       "      <td>4151</td>\n",
       "      <td>388</td>\n",
       "      <td>0.093471</td>\n",
       "      <td>гражданский брак</td>\n",
       "    </tr>\n",
       "    <tr>\n",
       "      <th>2</th>\n",
       "      <td>2</td>\n",
       "      <td>959</td>\n",
       "      <td>63</td>\n",
       "      <td>0.065693</td>\n",
       "      <td>вдовец / вдова</td>\n",
       "    </tr>\n",
       "    <tr>\n",
       "      <th>3</th>\n",
       "      <td>3</td>\n",
       "      <td>1195</td>\n",
       "      <td>85</td>\n",
       "      <td>0.071130</td>\n",
       "      <td>в разводе</td>\n",
       "    </tr>\n",
       "    <tr>\n",
       "      <th>4</th>\n",
       "      <td>4</td>\n",
       "      <td>2810</td>\n",
       "      <td>274</td>\n",
       "      <td>0.097509</td>\n",
       "      <td>Не женат / не замужем</td>\n",
       "    </tr>\n",
       "  </tbody>\n",
       "</table>\n",
       "</div>"
      ],
      "text/plain": [
       "   family_status_id  Всего кредитополучателей  Количество должников  \\\n",
       "0                 0                     12339                   931   \n",
       "1                 1                      4151                   388   \n",
       "2                 2                       959                    63   \n",
       "3                 3                      1195                    85   \n",
       "4                 4                      2810                   274   \n",
       "\n",
       "   Доля должников          family_status  \n",
       "0        0.075452        женат / замужем  \n",
       "1        0.093471       гражданский брак  \n",
       "2        0.065693         вдовец / вдова  \n",
       "3        0.071130              в разводе  \n",
       "4        0.097509  Не женат / не замужем  "
      ]
     },
     "execution_count": 41,
     "metadata": {},
     "output_type": "execute_result"
    }
   ],
   "source": [
    "create_pivot('family_status_id').merge(family_status_dict, on='family_status_id', how='left')"
   ]
  },
  {
   "cell_type": "markdown",
   "id": "e7bd98fd",
   "metadata": {},
   "source": [
    "**Вывод 2:**"
   ]
  },
  {
   "cell_type": "markdown",
   "id": "973d805d",
   "metadata": {},
   "source": [
    "Существует зависимость между семейным положением и возвратом кредита в срок: \n",
    "- наиболее склонны к выходам на просрочку заемщику с семейныйм статусом \"Не женат / не замужем\";\n",
    "- у вдовцов/вдов наблюдается наименьшая доля просроченных кредитов."
   ]
  },
  {
   "cell_type": "markdown",
   "id": "15598f41",
   "metadata": {},
   "source": [
    "### Есть ли зависимость между уровнем дохода и возвратом кредита в срок?"
   ]
  },
  {
   "cell_type": "markdown",
   "id": "725ec448",
   "metadata": {},
   "source": [
    "Ранее были определены следующие категории доходов:\n",
    "- 0–30000 — 'E';\n",
    "- 30001–50000 — 'D';\n",
    "- 50001–200000 — 'C';\n",
    "- 200001–1000000 — 'B';\n",
    "- 1000001 и выше — 'A'"
   ]
  },
  {
   "cell_type": "code",
   "execution_count": 42,
   "id": "ec91192d",
   "metadata": {},
   "outputs": [
    {
     "data": {
      "text/plain": [
       "C    16015\n",
       "B     5042\n",
       "D      350\n",
       "A       25\n",
       "E       22\n",
       "Name: total_income_category, dtype: int64"
      ]
     },
     "execution_count": 42,
     "metadata": {},
     "output_type": "execute_result"
    }
   ],
   "source": [
    "# выводим статистику по категориям дохода\n",
    "data['total_income_category'].value_counts()"
   ]
  },
  {
   "cell_type": "markdown",
   "id": "ba3f3413",
   "metadata": {},
   "source": [
    "Поскольку количество заемщиков в категориях D, A, E незначительное, определим более укрупненные категории. Узнаем 25 и 75 персентиль по столбцу `total_income`"
   ]
  },
  {
   "cell_type": "code",
   "execution_count": 43,
   "id": "aaf00f86",
   "metadata": {},
   "outputs": [
    {
     "data": {
      "text/plain": [
       "count      21454\n",
       "mean      165319\n",
       "std        98187\n",
       "min        20667\n",
       "25%       107623\n",
       "50%       142594\n",
       "75%       195820\n",
       "max      2265604\n",
       "Name: total_income, dtype: int64"
      ]
     },
     "execution_count": 43,
     "metadata": {},
     "output_type": "execute_result"
    }
   ],
   "source": [
    "data['total_income'].describe().astype('int')"
   ]
  },
  {
   "cell_type": "markdown",
   "id": "1fa8e137",
   "metadata": {},
   "source": [
    "У 25% клиентов доход ниже 107623, у половины доход ниже 145017, у 75% заемщиков - ниже 195813. Исходя из этих данных, в целях более точного прослеживания зависимости между доходом и возвратом кредита, введем новые категории дохода:\n",
    "- 'низкий' при доходе до 107623;\n",
    "- 'средний' при доходе от 107624 до 195813;\n",
    "- 'высокий' при доходе выше 195814"
   ]
  },
  {
   "cell_type": "code",
   "execution_count": 44,
   "id": "c124d4ae",
   "metadata": {},
   "outputs": [],
   "source": [
    "def income_group_new(income):\n",
    "    \n",
    "    '''\n",
    "    Возвращает категорию дохода по значению дохода income, используя правила:\n",
    "    'низкий' при доходе до 107623;\n",
    "    'средний' при доходе от 107624 до 195813;\n",
    "    'высокий' при доходе выше 195814\n",
    "    \n",
    "    '''\n",
    "    \n",
    "    if income <= 107623:\n",
    "        return 'низкий'\n",
    "    if income <= 195813:\n",
    "        return 'средний'\n",
    "    return 'высокий'"
   ]
  },
  {
   "cell_type": "code",
   "execution_count": 45,
   "id": "10696e22",
   "metadata": {},
   "outputs": [],
   "source": [
    "# создаем новый столбец total_income_category_new c новыми категориями дохода\n",
    "data['total_income_category_new'] = data['total_income'].apply(income_group_new)"
   ]
  },
  {
   "cell_type": "code",
   "execution_count": 47,
   "id": "3126ab0f",
   "metadata": {},
   "outputs": [
    {
     "data": {
      "text/html": [
       "<div>\n",
       "<style scoped>\n",
       "    .dataframe tbody tr th:only-of-type {\n",
       "        vertical-align: middle;\n",
       "    }\n",
       "\n",
       "    .dataframe tbody tr th {\n",
       "        vertical-align: top;\n",
       "    }\n",
       "\n",
       "    .dataframe thead th {\n",
       "        text-align: right;\n",
       "    }\n",
       "</style>\n",
       "<table border=\"1\" class=\"dataframe\">\n",
       "  <thead>\n",
       "    <tr style=\"text-align: right;\">\n",
       "      <th></th>\n",
       "      <th>Всего кредитополучателей</th>\n",
       "      <th>Количество должников</th>\n",
       "      <th>Доля должников</th>\n",
       "    </tr>\n",
       "    <tr>\n",
       "      <th>total_income_category_new</th>\n",
       "      <th></th>\n",
       "      <th></th>\n",
       "      <th></th>\n",
       "    </tr>\n",
       "  </thead>\n",
       "  <tbody>\n",
       "    <tr>\n",
       "      <th>высокий</th>\n",
       "      <td>5365</td>\n",
       "      <td>383</td>\n",
       "      <td>0.071389</td>\n",
       "    </tr>\n",
       "    <tr>\n",
       "      <th>низкий</th>\n",
       "      <td>5364</td>\n",
       "      <td>427</td>\n",
       "      <td>0.079605</td>\n",
       "    </tr>\n",
       "    <tr>\n",
       "      <th>средний</th>\n",
       "      <td>10725</td>\n",
       "      <td>931</td>\n",
       "      <td>0.086807</td>\n",
       "    </tr>\n",
       "  </tbody>\n",
       "</table>\n",
       "</div>"
      ],
      "text/plain": [
       "                           Всего кредитополучателей  Количество должников  \\\n",
       "total_income_category_new                                                   \n",
       "высокий                                        5365                   383   \n",
       "низкий                                         5364                   427   \n",
       "средний                                       10725                   931   \n",
       "\n",
       "                           Доля должников  \n",
       "total_income_category_new                  \n",
       "высокий                          0.071389  \n",
       "низкий                           0.079605  \n",
       "средний                          0.086807  "
      ]
     },
     "execution_count": 47,
     "metadata": {},
     "output_type": "execute_result"
    }
   ],
   "source": [
    "create_pivot('total_income_category_new')"
   ]
  },
  {
   "cell_type": "markdown",
   "id": "4c6d7ab0",
   "metadata": {},
   "source": [
    "**Вывод 3:**"
   ]
  },
  {
   "cell_type": "markdown",
   "id": "2053534a",
   "metadata": {},
   "source": [
    "Существует зависимость между уровнем дохода и возвратом кредита в срок: \n",
    "- у клиентов со средним уровнем дохода (от 107624 до 195813) выходы на просрочку встречаются чаще;\n",
    "- наименьшая доля просрочки среди клиентов с высоким уровнем дохода."
   ]
  },
  {
   "cell_type": "markdown",
   "id": "35cfa97e",
   "metadata": {},
   "source": [
    "### Как разные цели кредита влияют на его возврат в срок?"
   ]
  },
  {
   "cell_type": "code",
   "execution_count": 48,
   "id": "23df3a79",
   "metadata": {},
   "outputs": [
    {
     "data": {
      "text/html": [
       "<div>\n",
       "<style scoped>\n",
       "    .dataframe tbody tr th:only-of-type {\n",
       "        vertical-align: middle;\n",
       "    }\n",
       "\n",
       "    .dataframe tbody tr th {\n",
       "        vertical-align: top;\n",
       "    }\n",
       "\n",
       "    .dataframe thead th {\n",
       "        text-align: right;\n",
       "    }\n",
       "</style>\n",
       "<table border=\"1\" class=\"dataframe\">\n",
       "  <thead>\n",
       "    <tr style=\"text-align: right;\">\n",
       "      <th></th>\n",
       "      <th>Всего кредитополучателей</th>\n",
       "      <th>Количество должников</th>\n",
       "      <th>Доля должников</th>\n",
       "    </tr>\n",
       "    <tr>\n",
       "      <th>purpose_category</th>\n",
       "      <th></th>\n",
       "      <th></th>\n",
       "      <th></th>\n",
       "    </tr>\n",
       "  </thead>\n",
       "  <tbody>\n",
       "    <tr>\n",
       "      <th>операции с автомобилем</th>\n",
       "      <td>4306</td>\n",
       "      <td>403</td>\n",
       "      <td>0.093590</td>\n",
       "    </tr>\n",
       "    <tr>\n",
       "      <th>операции с недвижимостью</th>\n",
       "      <td>10811</td>\n",
       "      <td>782</td>\n",
       "      <td>0.072334</td>\n",
       "    </tr>\n",
       "    <tr>\n",
       "      <th>получение образования</th>\n",
       "      <td>4013</td>\n",
       "      <td>370</td>\n",
       "      <td>0.092200</td>\n",
       "    </tr>\n",
       "    <tr>\n",
       "      <th>проведение свадьбы</th>\n",
       "      <td>2324</td>\n",
       "      <td>186</td>\n",
       "      <td>0.080034</td>\n",
       "    </tr>\n",
       "  </tbody>\n",
       "</table>\n",
       "</div>"
      ],
      "text/plain": [
       "                          Всего кредитополучателей  Количество должников  \\\n",
       "purpose_category                                                           \n",
       "операции с автомобилем                        4306                   403   \n",
       "операции с недвижимостью                     10811                   782   \n",
       "получение образования                         4013                   370   \n",
       "проведение свадьбы                            2324                   186   \n",
       "\n",
       "                          Доля должников  \n",
       "purpose_category                          \n",
       "операции с автомобилем          0.093590  \n",
       "операции с недвижимостью        0.072334  \n",
       "получение образования           0.092200  \n",
       "проведение свадьбы              0.080034  "
      ]
     },
     "execution_count": 48,
     "metadata": {},
     "output_type": "execute_result"
    }
   ],
   "source": [
    "create_pivot('purpose_category')"
   ]
  },
  {
   "cell_type": "markdown",
   "id": "661718dd",
   "metadata": {},
   "source": [
    "**Вывод 4:**"
   ]
  },
  {
   "cell_type": "markdown",
   "id": "032626de",
   "metadata": {},
   "source": [
    "- Наиболее часто возникновение задолженности встречается у заемщиков, которые берут кредит на операции с автомобилем и получение образования;\n",
    "- Заемщики с кредитом на операции с недвижимостью реже выходят на просрочку."
   ]
  },
  {
   "cell_type": "markdown",
   "id": "cd716cb4",
   "metadata": {},
   "source": [
    "## Итоговый вывод:\n",
    "<a id=\"10\"></a>"
   ]
  },
  {
   "cell_type": "markdown",
   "id": "45855caf",
   "metadata": {},
   "source": [
    "Такие факторы, как наличие детей, семейное положение, уровень дохода и цель кредита влияют на вероятность возврата кредита в срок. Для банка менее рискованными являются следующие группы клиентов:\n",
    "- без детей; \n",
    "- вдовы/вдовцы; \n",
    "- с высоким уровнем дохода;\n",
    "- целевое использование кредита - операции с недвижимостью."
   ]
  }
 ],
 "metadata": {
  "ExecuteTimeLog": [
   {
    "duration": 590,
    "start_time": "2022-05-24T20:19:41.911Z"
   },
   {
    "duration": 177,
    "start_time": "2022-05-24T20:19:42.503Z"
   },
   {
    "duration": 16,
    "start_time": "2022-05-24T20:19:42.681Z"
   },
   {
    "duration": 8,
    "start_time": "2022-05-24T20:19:42.699Z"
   },
   {
    "duration": 9,
    "start_time": "2022-05-24T20:19:42.708Z"
   },
   {
    "duration": 46,
    "start_time": "2022-05-24T20:19:42.719Z"
   },
   {
    "duration": 4,
    "start_time": "2022-05-24T20:19:42.768Z"
   },
   {
    "duration": 13,
    "start_time": "2022-05-24T20:19:42.774Z"
   },
   {
    "duration": 9,
    "start_time": "2022-05-24T20:19:42.788Z"
   },
   {
    "duration": 7,
    "start_time": "2022-05-24T20:19:42.799Z"
   },
   {
    "duration": 7,
    "start_time": "2022-05-24T20:19:42.808Z"
   },
   {
    "duration": 25,
    "start_time": "2022-05-24T20:19:42.816Z"
   },
   {
    "duration": 23,
    "start_time": "2022-05-24T20:19:42.842Z"
   },
   {
    "duration": 13,
    "start_time": "2022-05-24T20:19:42.867Z"
   },
   {
    "duration": 8,
    "start_time": "2022-05-24T20:19:42.882Z"
   },
   {
    "duration": 5,
    "start_time": "2022-05-24T20:19:42.892Z"
   },
   {
    "duration": 11,
    "start_time": "2022-05-24T20:19:42.899Z"
   },
   {
    "duration": 21,
    "start_time": "2022-05-24T20:19:42.911Z"
   },
   {
    "duration": 52,
    "start_time": "2022-05-24T20:19:42.934Z"
   },
   {
    "duration": 6,
    "start_time": "2022-05-24T20:19:42.988Z"
   },
   {
    "duration": 15,
    "start_time": "2022-05-24T20:19:42.996Z"
   },
   {
    "duration": 21,
    "start_time": "2022-05-24T20:19:43.013Z"
   },
   {
    "duration": 45,
    "start_time": "2022-05-24T20:19:43.035Z"
   },
   {
    "duration": 10,
    "start_time": "2022-05-24T20:19:43.082Z"
   },
   {
    "duration": 20,
    "start_time": "2022-05-24T20:19:43.093Z"
   },
   {
    "duration": 17,
    "start_time": "2022-05-24T20:19:43.115Z"
   },
   {
    "duration": 43,
    "start_time": "2022-05-24T20:19:43.133Z"
   },
   {
    "duration": 10,
    "start_time": "2022-05-24T20:19:43.180Z"
   },
   {
    "duration": 9,
    "start_time": "2022-05-24T20:19:43.192Z"
   },
   {
    "duration": 7,
    "start_time": "2022-05-24T20:19:43.203Z"
   },
   {
    "duration": 8,
    "start_time": "2022-05-24T20:19:43.212Z"
   },
   {
    "duration": 10,
    "start_time": "2022-05-24T20:19:43.221Z"
   },
   {
    "duration": 27,
    "start_time": "2022-05-24T20:19:43.233Z"
   },
   {
    "duration": 10,
    "start_time": "2022-05-24T20:19:43.261Z"
   },
   {
    "duration": 14,
    "start_time": "2022-05-24T20:19:43.273Z"
   },
   {
    "duration": 3,
    "start_time": "2022-05-24T20:19:43.288Z"
   },
   {
    "duration": 9,
    "start_time": "2022-05-24T20:19:43.293Z"
   },
   {
    "duration": 17,
    "start_time": "2022-05-24T20:19:43.303Z"
   },
   {
    "duration": 4,
    "start_time": "2022-05-24T20:19:43.321Z"
   },
   {
    "duration": 8,
    "start_time": "2022-05-24T20:19:43.326Z"
   },
   {
    "duration": 5,
    "start_time": "2022-05-24T20:19:43.335Z"
   },
   {
    "duration": 9,
    "start_time": "2022-05-24T20:19:43.360Z"
   },
   {
    "duration": 16,
    "start_time": "2022-05-24T20:19:43.371Z"
   },
   {
    "duration": 7,
    "start_time": "2022-05-24T20:19:43.388Z"
   },
   {
    "duration": 7,
    "start_time": "2022-05-24T20:19:43.397Z"
   },
   {
    "duration": 11,
    "start_time": "2022-05-24T20:19:43.406Z"
   },
   {
    "duration": 12,
    "start_time": "2022-05-24T20:19:43.419Z"
   },
   {
    "duration": 8,
    "start_time": "2022-05-24T20:19:43.433Z"
   },
   {
    "duration": 28,
    "start_time": "2022-05-24T20:19:43.459Z"
   },
   {
    "duration": 16,
    "start_time": "2022-05-24T20:19:43.489Z"
   },
   {
    "duration": 6,
    "start_time": "2022-05-24T20:19:43.507Z"
   },
   {
    "duration": 14,
    "start_time": "2022-05-24T20:19:43.514Z"
   },
   {
    "duration": 6,
    "start_time": "2022-05-24T20:19:43.530Z"
   }
  ],
  "kernelspec": {
   "display_name": "Python 3 (ipykernel)",
   "language": "python",
   "name": "python3"
  },
  "language_info": {
   "codemirror_mode": {
    "name": "ipython",
    "version": 3
   },
   "file_extension": ".py",
   "mimetype": "text/x-python",
   "name": "python",
   "nbconvert_exporter": "python",
   "pygments_lexer": "ipython3",
   "version": "3.9.7"
  },
  "toc": {
   "base_numbering": 1,
   "nav_menu": {
    "height": "319px",
    "width": "638px"
   },
   "number_sections": true,
   "sideBar": true,
   "skip_h1_title": true,
   "title_cell": "Table of Contents",
   "title_sidebar": "Contents",
   "toc_cell": false,
   "toc_position": {},
   "toc_section_display": true,
   "toc_window_display": false
  }
 },
 "nbformat": 4,
 "nbformat_minor": 5
}
